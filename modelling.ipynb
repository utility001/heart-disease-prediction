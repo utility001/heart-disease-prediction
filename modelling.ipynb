{
 "cells": [
  {
   "cell_type": "markdown",
   "id": "7d07708e-66b0-427b-8c4b-f8b7f6f6a998",
   "metadata": {
    "jp-MarkdownHeadingCollapsed": true
   },
   "source": [
    "### Ingest"
   ]
  },
  {
   "cell_type": "code",
   "execution_count": 1,
   "id": "e4fd5243-025f-4c0a-8c89-8cfb55193235",
   "metadata": {},
   "outputs": [],
   "source": [
    "# Imports\n",
    "import numpy as np\n",
    "import pandas as pd\n",
    "import seaborn as sns\n",
    "import matplotlib.pyplot as plt\n",
    "\n",
    "from sklearn.model_selection import (\n",
    "    cross_val_score,\n",
    "    cross_val_predict,\n",
    "    train_test_split,\n",
    ")\n",
    "\n",
    "from sklearn.metrics import (\n",
    "    roc_curve,\n",
    "    precision_recall_curve,\n",
    "    confusion_matrix,\n",
    "    classification_report,\n",
    "    roc_auc_score\n",
    ")\n",
    "\n",
    "from sklearn.pipeline import Pipeline\n",
    "from sklearn.compose import ColumnTransformer\n",
    "from sklearn.preprocessing import OneHotEncoder, StandardScaler\n",
    "\n",
    "from sklearn.linear_model import LogisticRegression\n",
    "from sklearn.ensemble import GradientBoostingClassifier\n",
    "\n",
    "from catboost import CatBoostClassifier\n",
    "from sklearn.ensemble import RandomForestClassifier\n",
    "\n",
    "from ipywidgets import interact, widgets\n",
    "\n",
    "import pickle"
   ]
  },
  {
   "cell_type": "code",
   "execution_count": 2,
   "id": "832d357e-bc31-49f1-af61-d4a203b08963",
   "metadata": {},
   "outputs": [],
   "source": [
    "# This wrangle function contains all the transformations done in the EDA section\n",
    "def wrangle():\n",
    "    df = pd.read_csv(\"dataset/archive/heart.csv\")\n",
    "    # Train test split\n",
    "    df = df.drop_duplicates(keep='first')\n",
    "    # split into train and test set\n",
    "    train, test = train_test_split(df, test_size=0.2, random_state=42, stratify=df['target'])\n",
    "    # feature and label\n",
    "    target_col = 'target'\n",
    "    # split into feature and label\n",
    "    X_train  = train.drop(columns=['target'])\n",
    "    y_train = train['target']\n",
    "    X_test  = test.drop(columns=['target'])\n",
    "    y_test = test['target']\n",
    "    \n",
    "    return X_train, y_train, X_test, y_test"
   ]
  },
  {
   "cell_type": "code",
   "execution_count": 3,
   "id": "d8b7c5a4-21dc-44b3-bb25-4f755aafda95",
   "metadata": {},
   "outputs": [],
   "source": [
    "# Apply the wrangle function and get the train and test data\n",
    "X_train, y_train, X_test, y_test = wrangle()"
   ]
  },
  {
   "cell_type": "code",
   "execution_count": 4,
   "id": "cab0c63f-6bd9-40fe-bfe3-192e1da8e35e",
   "metadata": {},
   "outputs": [
    {
     "data": {
      "text/plain": [
       "((241, 13), (241,))"
      ]
     },
     "execution_count": 4,
     "metadata": {},
     "output_type": "execute_result"
    }
   ],
   "source": [
    "X_train.shape, y_train.shape"
   ]
  },
  {
   "cell_type": "code",
   "execution_count": 5,
   "id": "62b62a7b-742b-4f06-a2bc-d640a6e10fe6",
   "metadata": {},
   "outputs": [
    {
     "data": {
      "text/plain": [
       "((61, 13), (61,))"
      ]
     },
     "execution_count": 5,
     "metadata": {},
     "output_type": "execute_result"
    }
   ],
   "source": [
    "X_test.shape, y_test.shape"
   ]
  },
  {
   "cell_type": "markdown",
   "id": "2631fbf4-2ae6-481b-be45-c60e056d6e8f",
   "metadata": {
    "jp-MarkdownHeadingCollapsed": true
   },
   "source": [
    "### Preprocessing"
   ]
  },
  {
   "cell_type": "code",
   "execution_count": 6,
   "id": "cf7d8166-171d-413f-92e8-0963767dbfd3",
   "metadata": {},
   "outputs": [],
   "source": [
    "# colums whose unique values are greater than 2\n",
    "num_cols = [col for col in X_train.columns if X_train[col].nunique() > 2]\n",
    "# columns whose unique values are < or = 2\n",
    "cat_cols = [col for col in X_train.columns if X_train[col].nunique() <= 2]"
   ]
  },
  {
   "cell_type": "code",
   "execution_count": 7,
   "id": "a277e38d-cf9e-4ea7-97f8-c561ada8b78d",
   "metadata": {},
   "outputs": [
    {
     "data": {
      "text/plain": [
       "(['age',\n",
       "  'cp',\n",
       "  'trestbps',\n",
       "  'chol',\n",
       "  'restecg',\n",
       "  'thalach',\n",
       "  'oldpeak',\n",
       "  'slope',\n",
       "  'ca',\n",
       "  'thal'],\n",
       " ['sex', 'fbs', 'exang'])"
      ]
     },
     "execution_count": 7,
     "metadata": {},
     "output_type": "execute_result"
    }
   ],
   "source": [
    "num_cols, cat_cols"
   ]
  },
  {
   "cell_type": "markdown",
   "id": "a7a461a8-51a0-4fca-928a-a2a885473bb4",
   "metadata": {},
   "source": [
    "Note"
   ]
  },
  {
   "cell_type": "code",
   "execution_count": 8,
   "id": "a1ebe595-c19b-4ef9-8d26-05488c6cec30",
   "metadata": {},
   "outputs": [],
   "source": [
    "# Pipeline for numeric and categorical columns\n",
    "cat_pipeline = Pipeline([\n",
    "    ('onehot', OneHotEncoder(sparse_output=False)),\n",
    "])\n",
    "\n",
    "num_pipeline = Pipeline([\n",
    "    ('scaler', StandardScaler())\n",
    "])"
   ]
  },
  {
   "cell_type": "code",
   "execution_count": 9,
   "id": "1d77a725-d765-4e23-8cde-bc20081f1438",
   "metadata": {},
   "outputs": [],
   "source": [
    "# Combine the pipelines with column transformer\n",
    "preprocessing = ColumnTransformer(\n",
    "    [\n",
    "        ('num', num_pipeline, num_cols),\n",
    "        ('cats', cat_pipeline, cat_cols)\n",
    "    ]\n",
    ")"
   ]
  },
  {
   "cell_type": "code",
   "execution_count": 10,
   "id": "2570667f-8a2e-4078-b9c0-b8c77ea138d6",
   "metadata": {},
   "outputs": [],
   "source": [
    "# Test the preprocessing pipeline\n",
    "X_train_transformed = preprocessing.fit_transform(X_train)"
   ]
  },
  {
   "cell_type": "code",
   "execution_count": 11,
   "id": "dae2cbd3-dfd6-46d8-b797-8d3460712be4",
   "metadata": {},
   "outputs": [
    {
     "name": "stdout",
     "output_type": "stream",
     "text": [
      "The data was (241, 13) before transformation and (241, 16) after transformation\n"
     ]
    }
   ],
   "source": [
    "print(f\"The data was {X_train.shape} before transformation and {X_train_transformed.shape} after transformation\")"
   ]
  },
  {
   "cell_type": "markdown",
   "id": "c9e18af5-199e-4d4a-be5b-e9c46f4ef007",
   "metadata": {
    "jp-MarkdownHeadingCollapsed": true
   },
   "source": [
    "### Logistic regression"
   ]
  },
  {
   "cell_type": "code",
   "execution_count": 52,
   "id": "eadfdb31-a879-4cc3-b70d-1c75d7a3cd50",
   "metadata": {},
   "outputs": [],
   "source": [
    "# Logistic regression pipeline\n",
    "lr_pipeline = Pipeline([\n",
    "    ('prep', preprocessing),\n",
    "    ('logreg', LogisticRegression(random_state=42))\n",
    "])"
   ]
  },
  {
   "cell_type": "markdown",
   "id": "6dcbe620-a17a-4186-ac68-959843f99bb1",
   "metadata": {},
   "source": [
    "There is no validation set so we use cross validation"
   ]
  },
  {
   "cell_type": "code",
   "execution_count": 53,
   "id": "89dfb3b6-617e-49ed-931e-e6a8c3f60035",
   "metadata": {},
   "outputs": [
    {
     "data": {
      "text/plain": [
       "array([0.79591837, 0.77083333, 0.8125    , 0.875     , 0.89583333])"
      ]
     },
     "execution_count": 53,
     "metadata": {},
     "output_type": "execute_result"
    }
   ],
   "source": [
    "# Cross validation accuracies\n",
    "lr_cv_accs = cross_val_score(lr_pipeline, X_train, y_train, cv=5, n_jobs=-1)\n",
    "lr_cv_accs"
   ]
  },
  {
   "cell_type": "code",
   "execution_count": 54,
   "id": "1fc61a43-6380-48b9-be94-3f821ea6af35",
   "metadata": {},
   "outputs": [
    {
     "data": {
      "text/plain": [
       "count    5.000000\n",
       "mean     0.830017\n",
       "std      0.053215\n",
       "min      0.770833\n",
       "25%      0.795918\n",
       "50%      0.812500\n",
       "75%      0.875000\n",
       "max      0.895833\n",
       "dtype: float64"
      ]
     },
     "execution_count": 54,
     "metadata": {},
     "output_type": "execute_result"
    }
   ],
   "source": [
    "# Get the description of the cross validation\n",
    "lr_desc = pd.Series(lr_cv_accs).describe()\n",
    "lr_desc"
   ]
  },
  {
   "cell_type": "markdown",
   "id": "860a0d24-a853-47fe-a5a4-0a5a8bfb1b18",
   "metadata": {},
   "source": [
    "mean = 0.83 and sd = 0.05\n",
    "\n",
    "i.e our accuracy ranges from 78 - 88"
   ]
  },
  {
   "cell_type": "markdown",
   "id": "2b2b460f-1fdd-4fc9-98d6-c76316b4d0d3",
   "metadata": {
    "jp-MarkdownHeadingCollapsed": true
   },
   "source": [
    "### RandomForest"
   ]
  },
  {
   "cell_type": "code",
   "execution_count": 56,
   "id": "ac8623f0-d1a6-4914-a110-372baf3f7ace",
   "metadata": {},
   "outputs": [],
   "source": [
    "rfc_pipeline = Pipeline([\n",
    "    ('prep', preprocessing),\n",
    "    ('rfc', RandomForestClassifier())\n",
    "])"
   ]
  },
  {
   "cell_type": "code",
   "execution_count": 57,
   "id": "5194c3d3-0ab4-4dda-8b88-f60d569b2abf",
   "metadata": {},
   "outputs": [
    {
     "name": "stdout",
     "output_type": "stream",
     "text": [
      "CPU times: user 24.2 ms, sys: 4.03 ms, total: 28.2 ms\n",
      "Wall time: 649 ms\n"
     ]
    },
    {
     "data": {
      "text/plain": [
       "array([0.75510204, 0.79166667, 0.79166667, 0.89583333, 0.89583333])"
      ]
     },
     "execution_count": 57,
     "metadata": {},
     "output_type": "execute_result"
    }
   ],
   "source": [
    "%time rfc_cv_accs = cross_val_score(rfc_pipeline, X_train, y_train, cv=5, n_jobs=-1)\n",
    "rfc_cv_accs"
   ]
  },
  {
   "cell_type": "code",
   "execution_count": 59,
   "id": "75be8426-2f01-46eb-ad14-03b27cf5f22e",
   "metadata": {},
   "outputs": [
    {
     "data": {
      "text/plain": [
       "count    5.000000\n",
       "mean     0.826020\n",
       "std      0.065455\n",
       "min      0.755102\n",
       "25%      0.791667\n",
       "50%      0.791667\n",
       "75%      0.895833\n",
       "max      0.895833\n",
       "dtype: float64"
      ]
     },
     "execution_count": 59,
     "metadata": {},
     "output_type": "execute_result"
    }
   ],
   "source": [
    "rfc_desc = pd.Series(rfc_cv_accs).describe()\n",
    "rfc_desc"
   ]
  },
  {
   "cell_type": "markdown",
   "id": "21ef59d5-8a29-4013-9a92-7d9c36b1929f",
   "metadata": {},
   "source": [
    "mean = .82 -- std = 0.06 i.e accuracy ranges from 0.75 - 0.89"
   ]
  },
  {
   "cell_type": "markdown",
   "id": "bdd7f6a7-6d71-4b48-a9d7-2cddfc4fadbf",
   "metadata": {
    "jp-MarkdownHeadingCollapsed": true
   },
   "source": [
    "### catboost"
   ]
  },
  {
   "cell_type": "code",
   "execution_count": 20,
   "id": "32ea07e6-54a9-4571-bb4a-4359e5d71668",
   "metadata": {},
   "outputs": [],
   "source": [
    "cat_pipeline = Pipeline([\n",
    "    ('prep', preprocessing),\n",
    "    ('cat', CatBoostClassifier(verbose=0))\n",
    "])"
   ]
  },
  {
   "cell_type": "code",
   "execution_count": 21,
   "id": "744ade64-edcf-4b23-9ba4-9af1079f11b3",
   "metadata": {},
   "outputs": [
    {
     "name": "stdout",
     "output_type": "stream",
     "text": [
      "CPU times: user 38.8 ms, sys: 7.7 ms, total: 46.5 ms\n",
      "Wall time: 6.48 s\n"
     ]
    },
    {
     "data": {
      "text/plain": [
       "array([0.75510204, 0.8125    , 0.83333333, 0.875     , 0.85416667])"
      ]
     },
     "execution_count": 21,
     "metadata": {},
     "output_type": "execute_result"
    }
   ],
   "source": [
    "%time cat_cv_accs = cross_val_score(cat_pipeline, X_train, y_train, cv=5, n_jobs=-1)\n",
    "cat_cv_accs"
   ]
  },
  {
   "cell_type": "code",
   "execution_count": 22,
   "id": "f9dcdc88-f59e-40d1-a372-0f97c3944231",
   "metadata": {},
   "outputs": [
    {
     "data": {
      "text/plain": [
       "count    5.000000\n",
       "mean     0.826020\n",
       "std      0.045981\n",
       "min      0.755102\n",
       "25%      0.812500\n",
       "50%      0.833333\n",
       "75%      0.854167\n",
       "max      0.875000\n",
       "dtype: float64"
      ]
     },
     "execution_count": 22,
     "metadata": {},
     "output_type": "execute_result"
    }
   ],
   "source": [
    "cat_desc = pd.Series(cat_cv_accs).describe()\n",
    "cat_desc"
   ]
  },
  {
   "cell_type": "code",
   "execution_count": 23,
   "id": "7370b388-dd50-43f6-8ec8-23f3017c51cc",
   "metadata": {},
   "outputs": [
    {
     "data": {
      "text/html": [
       "<div>\n",
       "<style scoped>\n",
       "    .dataframe tbody tr th:only-of-type {\n",
       "        vertical-align: middle;\n",
       "    }\n",
       "\n",
       "    .dataframe tbody tr th {\n",
       "        vertical-align: top;\n",
       "    }\n",
       "\n",
       "    .dataframe thead th {\n",
       "        text-align: right;\n",
       "    }\n",
       "</style>\n",
       "<table border=\"1\" class=\"dataframe\">\n",
       "  <thead>\n",
       "    <tr style=\"text-align: right;\">\n",
       "      <th></th>\n",
       "      <th>log_reg</th>\n",
       "      <th>xg</th>\n",
       "      <th>cat</th>\n",
       "    </tr>\n",
       "  </thead>\n",
       "  <tbody>\n",
       "    <tr>\n",
       "      <th>count</th>\n",
       "      <td>5.000000</td>\n",
       "      <td>5.000000</td>\n",
       "      <td>5.000000</td>\n",
       "    </tr>\n",
       "    <tr>\n",
       "      <th>mean</th>\n",
       "      <td>0.830017</td>\n",
       "      <td>0.792687</td>\n",
       "      <td>0.826020</td>\n",
       "    </tr>\n",
       "    <tr>\n",
       "      <th>std</th>\n",
       "      <td>0.053215</td>\n",
       "      <td>0.037656</td>\n",
       "      <td>0.045981</td>\n",
       "    </tr>\n",
       "    <tr>\n",
       "      <th>min</th>\n",
       "      <td>0.770833</td>\n",
       "      <td>0.755102</td>\n",
       "      <td>0.755102</td>\n",
       "    </tr>\n",
       "    <tr>\n",
       "      <th>25%</th>\n",
       "      <td>0.795918</td>\n",
       "      <td>0.770833</td>\n",
       "      <td>0.812500</td>\n",
       "    </tr>\n",
       "    <tr>\n",
       "      <th>50%</th>\n",
       "      <td>0.812500</td>\n",
       "      <td>0.791667</td>\n",
       "      <td>0.833333</td>\n",
       "    </tr>\n",
       "    <tr>\n",
       "      <th>75%</th>\n",
       "      <td>0.875000</td>\n",
       "      <td>0.791667</td>\n",
       "      <td>0.854167</td>\n",
       "    </tr>\n",
       "    <tr>\n",
       "      <th>max</th>\n",
       "      <td>0.895833</td>\n",
       "      <td>0.854167</td>\n",
       "      <td>0.875000</td>\n",
       "    </tr>\n",
       "  </tbody>\n",
       "</table>\n",
       "</div>"
      ],
      "text/plain": [
       "        log_reg        xg       cat\n",
       "count  5.000000  5.000000  5.000000\n",
       "mean   0.830017  0.792687  0.826020\n",
       "std    0.053215  0.037656  0.045981\n",
       "min    0.770833  0.755102  0.755102\n",
       "25%    0.795918  0.770833  0.812500\n",
       "50%    0.812500  0.791667  0.833333\n",
       "75%    0.875000  0.791667  0.854167\n",
       "max    0.895833  0.854167  0.875000"
      ]
     },
     "execution_count": 23,
     "metadata": {},
     "output_type": "execute_result"
    }
   ],
   "source": [
    "pd.DataFrame({\n",
    "    'log_reg': lr_desc,\n",
    "    'xg': xg_desc,\n",
    "    'cat': cat_desc\n",
    "})"
   ]
  },
  {
   "cell_type": "markdown",
   "id": "07f86bd8-b654-4cce-b0e5-203f4194e0b9",
   "metadata": {},
   "source": [
    "The difference in their accuracies is trivial.\n",
    "xg boost has the lowest spread but it is the worse. catboost was best"
   ]
  },
  {
   "cell_type": "code",
   "execution_count": null,
   "id": "cfe27798-672b-4f69-8b98-0fada5d942d2",
   "metadata": {},
   "outputs": [],
   "source": []
  },
  {
   "cell_type": "markdown",
   "id": "325d67d0-8e39-47b0-a524-bd8f859bc0e7",
   "metadata": {
    "jp-MarkdownHeadingCollapsed": true
   },
   "source": [
    "### Fine tune Logistic regression"
   ]
  },
  {
   "cell_type": "code",
   "execution_count": 24,
   "id": "5690a99e-5431-4d25-9828-5470f3428273",
   "metadata": {},
   "outputs": [],
   "source": [
    "from sklearn.model_selection import GridSearchCV\n",
    "import numpy as np"
   ]
  },
  {
   "cell_type": "code",
   "execution_count": 25,
   "id": "11fddb47-0f6d-4c1e-997a-ca1aa77003be",
   "metadata": {},
   "outputs": [],
   "source": [
    "lr_grid_pipeline = Pipeline([\n",
    "    ('prep', preprocessing),\n",
    "    ('logreg', LogisticRegression(solver='saga', max_iter=500, random_state=42, n_jobs=-1))\n",
    "])"
   ]
  },
  {
   "cell_type": "code",
   "execution_count": 26,
   "id": "d58ddae2-e902-4a74-bbfa-800d80db0bab",
   "metadata": {},
   "outputs": [],
   "source": [
    "# # Get the list of parameters that are available for tuning\n",
    "# list(lr_grid_pipeline.get_params().keys())"
   ]
  },
  {
   "cell_type": "code",
   "execution_count": 27,
   "id": "705cf97c-211e-47cb-8d84-6de4338ef8e1",
   "metadata": {},
   "outputs": [],
   "source": [
    "lr_param_grid = [{\n",
    "    'logreg__penalty': ['elasticnet'],\n",
    "    'logreg__l1_ratio': [0.0, 0.2, 0.4, 0.6, 0.8, 1],\n",
    "    'logreg__C': [0.2, 0.4, 0.6, 0.8, 1]\n",
    "}]"
   ]
  },
  {
   "cell_type": "code",
   "execution_count": 28,
   "id": "5c54fd18-f8d8-4252-811b-fb2ec283a0cd",
   "metadata": {},
   "outputs": [],
   "source": [
    "lr_grid_search = GridSearchCV(\n",
    "    lr_grid_pipeline, \n",
    "    lr_param_grid, cv=5,\n",
    "    scoring='accuracy'\n",
    ")"
   ]
  },
  {
   "cell_type": "code",
   "execution_count": 29,
   "id": "6f9372f9-fa8d-4e95-9ff2-bf94c8baee8e",
   "metadata": {},
   "outputs": [
    {
     "name": "stdout",
     "output_type": "stream",
     "text": [
      "CPU times: user 4.23 s, sys: 168 ms, total: 4.4 s\n",
      "Wall time: 5.22 s\n"
     ]
    },
    {
     "data": {
      "text/html": [
       "<style>#sk-container-id-1 {color: black;}#sk-container-id-1 pre{padding: 0;}#sk-container-id-1 div.sk-toggleable {background-color: white;}#sk-container-id-1 label.sk-toggleable__label {cursor: pointer;display: block;width: 100%;margin-bottom: 0;padding: 0.3em;box-sizing: border-box;text-align: center;}#sk-container-id-1 label.sk-toggleable__label-arrow:before {content: \"▸\";float: left;margin-right: 0.25em;color: #696969;}#sk-container-id-1 label.sk-toggleable__label-arrow:hover:before {color: black;}#sk-container-id-1 div.sk-estimator:hover label.sk-toggleable__label-arrow:before {color: black;}#sk-container-id-1 div.sk-toggleable__content {max-height: 0;max-width: 0;overflow: hidden;text-align: left;background-color: #f0f8ff;}#sk-container-id-1 div.sk-toggleable__content pre {margin: 0.2em;color: black;border-radius: 0.25em;background-color: #f0f8ff;}#sk-container-id-1 input.sk-toggleable__control:checked~div.sk-toggleable__content {max-height: 200px;max-width: 100%;overflow: auto;}#sk-container-id-1 input.sk-toggleable__control:checked~label.sk-toggleable__label-arrow:before {content: \"▾\";}#sk-container-id-1 div.sk-estimator input.sk-toggleable__control:checked~label.sk-toggleable__label {background-color: #d4ebff;}#sk-container-id-1 div.sk-label input.sk-toggleable__control:checked~label.sk-toggleable__label {background-color: #d4ebff;}#sk-container-id-1 input.sk-hidden--visually {border: 0;clip: rect(1px 1px 1px 1px);clip: rect(1px, 1px, 1px, 1px);height: 1px;margin: -1px;overflow: hidden;padding: 0;position: absolute;width: 1px;}#sk-container-id-1 div.sk-estimator {font-family: monospace;background-color: #f0f8ff;border: 1px dotted black;border-radius: 0.25em;box-sizing: border-box;margin-bottom: 0.5em;}#sk-container-id-1 div.sk-estimator:hover {background-color: #d4ebff;}#sk-container-id-1 div.sk-parallel-item::after {content: \"\";width: 100%;border-bottom: 1px solid gray;flex-grow: 1;}#sk-container-id-1 div.sk-label:hover label.sk-toggleable__label {background-color: #d4ebff;}#sk-container-id-1 div.sk-serial::before {content: \"\";position: absolute;border-left: 1px solid gray;box-sizing: border-box;top: 0;bottom: 0;left: 50%;z-index: 0;}#sk-container-id-1 div.sk-serial {display: flex;flex-direction: column;align-items: center;background-color: white;padding-right: 0.2em;padding-left: 0.2em;position: relative;}#sk-container-id-1 div.sk-item {position: relative;z-index: 1;}#sk-container-id-1 div.sk-parallel {display: flex;align-items: stretch;justify-content: center;background-color: white;position: relative;}#sk-container-id-1 div.sk-item::before, #sk-container-id-1 div.sk-parallel-item::before {content: \"\";position: absolute;border-left: 1px solid gray;box-sizing: border-box;top: 0;bottom: 0;left: 50%;z-index: -1;}#sk-container-id-1 div.sk-parallel-item {display: flex;flex-direction: column;z-index: 1;position: relative;background-color: white;}#sk-container-id-1 div.sk-parallel-item:first-child::after {align-self: flex-end;width: 50%;}#sk-container-id-1 div.sk-parallel-item:last-child::after {align-self: flex-start;width: 50%;}#sk-container-id-1 div.sk-parallel-item:only-child::after {width: 0;}#sk-container-id-1 div.sk-dashed-wrapped {border: 1px dashed gray;margin: 0 0.4em 0.5em 0.4em;box-sizing: border-box;padding-bottom: 0.4em;background-color: white;}#sk-container-id-1 div.sk-label label {font-family: monospace;font-weight: bold;display: inline-block;line-height: 1.2em;}#sk-container-id-1 div.sk-label-container {text-align: center;}#sk-container-id-1 div.sk-container {/* jupyter's `normalize.less` sets `[hidden] { display: none; }` but bootstrap.min.css set `[hidden] { display: none !important; }` so we also need the `!important` here to be able to override the default hidden behavior on the sphinx rendered scikit-learn.org. See: https://github.com/scikit-learn/scikit-learn/issues/21755 */display: inline-block !important;position: relative;}#sk-container-id-1 div.sk-text-repr-fallback {display: none;}</style><div id=\"sk-container-id-1\" class=\"sk-top-container\"><div class=\"sk-text-repr-fallback\"><pre>GridSearchCV(cv=5,\n",
       "             estimator=Pipeline(steps=[(&#x27;prep&#x27;,\n",
       "                                        ColumnTransformer(transformers=[(&#x27;num&#x27;,\n",
       "                                                                         Pipeline(steps=[(&#x27;scaler&#x27;,\n",
       "                                                                                          StandardScaler())]),\n",
       "                                                                         [&#x27;age&#x27;,\n",
       "                                                                          &#x27;cp&#x27;,\n",
       "                                                                          &#x27;trestbps&#x27;,\n",
       "                                                                          &#x27;chol&#x27;,\n",
       "                                                                          &#x27;restecg&#x27;,\n",
       "                                                                          &#x27;thalach&#x27;,\n",
       "                                                                          &#x27;oldpeak&#x27;,\n",
       "                                                                          &#x27;slope&#x27;,\n",
       "                                                                          &#x27;ca&#x27;,\n",
       "                                                                          &#x27;thal&#x27;]),\n",
       "                                                                        (&#x27;cats&#x27;,\n",
       "                                                                         Pipeline(steps=[(&#x27;onehot&#x27;,\n",
       "                                                                                          OneHotEncoder(sparse_output=False))]),\n",
       "                                                                         [&#x27;sex&#x27;,\n",
       "                                                                          &#x27;fbs&#x27;,\n",
       "                                                                          &#x27;exang&#x27;])])),\n",
       "                                       (&#x27;logreg&#x27;,\n",
       "                                        LogisticRegression(max_iter=500,\n",
       "                                                           n_jobs=-1,\n",
       "                                                           random_state=42,\n",
       "                                                           solver=&#x27;saga&#x27;))]),\n",
       "             param_grid=[{&#x27;logreg__C&#x27;: [0.2, 0.4, 0.6, 0.8, 1],\n",
       "                          &#x27;logreg__l1_ratio&#x27;: [0.0, 0.2, 0.4, 0.6, 0.8, 1],\n",
       "                          &#x27;logreg__penalty&#x27;: [&#x27;elasticnet&#x27;]}],\n",
       "             scoring=&#x27;accuracy&#x27;)</pre><b>In a Jupyter environment, please rerun this cell to show the HTML representation or trust the notebook. <br />On GitHub, the HTML representation is unable to render, please try loading this page with nbviewer.org.</b></div><div class=\"sk-container\" hidden><div class=\"sk-item sk-dashed-wrapped\"><div class=\"sk-label-container\"><div class=\"sk-label sk-toggleable\"><input class=\"sk-toggleable__control sk-hidden--visually\" id=\"sk-estimator-id-1\" type=\"checkbox\" ><label for=\"sk-estimator-id-1\" class=\"sk-toggleable__label sk-toggleable__label-arrow\">GridSearchCV</label><div class=\"sk-toggleable__content\"><pre>GridSearchCV(cv=5,\n",
       "             estimator=Pipeline(steps=[(&#x27;prep&#x27;,\n",
       "                                        ColumnTransformer(transformers=[(&#x27;num&#x27;,\n",
       "                                                                         Pipeline(steps=[(&#x27;scaler&#x27;,\n",
       "                                                                                          StandardScaler())]),\n",
       "                                                                         [&#x27;age&#x27;,\n",
       "                                                                          &#x27;cp&#x27;,\n",
       "                                                                          &#x27;trestbps&#x27;,\n",
       "                                                                          &#x27;chol&#x27;,\n",
       "                                                                          &#x27;restecg&#x27;,\n",
       "                                                                          &#x27;thalach&#x27;,\n",
       "                                                                          &#x27;oldpeak&#x27;,\n",
       "                                                                          &#x27;slope&#x27;,\n",
       "                                                                          &#x27;ca&#x27;,\n",
       "                                                                          &#x27;thal&#x27;]),\n",
       "                                                                        (&#x27;cats&#x27;,\n",
       "                                                                         Pipeline(steps=[(&#x27;onehot&#x27;,\n",
       "                                                                                          OneHotEncoder(sparse_output=False))]),\n",
       "                                                                         [&#x27;sex&#x27;,\n",
       "                                                                          &#x27;fbs&#x27;,\n",
       "                                                                          &#x27;exang&#x27;])])),\n",
       "                                       (&#x27;logreg&#x27;,\n",
       "                                        LogisticRegression(max_iter=500,\n",
       "                                                           n_jobs=-1,\n",
       "                                                           random_state=42,\n",
       "                                                           solver=&#x27;saga&#x27;))]),\n",
       "             param_grid=[{&#x27;logreg__C&#x27;: [0.2, 0.4, 0.6, 0.8, 1],\n",
       "                          &#x27;logreg__l1_ratio&#x27;: [0.0, 0.2, 0.4, 0.6, 0.8, 1],\n",
       "                          &#x27;logreg__penalty&#x27;: [&#x27;elasticnet&#x27;]}],\n",
       "             scoring=&#x27;accuracy&#x27;)</pre></div></div></div><div class=\"sk-parallel\"><div class=\"sk-parallel-item\"><div class=\"sk-item\"><div class=\"sk-label-container\"><div class=\"sk-label sk-toggleable\"><input class=\"sk-toggleable__control sk-hidden--visually\" id=\"sk-estimator-id-2\" type=\"checkbox\" ><label for=\"sk-estimator-id-2\" class=\"sk-toggleable__label sk-toggleable__label-arrow\">estimator: Pipeline</label><div class=\"sk-toggleable__content\"><pre>Pipeline(steps=[(&#x27;prep&#x27;,\n",
       "                 ColumnTransformer(transformers=[(&#x27;num&#x27;,\n",
       "                                                  Pipeline(steps=[(&#x27;scaler&#x27;,\n",
       "                                                                   StandardScaler())]),\n",
       "                                                  [&#x27;age&#x27;, &#x27;cp&#x27;, &#x27;trestbps&#x27;,\n",
       "                                                   &#x27;chol&#x27;, &#x27;restecg&#x27;, &#x27;thalach&#x27;,\n",
       "                                                   &#x27;oldpeak&#x27;, &#x27;slope&#x27;, &#x27;ca&#x27;,\n",
       "                                                   &#x27;thal&#x27;]),\n",
       "                                                 (&#x27;cats&#x27;,\n",
       "                                                  Pipeline(steps=[(&#x27;onehot&#x27;,\n",
       "                                                                   OneHotEncoder(sparse_output=False))]),\n",
       "                                                  [&#x27;sex&#x27;, &#x27;fbs&#x27;, &#x27;exang&#x27;])])),\n",
       "                (&#x27;logreg&#x27;,\n",
       "                 LogisticRegression(max_iter=500, n_jobs=-1, random_state=42,\n",
       "                                    solver=&#x27;saga&#x27;))])</pre></div></div></div><div class=\"sk-serial\"><div class=\"sk-item\"><div class=\"sk-serial\"><div class=\"sk-item sk-dashed-wrapped\"><div class=\"sk-label-container\"><div class=\"sk-label sk-toggleable\"><input class=\"sk-toggleable__control sk-hidden--visually\" id=\"sk-estimator-id-3\" type=\"checkbox\" ><label for=\"sk-estimator-id-3\" class=\"sk-toggleable__label sk-toggleable__label-arrow\">prep: ColumnTransformer</label><div class=\"sk-toggleable__content\"><pre>ColumnTransformer(transformers=[(&#x27;num&#x27;,\n",
       "                                 Pipeline(steps=[(&#x27;scaler&#x27;, StandardScaler())]),\n",
       "                                 [&#x27;age&#x27;, &#x27;cp&#x27;, &#x27;trestbps&#x27;, &#x27;chol&#x27;, &#x27;restecg&#x27;,\n",
       "                                  &#x27;thalach&#x27;, &#x27;oldpeak&#x27;, &#x27;slope&#x27;, &#x27;ca&#x27;,\n",
       "                                  &#x27;thal&#x27;]),\n",
       "                                (&#x27;cats&#x27;,\n",
       "                                 Pipeline(steps=[(&#x27;onehot&#x27;,\n",
       "                                                  OneHotEncoder(sparse_output=False))]),\n",
       "                                 [&#x27;sex&#x27;, &#x27;fbs&#x27;, &#x27;exang&#x27;])])</pre></div></div></div><div class=\"sk-parallel\"><div class=\"sk-parallel-item\"><div class=\"sk-item\"><div class=\"sk-label-container\"><div class=\"sk-label sk-toggleable\"><input class=\"sk-toggleable__control sk-hidden--visually\" id=\"sk-estimator-id-4\" type=\"checkbox\" ><label for=\"sk-estimator-id-4\" class=\"sk-toggleable__label sk-toggleable__label-arrow\">num</label><div class=\"sk-toggleable__content\"><pre>[&#x27;age&#x27;, &#x27;cp&#x27;, &#x27;trestbps&#x27;, &#x27;chol&#x27;, &#x27;restecg&#x27;, &#x27;thalach&#x27;, &#x27;oldpeak&#x27;, &#x27;slope&#x27;, &#x27;ca&#x27;, &#x27;thal&#x27;]</pre></div></div></div><div class=\"sk-serial\"><div class=\"sk-item\"><div class=\"sk-serial\"><div class=\"sk-item\"><div class=\"sk-estimator sk-toggleable\"><input class=\"sk-toggleable__control sk-hidden--visually\" id=\"sk-estimator-id-5\" type=\"checkbox\" ><label for=\"sk-estimator-id-5\" class=\"sk-toggleable__label sk-toggleable__label-arrow\">StandardScaler</label><div class=\"sk-toggleable__content\"><pre>StandardScaler()</pre></div></div></div></div></div></div></div></div><div class=\"sk-parallel-item\"><div class=\"sk-item\"><div class=\"sk-label-container\"><div class=\"sk-label sk-toggleable\"><input class=\"sk-toggleable__control sk-hidden--visually\" id=\"sk-estimator-id-6\" type=\"checkbox\" ><label for=\"sk-estimator-id-6\" class=\"sk-toggleable__label sk-toggleable__label-arrow\">cats</label><div class=\"sk-toggleable__content\"><pre>[&#x27;sex&#x27;, &#x27;fbs&#x27;, &#x27;exang&#x27;]</pre></div></div></div><div class=\"sk-serial\"><div class=\"sk-item\"><div class=\"sk-serial\"><div class=\"sk-item\"><div class=\"sk-estimator sk-toggleable\"><input class=\"sk-toggleable__control sk-hidden--visually\" id=\"sk-estimator-id-7\" type=\"checkbox\" ><label for=\"sk-estimator-id-7\" class=\"sk-toggleable__label sk-toggleable__label-arrow\">OneHotEncoder</label><div class=\"sk-toggleable__content\"><pre>OneHotEncoder(sparse_output=False)</pre></div></div></div></div></div></div></div></div></div></div><div class=\"sk-item\"><div class=\"sk-estimator sk-toggleable\"><input class=\"sk-toggleable__control sk-hidden--visually\" id=\"sk-estimator-id-8\" type=\"checkbox\" ><label for=\"sk-estimator-id-8\" class=\"sk-toggleable__label sk-toggleable__label-arrow\">LogisticRegression</label><div class=\"sk-toggleable__content\"><pre>LogisticRegression(max_iter=500, n_jobs=-1, random_state=42, solver=&#x27;saga&#x27;)</pre></div></div></div></div></div></div></div></div></div></div></div></div>"
      ],
      "text/plain": [
       "GridSearchCV(cv=5,\n",
       "             estimator=Pipeline(steps=[('prep',\n",
       "                                        ColumnTransformer(transformers=[('num',\n",
       "                                                                         Pipeline(steps=[('scaler',\n",
       "                                                                                          StandardScaler())]),\n",
       "                                                                         ['age',\n",
       "                                                                          'cp',\n",
       "                                                                          'trestbps',\n",
       "                                                                          'chol',\n",
       "                                                                          'restecg',\n",
       "                                                                          'thalach',\n",
       "                                                                          'oldpeak',\n",
       "                                                                          'slope',\n",
       "                                                                          'ca',\n",
       "                                                                          'thal']),\n",
       "                                                                        ('cats',\n",
       "                                                                         Pipeline(steps=[('onehot',\n",
       "                                                                                          OneHotEncoder(sparse_output=False))]),\n",
       "                                                                         ['sex',\n",
       "                                                                          'fbs',\n",
       "                                                                          'exang'])])),\n",
       "                                       ('logreg',\n",
       "                                        LogisticRegression(max_iter=500,\n",
       "                                                           n_jobs=-1,\n",
       "                                                           random_state=42,\n",
       "                                                           solver='saga'))]),\n",
       "             param_grid=[{'logreg__C': [0.2, 0.4, 0.6, 0.8, 1],\n",
       "                          'logreg__l1_ratio': [0.0, 0.2, 0.4, 0.6, 0.8, 1],\n",
       "                          'logreg__penalty': ['elasticnet']}],\n",
       "             scoring='accuracy')"
      ]
     },
     "execution_count": 29,
     "metadata": {},
     "output_type": "execute_result"
    }
   ],
   "source": [
    "%time lr_grid_search.fit(X_train, y_train)"
   ]
  },
  {
   "cell_type": "code",
   "execution_count": 30,
   "id": "44722f03-05d7-4583-bd7c-f33e501f6394",
   "metadata": {},
   "outputs": [
    {
     "data": {
      "text/plain": [
       "{'logreg__C': 0.2, 'logreg__l1_ratio': 0.6, 'logreg__penalty': 'elasticnet'}"
      ]
     },
     "execution_count": 30,
     "metadata": {},
     "output_type": "execute_result"
    }
   ],
   "source": [
    "# Best parameters\n",
    "lr_grid_search.best_params_"
   ]
  },
  {
   "cell_type": "code",
   "execution_count": 31,
   "id": "752864e4-7c06-4deb-81ab-d257d4e10ca7",
   "metadata": {},
   "outputs": [
    {
     "data": {
      "text/plain": [
       "0.842517006802721"
      ]
     },
     "execution_count": 31,
     "metadata": {},
     "output_type": "execute_result"
    }
   ],
   "source": [
    "# The best score\n",
    "lr_grid_search.best_score_"
   ]
  },
  {
   "cell_type": "code",
   "execution_count": 32,
   "id": "e956a730-a63b-4cca-8bb2-b1a9466a14ca",
   "metadata": {},
   "outputs": [],
   "source": [
    "lr_cv_res = pd.DataFrame(lr_grid_search.cv_results_)\n",
    "lr_cv_res.sort_values(by=\"mean_test_score\", ascending=False, inplace=True)\n",
    "# lr_cv_res.head()"
   ]
  },
  {
   "cell_type": "code",
   "execution_count": 82,
   "id": "c28fdc02-3ad2-46ee-9509-afe259637ee1",
   "metadata": {},
   "outputs": [
    {
     "data": {
      "text/html": [
       "<div>\n",
       "<style scoped>\n",
       "    .dataframe tbody tr th:only-of-type {\n",
       "        vertical-align: middle;\n",
       "    }\n",
       "\n",
       "    .dataframe tbody tr th {\n",
       "        vertical-align: top;\n",
       "    }\n",
       "\n",
       "    .dataframe thead th {\n",
       "        text-align: right;\n",
       "    }\n",
       "</style>\n",
       "<table border=\"1\" class=\"dataframe\">\n",
       "  <thead>\n",
       "    <tr style=\"text-align: right;\">\n",
       "      <th></th>\n",
       "      <th>mean_fit_time</th>\n",
       "      <th>param_logreg__C</th>\n",
       "      <th>param_logreg__l1_ratio</th>\n",
       "      <th>param_logreg__penalty</th>\n",
       "      <th>split0_test_score</th>\n",
       "      <th>split1_test_score</th>\n",
       "      <th>split2_test_score</th>\n",
       "      <th>split3_test_score</th>\n",
       "      <th>split4_test_score</th>\n",
       "      <th>mean_test_score</th>\n",
       "      <th>std_test_score</th>\n",
       "    </tr>\n",
       "    <tr>\n",
       "      <th>rank_test_score</th>\n",
       "      <th></th>\n",
       "      <th></th>\n",
       "      <th></th>\n",
       "      <th></th>\n",
       "      <th></th>\n",
       "      <th></th>\n",
       "      <th></th>\n",
       "      <th></th>\n",
       "      <th></th>\n",
       "      <th></th>\n",
       "      <th></th>\n",
       "    </tr>\n",
       "  </thead>\n",
       "  <tbody>\n",
       "    <tr>\n",
       "      <th>1</th>\n",
       "      <td>0.026468</td>\n",
       "      <td>0.2</td>\n",
       "      <td>0.6</td>\n",
       "      <td>elasticnet</td>\n",
       "      <td>0.795918</td>\n",
       "      <td>0.812500</td>\n",
       "      <td>0.833333</td>\n",
       "      <td>0.875000</td>\n",
       "      <td>0.895833</td>\n",
       "      <td>0.842517</td>\n",
       "      <td>0.037562</td>\n",
       "    </tr>\n",
       "    <tr>\n",
       "      <th>2</th>\n",
       "      <td>0.023343</td>\n",
       "      <td>0.2</td>\n",
       "      <td>0.4</td>\n",
       "      <td>elasticnet</td>\n",
       "      <td>0.795918</td>\n",
       "      <td>0.812500</td>\n",
       "      <td>0.812500</td>\n",
       "      <td>0.875000</td>\n",
       "      <td>0.895833</td>\n",
       "      <td>0.838350</td>\n",
       "      <td>0.039457</td>\n",
       "    </tr>\n",
       "    <tr>\n",
       "      <th>2</th>\n",
       "      <td>0.028800</td>\n",
       "      <td>0.2</td>\n",
       "      <td>0.8</td>\n",
       "      <td>elasticnet</td>\n",
       "      <td>0.795918</td>\n",
       "      <td>0.812500</td>\n",
       "      <td>0.833333</td>\n",
       "      <td>0.854167</td>\n",
       "      <td>0.895833</td>\n",
       "      <td>0.838350</td>\n",
       "      <td>0.034780</td>\n",
       "    </tr>\n",
       "    <tr>\n",
       "      <th>4</th>\n",
       "      <td>0.058582</td>\n",
       "      <td>0.2</td>\n",
       "      <td>0.0</td>\n",
       "      <td>elasticnet</td>\n",
       "      <td>0.795918</td>\n",
       "      <td>0.791667</td>\n",
       "      <td>0.812500</td>\n",
       "      <td>0.875000</td>\n",
       "      <td>0.895833</td>\n",
       "      <td>0.834184</td>\n",
       "      <td>0.042916</td>\n",
       "    </tr>\n",
       "    <tr>\n",
       "      <th>4</th>\n",
       "      <td>0.027726</td>\n",
       "      <td>0.8</td>\n",
       "      <td>0.2</td>\n",
       "      <td>elasticnet</td>\n",
       "      <td>0.795918</td>\n",
       "      <td>0.791667</td>\n",
       "      <td>0.812500</td>\n",
       "      <td>0.875000</td>\n",
       "      <td>0.895833</td>\n",
       "      <td>0.834184</td>\n",
       "      <td>0.042916</td>\n",
       "    </tr>\n",
       "  </tbody>\n",
       "</table>\n",
       "</div>"
      ],
      "text/plain": [
       "                 mean_fit_time param_logreg__C param_logreg__l1_ratio  \\\n",
       "rank_test_score                                                         \n",
       "1                     0.026468             0.2                    0.6   \n",
       "2                     0.023343             0.2                    0.4   \n",
       "2                     0.028800             0.2                    0.8   \n",
       "4                     0.058582             0.2                    0.0   \n",
       "4                     0.027726             0.8                    0.2   \n",
       "\n",
       "                param_logreg__penalty  split0_test_score  split1_test_score  \\\n",
       "rank_test_score                                                               \n",
       "1                          elasticnet           0.795918           0.812500   \n",
       "2                          elasticnet           0.795918           0.812500   \n",
       "2                          elasticnet           0.795918           0.812500   \n",
       "4                          elasticnet           0.795918           0.791667   \n",
       "4                          elasticnet           0.795918           0.791667   \n",
       "\n",
       "                 split2_test_score  split3_test_score  split4_test_score  \\\n",
       "rank_test_score                                                            \n",
       "1                         0.833333           0.875000           0.895833   \n",
       "2                         0.812500           0.875000           0.895833   \n",
       "2                         0.833333           0.854167           0.895833   \n",
       "4                         0.812500           0.875000           0.895833   \n",
       "4                         0.812500           0.875000           0.895833   \n",
       "\n",
       "                 mean_test_score  std_test_score  \n",
       "rank_test_score                                   \n",
       "1                       0.842517        0.037562  \n",
       "2                       0.838350        0.039457  \n",
       "2                       0.838350        0.034780  \n",
       "4                       0.834184        0.042916  \n",
       "4                       0.834184        0.042916  "
      ]
     },
     "execution_count": 82,
     "metadata": {},
     "output_type": "execute_result"
    }
   ],
   "source": [
    "logistic_results = lr_cv_res.set_index(\"rank_test_score\").iloc[:, [0, 4, 5, 6, 8, 9, 10, 11, 12, 13, 14]]\n",
    "logistic_results.head()"
   ]
  },
  {
   "cell_type": "markdown",
   "id": "0da47b7e-3f03-43c9-a1f8-8ec1cefd5182",
   "metadata": {},
   "source": [
    "one point above, when trained mormally. The standard deviation is also reduced"
   ]
  },
  {
   "cell_type": "code",
   "execution_count": 34,
   "id": "dad739b5-621b-4287-a514-ce3304646e68",
   "metadata": {},
   "outputs": [],
   "source": [
    "# # Get the f1 socre\n",
    "# print(classification_report(lr_grid_search, X_train, y_train))"
   ]
  },
  {
   "cell_type": "markdown",
   "id": "4e5fdbf6-c508-442b-b510-c7d350cec501",
   "metadata": {
    "jp-MarkdownHeadingCollapsed": true
   },
   "source": [
    "### Fine tune catboost"
   ]
  },
  {
   "cell_type": "code",
   "execution_count": 35,
   "id": "b6186790-c85e-4826-a28e-4c8710c49458",
   "metadata": {},
   "outputs": [],
   "source": [
    "cat_grid_pipeline = Pipeline([\n",
    "    ('prep', preprocessing),\n",
    "    ('cat', CatBoostClassifier(verbose=0))\n",
    "])"
   ]
  },
  {
   "cell_type": "code",
   "execution_count": 36,
   "id": "44d57f3c-7b4e-46fc-8518-ad8b4975d81e",
   "metadata": {},
   "outputs": [],
   "source": [
    "# Get the list of parameters that are available for tuning\n",
    "# list(cat_grid_pipeline.get_params().keys())"
   ]
  },
  {
   "cell_type": "code",
   "execution_count": 54,
   "id": "effd4d54-1d33-4c99-be03-e94370fdf3bd",
   "metadata": {},
   "outputs": [],
   "source": [
    "cat_param_grid = [{\n",
    "    'cat__learning_rate': [None, 0.02, 0.03],\n",
    "    \"cat__depth\": [None, 6, 10],\n",
    "    \"cat__l2_leaf_reg\": [None, 2, 3]\n",
    "}]"
   ]
  },
  {
   "cell_type": "code",
   "execution_count": 55,
   "id": "9570b706-a859-4b68-9641-a165b9f6a6d2",
   "metadata": {},
   "outputs": [],
   "source": [
    "cat_grid_search = GridSearchCV(\n",
    "    cat_grid_pipeline, \n",
    "    cat_param_grid, cv=5,\n",
    "    scoring='accuracy'\n",
    ")"
   ]
  },
  {
   "cell_type": "code",
   "execution_count": 56,
   "id": "798efe99-a528-4a2a-a33e-48d8688f86d3",
   "metadata": {},
   "outputs": [
    {
     "name": "stdout",
     "output_type": "stream",
     "text": [
      "CPU times: user 16min 28s, sys: 2min 12s, total: 18min 41s\n",
      "Wall time: 6min 31s\n"
     ]
    },
    {
     "data": {
      "text/html": [
       "<style>#sk-container-id-4 {color: black;}#sk-container-id-4 pre{padding: 0;}#sk-container-id-4 div.sk-toggleable {background-color: white;}#sk-container-id-4 label.sk-toggleable__label {cursor: pointer;display: block;width: 100%;margin-bottom: 0;padding: 0.3em;box-sizing: border-box;text-align: center;}#sk-container-id-4 label.sk-toggleable__label-arrow:before {content: \"▸\";float: left;margin-right: 0.25em;color: #696969;}#sk-container-id-4 label.sk-toggleable__label-arrow:hover:before {color: black;}#sk-container-id-4 div.sk-estimator:hover label.sk-toggleable__label-arrow:before {color: black;}#sk-container-id-4 div.sk-toggleable__content {max-height: 0;max-width: 0;overflow: hidden;text-align: left;background-color: #f0f8ff;}#sk-container-id-4 div.sk-toggleable__content pre {margin: 0.2em;color: black;border-radius: 0.25em;background-color: #f0f8ff;}#sk-container-id-4 input.sk-toggleable__control:checked~div.sk-toggleable__content {max-height: 200px;max-width: 100%;overflow: auto;}#sk-container-id-4 input.sk-toggleable__control:checked~label.sk-toggleable__label-arrow:before {content: \"▾\";}#sk-container-id-4 div.sk-estimator input.sk-toggleable__control:checked~label.sk-toggleable__label {background-color: #d4ebff;}#sk-container-id-4 div.sk-label input.sk-toggleable__control:checked~label.sk-toggleable__label {background-color: #d4ebff;}#sk-container-id-4 input.sk-hidden--visually {border: 0;clip: rect(1px 1px 1px 1px);clip: rect(1px, 1px, 1px, 1px);height: 1px;margin: -1px;overflow: hidden;padding: 0;position: absolute;width: 1px;}#sk-container-id-4 div.sk-estimator {font-family: monospace;background-color: #f0f8ff;border: 1px dotted black;border-radius: 0.25em;box-sizing: border-box;margin-bottom: 0.5em;}#sk-container-id-4 div.sk-estimator:hover {background-color: #d4ebff;}#sk-container-id-4 div.sk-parallel-item::after {content: \"\";width: 100%;border-bottom: 1px solid gray;flex-grow: 1;}#sk-container-id-4 div.sk-label:hover label.sk-toggleable__label {background-color: #d4ebff;}#sk-container-id-4 div.sk-serial::before {content: \"\";position: absolute;border-left: 1px solid gray;box-sizing: border-box;top: 0;bottom: 0;left: 50%;z-index: 0;}#sk-container-id-4 div.sk-serial {display: flex;flex-direction: column;align-items: center;background-color: white;padding-right: 0.2em;padding-left: 0.2em;position: relative;}#sk-container-id-4 div.sk-item {position: relative;z-index: 1;}#sk-container-id-4 div.sk-parallel {display: flex;align-items: stretch;justify-content: center;background-color: white;position: relative;}#sk-container-id-4 div.sk-item::before, #sk-container-id-4 div.sk-parallel-item::before {content: \"\";position: absolute;border-left: 1px solid gray;box-sizing: border-box;top: 0;bottom: 0;left: 50%;z-index: -1;}#sk-container-id-4 div.sk-parallel-item {display: flex;flex-direction: column;z-index: 1;position: relative;background-color: white;}#sk-container-id-4 div.sk-parallel-item:first-child::after {align-self: flex-end;width: 50%;}#sk-container-id-4 div.sk-parallel-item:last-child::after {align-self: flex-start;width: 50%;}#sk-container-id-4 div.sk-parallel-item:only-child::after {width: 0;}#sk-container-id-4 div.sk-dashed-wrapped {border: 1px dashed gray;margin: 0 0.4em 0.5em 0.4em;box-sizing: border-box;padding-bottom: 0.4em;background-color: white;}#sk-container-id-4 div.sk-label label {font-family: monospace;font-weight: bold;display: inline-block;line-height: 1.2em;}#sk-container-id-4 div.sk-label-container {text-align: center;}#sk-container-id-4 div.sk-container {/* jupyter's `normalize.less` sets `[hidden] { display: none; }` but bootstrap.min.css set `[hidden] { display: none !important; }` so we also need the `!important` here to be able to override the default hidden behavior on the sphinx rendered scikit-learn.org. See: https://github.com/scikit-learn/scikit-learn/issues/21755 */display: inline-block !important;position: relative;}#sk-container-id-4 div.sk-text-repr-fallback {display: none;}</style><div id=\"sk-container-id-4\" class=\"sk-top-container\"><div class=\"sk-text-repr-fallback\"><pre>GridSearchCV(cv=5,\n",
       "             estimator=Pipeline(steps=[(&#x27;prep&#x27;,\n",
       "                                        ColumnTransformer(transformers=[(&#x27;num&#x27;,\n",
       "                                                                         Pipeline(steps=[(&#x27;scaler&#x27;,\n",
       "                                                                                          StandardScaler())]),\n",
       "                                                                         [&#x27;age&#x27;,\n",
       "                                                                          &#x27;cp&#x27;,\n",
       "                                                                          &#x27;trestbps&#x27;,\n",
       "                                                                          &#x27;chol&#x27;,\n",
       "                                                                          &#x27;restecg&#x27;,\n",
       "                                                                          &#x27;thalach&#x27;,\n",
       "                                                                          &#x27;oldpeak&#x27;,\n",
       "                                                                          &#x27;slope&#x27;,\n",
       "                                                                          &#x27;ca&#x27;,\n",
       "                                                                          &#x27;thal&#x27;]),\n",
       "                                                                        (&#x27;cats&#x27;,\n",
       "                                                                         Pipeline(steps=[(&#x27;onehot&#x27;,\n",
       "                                                                                          OneHotEncoder(sparse_output=False))]),\n",
       "                                                                         [&#x27;sex&#x27;,\n",
       "                                                                          &#x27;fbs&#x27;,\n",
       "                                                                          &#x27;exang&#x27;])])),\n",
       "                                       (&#x27;cat&#x27;,\n",
       "                                        &lt;catboost.core.CatBoostClassifier object at 0x7f778c6b6200&gt;)]),\n",
       "             param_grid=[{&#x27;cat__depth&#x27;: [None, 6, 10],\n",
       "                          &#x27;cat__l2_leaf_reg&#x27;: [None, 2, 3],\n",
       "                          &#x27;cat__learning_rate&#x27;: [None, 0.02, 0.03]}],\n",
       "             scoring=&#x27;accuracy&#x27;)</pre><b>In a Jupyter environment, please rerun this cell to show the HTML representation or trust the notebook. <br />On GitHub, the HTML representation is unable to render, please try loading this page with nbviewer.org.</b></div><div class=\"sk-container\" hidden><div class=\"sk-item sk-dashed-wrapped\"><div class=\"sk-label-container\"><div class=\"sk-label sk-toggleable\"><input class=\"sk-toggleable__control sk-hidden--visually\" id=\"sk-estimator-id-25\" type=\"checkbox\" ><label for=\"sk-estimator-id-25\" class=\"sk-toggleable__label sk-toggleable__label-arrow\">GridSearchCV</label><div class=\"sk-toggleable__content\"><pre>GridSearchCV(cv=5,\n",
       "             estimator=Pipeline(steps=[(&#x27;prep&#x27;,\n",
       "                                        ColumnTransformer(transformers=[(&#x27;num&#x27;,\n",
       "                                                                         Pipeline(steps=[(&#x27;scaler&#x27;,\n",
       "                                                                                          StandardScaler())]),\n",
       "                                                                         [&#x27;age&#x27;,\n",
       "                                                                          &#x27;cp&#x27;,\n",
       "                                                                          &#x27;trestbps&#x27;,\n",
       "                                                                          &#x27;chol&#x27;,\n",
       "                                                                          &#x27;restecg&#x27;,\n",
       "                                                                          &#x27;thalach&#x27;,\n",
       "                                                                          &#x27;oldpeak&#x27;,\n",
       "                                                                          &#x27;slope&#x27;,\n",
       "                                                                          &#x27;ca&#x27;,\n",
       "                                                                          &#x27;thal&#x27;]),\n",
       "                                                                        (&#x27;cats&#x27;,\n",
       "                                                                         Pipeline(steps=[(&#x27;onehot&#x27;,\n",
       "                                                                                          OneHotEncoder(sparse_output=False))]),\n",
       "                                                                         [&#x27;sex&#x27;,\n",
       "                                                                          &#x27;fbs&#x27;,\n",
       "                                                                          &#x27;exang&#x27;])])),\n",
       "                                       (&#x27;cat&#x27;,\n",
       "                                        &lt;catboost.core.CatBoostClassifier object at 0x7f778c6b6200&gt;)]),\n",
       "             param_grid=[{&#x27;cat__depth&#x27;: [None, 6, 10],\n",
       "                          &#x27;cat__l2_leaf_reg&#x27;: [None, 2, 3],\n",
       "                          &#x27;cat__learning_rate&#x27;: [None, 0.02, 0.03]}],\n",
       "             scoring=&#x27;accuracy&#x27;)</pre></div></div></div><div class=\"sk-parallel\"><div class=\"sk-parallel-item\"><div class=\"sk-item\"><div class=\"sk-label-container\"><div class=\"sk-label sk-toggleable\"><input class=\"sk-toggleable__control sk-hidden--visually\" id=\"sk-estimator-id-26\" type=\"checkbox\" ><label for=\"sk-estimator-id-26\" class=\"sk-toggleable__label sk-toggleable__label-arrow\">estimator: Pipeline</label><div class=\"sk-toggleable__content\"><pre>Pipeline(steps=[(&#x27;prep&#x27;,\n",
       "                 ColumnTransformer(transformers=[(&#x27;num&#x27;,\n",
       "                                                  Pipeline(steps=[(&#x27;scaler&#x27;,\n",
       "                                                                   StandardScaler())]),\n",
       "                                                  [&#x27;age&#x27;, &#x27;cp&#x27;, &#x27;trestbps&#x27;,\n",
       "                                                   &#x27;chol&#x27;, &#x27;restecg&#x27;, &#x27;thalach&#x27;,\n",
       "                                                   &#x27;oldpeak&#x27;, &#x27;slope&#x27;, &#x27;ca&#x27;,\n",
       "                                                   &#x27;thal&#x27;]),\n",
       "                                                 (&#x27;cats&#x27;,\n",
       "                                                  Pipeline(steps=[(&#x27;onehot&#x27;,\n",
       "                                                                   OneHotEncoder(sparse_output=False))]),\n",
       "                                                  [&#x27;sex&#x27;, &#x27;fbs&#x27;, &#x27;exang&#x27;])])),\n",
       "                (&#x27;cat&#x27;,\n",
       "                 &lt;catboost.core.CatBoostClassifier object at 0x7f778c6b6200&gt;)])</pre></div></div></div><div class=\"sk-serial\"><div class=\"sk-item\"><div class=\"sk-serial\"><div class=\"sk-item sk-dashed-wrapped\"><div class=\"sk-label-container\"><div class=\"sk-label sk-toggleable\"><input class=\"sk-toggleable__control sk-hidden--visually\" id=\"sk-estimator-id-27\" type=\"checkbox\" ><label for=\"sk-estimator-id-27\" class=\"sk-toggleable__label sk-toggleable__label-arrow\">prep: ColumnTransformer</label><div class=\"sk-toggleable__content\"><pre>ColumnTransformer(transformers=[(&#x27;num&#x27;,\n",
       "                                 Pipeline(steps=[(&#x27;scaler&#x27;, StandardScaler())]),\n",
       "                                 [&#x27;age&#x27;, &#x27;cp&#x27;, &#x27;trestbps&#x27;, &#x27;chol&#x27;, &#x27;restecg&#x27;,\n",
       "                                  &#x27;thalach&#x27;, &#x27;oldpeak&#x27;, &#x27;slope&#x27;, &#x27;ca&#x27;,\n",
       "                                  &#x27;thal&#x27;]),\n",
       "                                (&#x27;cats&#x27;,\n",
       "                                 Pipeline(steps=[(&#x27;onehot&#x27;,\n",
       "                                                  OneHotEncoder(sparse_output=False))]),\n",
       "                                 [&#x27;sex&#x27;, &#x27;fbs&#x27;, &#x27;exang&#x27;])])</pre></div></div></div><div class=\"sk-parallel\"><div class=\"sk-parallel-item\"><div class=\"sk-item\"><div class=\"sk-label-container\"><div class=\"sk-label sk-toggleable\"><input class=\"sk-toggleable__control sk-hidden--visually\" id=\"sk-estimator-id-28\" type=\"checkbox\" ><label for=\"sk-estimator-id-28\" class=\"sk-toggleable__label sk-toggleable__label-arrow\">num</label><div class=\"sk-toggleable__content\"><pre>[&#x27;age&#x27;, &#x27;cp&#x27;, &#x27;trestbps&#x27;, &#x27;chol&#x27;, &#x27;restecg&#x27;, &#x27;thalach&#x27;, &#x27;oldpeak&#x27;, &#x27;slope&#x27;, &#x27;ca&#x27;, &#x27;thal&#x27;]</pre></div></div></div><div class=\"sk-serial\"><div class=\"sk-item\"><div class=\"sk-serial\"><div class=\"sk-item\"><div class=\"sk-estimator sk-toggleable\"><input class=\"sk-toggleable__control sk-hidden--visually\" id=\"sk-estimator-id-29\" type=\"checkbox\" ><label for=\"sk-estimator-id-29\" class=\"sk-toggleable__label sk-toggleable__label-arrow\">StandardScaler</label><div class=\"sk-toggleable__content\"><pre>StandardScaler()</pre></div></div></div></div></div></div></div></div><div class=\"sk-parallel-item\"><div class=\"sk-item\"><div class=\"sk-label-container\"><div class=\"sk-label sk-toggleable\"><input class=\"sk-toggleable__control sk-hidden--visually\" id=\"sk-estimator-id-30\" type=\"checkbox\" ><label for=\"sk-estimator-id-30\" class=\"sk-toggleable__label sk-toggleable__label-arrow\">cats</label><div class=\"sk-toggleable__content\"><pre>[&#x27;sex&#x27;, &#x27;fbs&#x27;, &#x27;exang&#x27;]</pre></div></div></div><div class=\"sk-serial\"><div class=\"sk-item\"><div class=\"sk-serial\"><div class=\"sk-item\"><div class=\"sk-estimator sk-toggleable\"><input class=\"sk-toggleable__control sk-hidden--visually\" id=\"sk-estimator-id-31\" type=\"checkbox\" ><label for=\"sk-estimator-id-31\" class=\"sk-toggleable__label sk-toggleable__label-arrow\">OneHotEncoder</label><div class=\"sk-toggleable__content\"><pre>OneHotEncoder(sparse_output=False)</pre></div></div></div></div></div></div></div></div></div></div><div class=\"sk-item\"><div class=\"sk-estimator sk-toggleable\"><input class=\"sk-toggleable__control sk-hidden--visually\" id=\"sk-estimator-id-32\" type=\"checkbox\" ><label for=\"sk-estimator-id-32\" class=\"sk-toggleable__label sk-toggleable__label-arrow\">CatBoostClassifier</label><div class=\"sk-toggleable__content\"><pre>&lt;catboost.core.CatBoostClassifier object at 0x7f778c6b6200&gt;</pre></div></div></div></div></div></div></div></div></div></div></div></div>"
      ],
      "text/plain": [
       "GridSearchCV(cv=5,\n",
       "             estimator=Pipeline(steps=[('prep',\n",
       "                                        ColumnTransformer(transformers=[('num',\n",
       "                                                                         Pipeline(steps=[('scaler',\n",
       "                                                                                          StandardScaler())]),\n",
       "                                                                         ['age',\n",
       "                                                                          'cp',\n",
       "                                                                          'trestbps',\n",
       "                                                                          'chol',\n",
       "                                                                          'restecg',\n",
       "                                                                          'thalach',\n",
       "                                                                          'oldpeak',\n",
       "                                                                          'slope',\n",
       "                                                                          'ca',\n",
       "                                                                          'thal']),\n",
       "                                                                        ('cats',\n",
       "                                                                         Pipeline(steps=[('onehot',\n",
       "                                                                                          OneHotEncoder(sparse_output=False))]),\n",
       "                                                                         ['sex',\n",
       "                                                                          'fbs',\n",
       "                                                                          'exang'])])),\n",
       "                                       ('cat',\n",
       "                                        <catboost.core.CatBoostClassifier object at 0x7f778c6b6200>)]),\n",
       "             param_grid=[{'cat__depth': [None, 6, 10],\n",
       "                          'cat__l2_leaf_reg': [None, 2, 3],\n",
       "                          'cat__learning_rate': [None, 0.02, 0.03]}],\n",
       "             scoring='accuracy')"
      ]
     },
     "execution_count": 56,
     "metadata": {},
     "output_type": "execute_result"
    }
   ],
   "source": [
    "%time cat_grid_search.fit(X_train, y_train)"
   ]
  },
  {
   "cell_type": "code",
   "execution_count": 57,
   "id": "fe116ca9-18a3-439c-8255-c6e2d22343f3",
   "metadata": {},
   "outputs": [
    {
     "data": {
      "text/plain": [
       "{'cat__depth': None, 'cat__l2_leaf_reg': None, 'cat__learning_rate': None}"
      ]
     },
     "execution_count": 57,
     "metadata": {},
     "output_type": "execute_result"
    }
   ],
   "source": [
    "# Best parameters\n",
    "cat_grid_search.best_params_"
   ]
  },
  {
   "cell_type": "code",
   "execution_count": 58,
   "id": "b34d59eb-43b4-4cba-aefb-39c04ae17196",
   "metadata": {},
   "outputs": [
    {
     "data": {
      "text/plain": [
       "0.8260204081632653"
      ]
     },
     "execution_count": 58,
     "metadata": {},
     "output_type": "execute_result"
    }
   ],
   "source": [
    "# The best score\n",
    "cat_grid_search.best_score_"
   ]
  },
  {
   "cell_type": "code",
   "execution_count": 62,
   "id": "7913fca2-ddd3-428d-a55a-c0290fe85350",
   "metadata": {},
   "outputs": [],
   "source": [
    "cat_cv_res = pd.DataFrame(cat_grid_search.cv_results_)\n",
    "cat_cv_res.sort_values(by=\"mean_test_score\", ascending=False, inplace=True)\n",
    "# cat_cv_res.head()"
   ]
  },
  {
   "cell_type": "code",
   "execution_count": 69,
   "id": "ece80f65-aa6c-44aa-88f5-3e7ade74abe1",
   "metadata": {},
   "outputs": [
    {
     "data": {
      "text/html": [
       "<div>\n",
       "<style scoped>\n",
       "    .dataframe tbody tr th:only-of-type {\n",
       "        vertical-align: middle;\n",
       "    }\n",
       "\n",
       "    .dataframe tbody tr th {\n",
       "        vertical-align: top;\n",
       "    }\n",
       "\n",
       "    .dataframe thead th {\n",
       "        text-align: right;\n",
       "    }\n",
       "</style>\n",
       "<table border=\"1\" class=\"dataframe\">\n",
       "  <thead>\n",
       "    <tr style=\"text-align: right;\">\n",
       "      <th></th>\n",
       "      <th>mean_fit_time</th>\n",
       "      <th>param_cat__depth</th>\n",
       "      <th>param_cat__l2_leaf_reg</th>\n",
       "      <th>param_cat__learning_rate</th>\n",
       "      <th>split0_test_score</th>\n",
       "      <th>split1_test_score</th>\n",
       "      <th>split2_test_score</th>\n",
       "      <th>split3_test_score</th>\n",
       "      <th>split4_test_score</th>\n",
       "      <th>mean_test_score</th>\n",
       "      <th>std_test_score</th>\n",
       "    </tr>\n",
       "    <tr>\n",
       "      <th>rank_test_score</th>\n",
       "      <th></th>\n",
       "      <th></th>\n",
       "      <th></th>\n",
       "      <th></th>\n",
       "      <th></th>\n",
       "      <th></th>\n",
       "      <th></th>\n",
       "      <th></th>\n",
       "      <th></th>\n",
       "      <th></th>\n",
       "      <th></th>\n",
       "    </tr>\n",
       "  </thead>\n",
       "  <tbody>\n",
       "    <tr>\n",
       "      <th>1</th>\n",
       "      <td>1.298946</td>\n",
       "      <td>None</td>\n",
       "      <td>None</td>\n",
       "      <td>None</td>\n",
       "      <td>0.755102</td>\n",
       "      <td>0.812500</td>\n",
       "      <td>0.833333</td>\n",
       "      <td>0.875000</td>\n",
       "      <td>0.854167</td>\n",
       "      <td>0.826020</td>\n",
       "      <td>0.041126</td>\n",
       "    </tr>\n",
       "    <tr>\n",
       "      <th>1</th>\n",
       "      <td>1.336165</td>\n",
       "      <td>6</td>\n",
       "      <td>None</td>\n",
       "      <td>None</td>\n",
       "      <td>0.755102</td>\n",
       "      <td>0.812500</td>\n",
       "      <td>0.833333</td>\n",
       "      <td>0.875000</td>\n",
       "      <td>0.854167</td>\n",
       "      <td>0.826020</td>\n",
       "      <td>0.041126</td>\n",
       "    </tr>\n",
       "    <tr>\n",
       "      <th>3</th>\n",
       "      <td>5.520011</td>\n",
       "      <td>10</td>\n",
       "      <td>None</td>\n",
       "      <td>None</td>\n",
       "      <td>0.775510</td>\n",
       "      <td>0.812500</td>\n",
       "      <td>0.791667</td>\n",
       "      <td>0.854167</td>\n",
       "      <td>0.875000</td>\n",
       "      <td>0.821769</td>\n",
       "      <td>0.037457</td>\n",
       "    </tr>\n",
       "    <tr>\n",
       "      <th>4</th>\n",
       "      <td>6.073678</td>\n",
       "      <td>10</td>\n",
       "      <td>3</td>\n",
       "      <td>0.02</td>\n",
       "      <td>0.775510</td>\n",
       "      <td>0.791667</td>\n",
       "      <td>0.791667</td>\n",
       "      <td>0.854167</td>\n",
       "      <td>0.875000</td>\n",
       "      <td>0.817602</td>\n",
       "      <td>0.039366</td>\n",
       "    </tr>\n",
       "    <tr>\n",
       "      <th>4</th>\n",
       "      <td>5.910217</td>\n",
       "      <td>10</td>\n",
       "      <td>None</td>\n",
       "      <td>0.02</td>\n",
       "      <td>0.775510</td>\n",
       "      <td>0.791667</td>\n",
       "      <td>0.791667</td>\n",
       "      <td>0.854167</td>\n",
       "      <td>0.875000</td>\n",
       "      <td>0.817602</td>\n",
       "      <td>0.039366</td>\n",
       "    </tr>\n",
       "  </tbody>\n",
       "</table>\n",
       "</div>"
      ],
      "text/plain": [
       "                 mean_fit_time param_cat__depth param_cat__l2_leaf_reg  \\\n",
       "rank_test_score                                                          \n",
       "1                     1.298946             None                   None   \n",
       "1                     1.336165                6                   None   \n",
       "3                     5.520011               10                   None   \n",
       "4                     6.073678               10                      3   \n",
       "4                     5.910217               10                   None   \n",
       "\n",
       "                param_cat__learning_rate  split0_test_score  \\\n",
       "rank_test_score                                               \n",
       "1                                   None           0.755102   \n",
       "1                                   None           0.755102   \n",
       "3                                   None           0.775510   \n",
       "4                                   0.02           0.775510   \n",
       "4                                   0.02           0.775510   \n",
       "\n",
       "                 split1_test_score  split2_test_score  split3_test_score  \\\n",
       "rank_test_score                                                            \n",
       "1                         0.812500           0.833333           0.875000   \n",
       "1                         0.812500           0.833333           0.875000   \n",
       "3                         0.812500           0.791667           0.854167   \n",
       "4                         0.791667           0.791667           0.854167   \n",
       "4                         0.791667           0.791667           0.854167   \n",
       "\n",
       "                 split4_test_score  mean_test_score  std_test_score  \n",
       "rank_test_score                                                      \n",
       "1                         0.854167         0.826020        0.041126  \n",
       "1                         0.854167         0.826020        0.041126  \n",
       "3                         0.875000         0.821769        0.037457  \n",
       "4                         0.875000         0.817602        0.039366  \n",
       "4                         0.875000         0.817602        0.039366  "
      ]
     },
     "execution_count": 69,
     "metadata": {},
     "output_type": "execute_result"
    }
   ],
   "source": [
    "catboost_results = cat_cv_res.set_index(\"rank_test_score\").iloc[:, [0, 4, 5, 6, 8, 9, 10, 11, 12, 13, 14]]\n",
    "catboost_results.head()"
   ]
  },
  {
   "cell_type": "markdown",
   "id": "6be6759d-cbde-43e1-9336-197cec805d84",
   "metadata": {},
   "source": [
    "Apparently, the default values is okay"
   ]
  },
  {
   "cell_type": "code",
   "execution_count": 67,
   "id": "5b160c47-0ece-4657-98fc-5bbce70c0de5",
   "metadata": {},
   "outputs": [
    {
     "data": {
      "text/plain": [
       "mean_fit_time               0.026468\n",
       "param_logreg__C                  0.2\n",
       "param_logreg__l1_ratio           0.6\n",
       "param_logreg__penalty     elasticnet\n",
       "split0_test_score           0.795918\n",
       "split1_test_score             0.8125\n",
       "split2_test_score           0.833333\n",
       "split3_test_score              0.875\n",
       "split4_test_score           0.895833\n",
       "mean_test_score             0.842517\n",
       "std_test_score              0.037562\n",
       "Name: 1, dtype: object"
      ]
     },
     "execution_count": 67,
     "metadata": {},
     "output_type": "execute_result"
    }
   ],
   "source": [
    "logistic_results.iloc[0]"
   ]
  },
  {
   "cell_type": "code",
   "execution_count": 70,
   "id": "f26f9a1d-0a8c-4b41-81b8-d3f4ae7e8903",
   "metadata": {},
   "outputs": [
    {
     "data": {
      "text/plain": [
       "mean_fit_time               1.298946\n",
       "param_cat__depth                None\n",
       "param_cat__l2_leaf_reg          None\n",
       "param_cat__learning_rate        None\n",
       "split0_test_score           0.755102\n",
       "split1_test_score             0.8125\n",
       "split2_test_score           0.833333\n",
       "split3_test_score              0.875\n",
       "split4_test_score           0.854167\n",
       "mean_test_score              0.82602\n",
       "std_test_score              0.041126\n",
       "Name: 1, dtype: object"
      ]
     },
     "execution_count": 70,
     "metadata": {},
     "output_type": "execute_result"
    }
   ],
   "source": [
    "catboost_results.iloc[0]"
   ]
  },
  {
   "cell_type": "code",
   "execution_count": null,
   "id": "ef66b3ea-fb24-48a9-b6d1-b5f5bb92bb9a",
   "metadata": {},
   "outputs": [],
   "source": []
  },
  {
   "cell_type": "markdown",
   "id": "ee3ff037-daa5-46db-a24e-41fa7409bfe4",
   "metadata": {},
   "source": [
    "Logistic regression gave the best results"
   ]
  },
  {
   "cell_type": "markdown",
   "id": "d34f4883-0463-4dc7-b711-84db7f75b99c",
   "metadata": {
    "jp-MarkdownHeadingCollapsed": true
   },
   "source": [
    "### Best model - Logistic Regresssion"
   ]
  },
  {
   "cell_type": "code",
   "execution_count": 12,
   "id": "8ec7501d-c97e-4b7b-a3a2-a4a923426db5",
   "metadata": {},
   "outputs": [],
   "source": [
    "# Pipeline\n",
    "final_model = Pipeline([\n",
    "    ('prep', preprocessing),\n",
    "    ('logreg', LogisticRegression(solver='saga', \n",
    "                                  max_iter=500, \n",
    "                                  C=0.2,\n",
    "                                  l1_ratio=0.6,\n",
    "                                  penalty='elasticnet',\n",
    "                                  random_state=42, \n",
    "                                  n_jobs=-1))\n",
    "])"
   ]
  },
  {
   "cell_type": "code",
   "execution_count": 13,
   "id": "eb1fa253-841a-4fb5-9c5c-8faf169b1188",
   "metadata": {},
   "outputs": [
    {
     "data": {
      "text/plain": [
       "array([1, 0, 0, 0, 1])"
      ]
     },
     "execution_count": 13,
     "metadata": {},
     "output_type": "execute_result"
    }
   ],
   "source": [
    "# Get the teh predictions\n",
    "final_model_preds = cross_val_predict(final_model, X_train, y_train, cv=5)\n",
    "final_model_preds[:5]"
   ]
  },
  {
   "cell_type": "code",
   "execution_count": 14,
   "id": "23704cb5-b9a0-4e0a-b659-010553f63ef8",
   "metadata": {},
   "outputs": [
    {
     "name": "stdout",
     "output_type": "stream",
     "text": [
      "              precision    recall  f1-score   support\n",
      "\n",
      "           0       0.88      0.76      0.82       110\n",
      "           1       0.82      0.91      0.86       131\n",
      "\n",
      "    accuracy                           0.84       241\n",
      "   macro avg       0.85      0.84      0.84       241\n",
      "weighted avg       0.85      0.84      0.84       241\n",
      "\n"
     ]
    }
   ],
   "source": [
    "print(classification_report(y_train, final_model_preds))"
   ]
  },
  {
   "cell_type": "code",
   "execution_count": 15,
   "id": "8788de97-ffb4-4a7c-ae66-d193d267ad6c",
   "metadata": {},
   "outputs": [],
   "source": [
    "# Define a function to plot confusion matrix\n",
    "def conf_mat(true, pred, figsize=(5, 3)):\n",
    "    \"\"\"\n",
    "    Generate confusion matrix from predictions\n",
    "    \"\"\"\n",
    "    plt.figure(figsize=figsize)\n",
    "    cm = confusion_matrix(true, pred)\n",
    "    sns.heatmap(cm, annot=True, fmt='d', cmap='viridis')\n",
    "    plt.xlabel(\"Predicted label\")\n",
    "    plt.ylabel('True label')\n",
    "    plt.title('confusion matrix')\n",
    "    return plt.show();"
   ]
  },
  {
   "cell_type": "code",
   "execution_count": 16,
   "id": "c64a677d-a996-4573-89f6-b2d68d0ab1d7",
   "metadata": {},
   "outputs": [
    {
     "data": {
      "image/png": "[encoded data removed]",
      "text/plain": [
       "<Figure size 500x300 with 2 Axes>"
      ]
     },
     "metadata": {},
     "output_type": "display_data"
    }
   ],
   "source": [
    "# Get the confusion matrix\n",
    "conf_mat(y_train, final_model_preds)"
   ]
  },
  {
   "cell_type": "code",
   "execution_count": 17,
   "id": "ad580726-3c55-4615-97d6-dea02ee8ef0d",
   "metadata": {},
   "outputs": [
    {
     "data": {
      "text/plain": [
       "target\n",
       "1    131\n",
       "0    110\n",
       "Name: count, dtype: int64"
      ]
     },
     "execution_count": 17,
     "metadata": {},
     "output_type": "execute_result"
    }
   ],
   "source": [
    "y_train.value_counts()"
   ]
  },
  {
   "cell_type": "markdown",
   "id": "5b9cabc2-8d41-485b-99c4-e27e29dccb72",
   "metadata": {},
   "source": [
    "Because we are predicting diabetes, we need to prioritize recall over precision\n",
    "\n",
    "better to misclassify someone without diabetes to to misclassify someone with diabetes. \n",
    "We are talking about lives here\n",
    "\n",
    "If someone without diabetes was misclassified, further tests will reveal the truth"
   ]
  },
  {
   "cell_type": "code",
   "execution_count": 18,
   "id": "4919ae64-e5c7-4d0f-815e-4afed0a691d7",
   "metadata": {},
   "outputs": [],
   "source": [
    "# Get the prediction probabilities\n",
    "final_pred_probas = cross_val_predict(final_model, X_train, y_train, cv=5, method=\"predict_proba\")"
   ]
  },
  {
   "cell_type": "code",
   "execution_count": 19,
   "id": "5c51f339-192e-4ac1-90ad-730313e4251e",
   "metadata": {},
   "outputs": [
    {
     "data": {
      "text/plain": [
       "array([[0.28700261, 0.71299739],\n",
       "       [0.6629552 , 0.3370448 ],\n",
       "       [0.82207576, 0.17792424],\n",
       "       [0.94438592, 0.05561408],\n",
       "       [0.0763279 , 0.9236721 ]])"
      ]
     },
     "execution_count": 19,
     "metadata": {},
     "output_type": "execute_result"
    }
   ],
   "source": [
    "final_pred_probas[:5]"
   ]
  },
  {
   "cell_type": "code",
   "execution_count": 20,
   "id": "1ff136e8-653d-4f90-931a-0e883089c352",
   "metadata": {},
   "outputs": [
    {
     "data": {
      "text/plain": [
       "array([0.71299739, 0.3370448 , 0.17792424, 0.05561408, 0.9236721 ])"
      ]
     },
     "execution_count": 20,
     "metadata": {},
     "output_type": "execute_result"
    }
   ],
   "source": [
    "# Get the true preds\n",
    "final_pred_probas_1 = final_pred_probas[:, 1]\n",
    "final_pred_probas_1[:5]"
   ]
  },
  {
   "cell_type": "code",
   "execution_count": 21,
   "id": "8ca4391b-8094-4320-9768-2f18e6408203",
   "metadata": {},
   "outputs": [],
   "source": [
    "# Get the precision and recall at all possible thresholds\n",
    "precisions, recalls, thresholds = precision_recall_curve(y_true=y_train, probas_pred=final_pred_probas_1)"
   ]
  },
  {
   "cell_type": "code",
   "execution_count": 22,
   "id": "32fcba30-7d17-40b2-b191-8e77eced9151",
   "metadata": {},
   "outputs": [
    {
     "data": {
      "text/plain": [
       "array([0.54356846, 0.54583333, 0.54811715, 0.55042017, 0.55274262,\n",
       "       0.55508475, 0.55744681, 0.55982906, 0.56223176, 0.56465517,\n",
       "       0.56709957, 0.56956522, 0.5720524 , 0.5745614 , 0.57709251])"
      ]
     },
     "execution_count": 22,
     "metadata": {},
     "output_type": "execute_result"
    }
   ],
   "source": [
    "precisions[:15]  # Remember precision starts off low"
   ]
  },
  {
   "cell_type": "code",
   "execution_count": 23,
   "id": "6ef5a784-3652-415b-a604-1fb17f24fec0",
   "metadata": {},
   "outputs": [
    {
     "data": {
      "text/plain": [
       "array([1., 1., 1., 1., 1., 1., 1., 1., 1., 1., 1., 1., 1., 1., 1.])"
      ]
     },
     "execution_count": 23,
     "metadata": {},
     "output_type": "execute_result"
    }
   ],
   "source": [
    "recalls[:15]  # Recall start of high"
   ]
  },
  {
   "cell_type": "code",
   "execution_count": 24,
   "id": "e4a05d2d-99e2-4b1a-a9b9-1e376b700746",
   "metadata": {},
   "outputs": [
    {
     "data": {
      "text/plain": [
       "array([0.00763775, 0.01146995, 0.01514261, 0.02288012, 0.02316686,\n",
       "       0.02432469, 0.02744764, 0.02797292, 0.03330604, 0.0360111 ,\n",
       "       0.03822639, 0.03861739, 0.03904131, 0.04049793, 0.04133717])"
      ]
     },
     "execution_count": 24,
     "metadata": {},
     "output_type": "execute_result"
    }
   ],
   "source": [
    "thresholds[:15]  # the threshold has been arranged from the lowest to the highest value"
   ]
  },
  {
   "cell_type": "markdown",
   "id": "001d19cf-120e-42c5-91bc-1f60f11d388f",
   "metadata": {},
   "source": [
    "Pr curve is not useful in this dataset. the data is relatively balanced"
   ]
  },
  {
   "cell_type": "code",
   "execution_count": 25,
   "id": "87bf8a01-e33e-4d58-a1e9-57b6f83e02d1",
   "metadata": {},
   "outputs": [
    {
     "data": {
      "application/vnd.jupyter.widget-view+json": {
       "model_id": "edfc91ad93454f8f906c4f1868e59403",
       "version_major": 2,
       "version_minor": 0
      },
      "text/plain": [
       "interactive(children=(FloatSlider(value=0.5, description='threshold', max=1.0, step=0.05), Output()), _dom_cla…"
      ]
     },
     "metadata": {},
     "output_type": "display_data"
    }
   ],
   "source": [
    "# Create an interactive plot to visualize change in threshold values\n",
    "def make_cnf_matrix(threshold):\n",
    "    final_pred_probas = cross_val_predict(final_model, X_train, y_train, cv=5, method=\"predict_proba\")\n",
    "    pred_probas = final_pred_probas[:, 1]\n",
    "    y_pred = pred_probas > threshold\n",
    "    \n",
    "    fig, axes = plt.subplots(1, 2, figsize=(12, 4))\n",
    "\n",
    "    # Classification report\n",
    "    print(classification_report(y_train, y_pred))\n",
    "    print(f\"Roc Auc score: {roc_auc_score(y_train, y_pred)}\")\n",
    "    \n",
    "    # Plot confusion matrix\n",
    "    ax1 = axes[0]\n",
    "    conf_mat = confusion_matrix(y_train, y_pred)\n",
    "    sns.heatmap(conf_mat, annot=True, fmt='d', cmap='viridis', cbar=False, ax=ax1)\n",
    "    ax1.set_xlabel('Predicted labels')\n",
    "    ax1.set_ylabel('True labels')\n",
    "    ax1.set_title('Confusion Matrix')\n",
    "\n",
    "    # Plot precision-recall curve\n",
    "    ax2 = axes[1]\n",
    "    \n",
    "    fpr, tpr, thresholds = roc_curve(y_train, pred_probas)\n",
    "    ax2.plot(fpr, tpr)\n",
    "    \n",
    "    idx = (thresholds <= threshold).argmax()\n",
    "    ax2.plot([fpr[idx]], [tpr[idx]], \"ko\", label=f\"Point at {threshold} threshold\")\n",
    "    ax2.plot([fpr[idx], fpr[idx]], [0, tpr[idx]], \"k:\")\n",
    "    ax2.plot([0.0, fpr[idx]], [tpr[idx], tpr[idx]], \"k:\")\n",
    "\n",
    "    ax2.set_xticks(np.arange(0, 1.1, 0.1))\n",
    "    ax2.set_yticks(np.arange(0, 1.1, 0.1))\n",
    "    ax2.set_xlabel('False Positive Rate (Fall-Out)')\n",
    "    ax2.set_ylabel('True Positive Rate (Recall)')\n",
    "    ax2.legend(loc=\"lower right\")\n",
    "    ax2.set_title('FPR vs TPR')\n",
    "\n",
    "    plt.tight_layout()\n",
    "    plt.show()\n",
    "\n",
    "thresh_widget = widgets.FloatSlider(min=0, max=1, value=0.5, step=0.05)\n",
    "\n",
    "interact(make_cnf_matrix, threshold=thresh_widget);\n"
   ]
  },
  {
   "cell_type": "markdown",
   "id": "9b22a0d5-533b-4e0f-befe-2b24fc4aa019",
   "metadata": {},
   "source": [
    "Im settling for 0.4 threshold value"
   ]
  },
  {
   "cell_type": "code",
   "execution_count": null,
   "id": "18335521-49b2-4620-9ce7-950c005d99c8",
   "metadata": {},
   "outputs": [],
   "source": []
  },
  {
   "cell_type": "code",
   "execution_count": 26,
   "id": "d364b34b-8120-4ff7-b543-f8a74fbd9a34",
   "metadata": {},
   "outputs": [
    {
     "data": {
      "text/html": [
       "<style>#sk-container-id-1 {color: black;}#sk-container-id-1 pre{padding: 0;}#sk-container-id-1 div.sk-toggleable {background-color: white;}#sk-container-id-1 label.sk-toggleable__label {cursor: pointer;display: block;width: 100%;margin-bottom: 0;padding: 0.3em;box-sizing: border-box;text-align: center;}#sk-container-id-1 label.sk-toggleable__label-arrow:before {content: \"▸\";float: left;margin-right: 0.25em;color: #696969;}#sk-container-id-1 label.sk-toggleable__label-arrow:hover:before {color: black;}#sk-container-id-1 div.sk-estimator:hover label.sk-toggleable__label-arrow:before {color: black;}#sk-container-id-1 div.sk-toggleable__content {max-height: 0;max-width: 0;overflow: hidden;text-align: left;background-color: #f0f8ff;}#sk-container-id-1 div.sk-toggleable__content pre {margin: 0.2em;color: black;border-radius: 0.25em;background-color: #f0f8ff;}#sk-container-id-1 input.sk-toggleable__control:checked~div.sk-toggleable__content {max-height: 200px;max-width: 100%;overflow: auto;}#sk-container-id-1 input.sk-toggleable__control:checked~label.sk-toggleable__label-arrow:before {content: \"▾\";}#sk-container-id-1 div.sk-estimator input.sk-toggleable__control:checked~label.sk-toggleable__label {background-color: #d4ebff;}#sk-container-id-1 div.sk-label input.sk-toggleable__control:checked~label.sk-toggleable__label {background-color: #d4ebff;}#sk-container-id-1 input.sk-hidden--visually {border: 0;clip: rect(1px 1px 1px 1px);clip: rect(1px, 1px, 1px, 1px);height: 1px;margin: -1px;overflow: hidden;padding: 0;position: absolute;width: 1px;}#sk-container-id-1 div.sk-estimator {font-family: monospace;background-color: #f0f8ff;border: 1px dotted black;border-radius: 0.25em;box-sizing: border-box;margin-bottom: 0.5em;}#sk-container-id-1 div.sk-estimator:hover {background-color: #d4ebff;}#sk-container-id-1 div.sk-parallel-item::after {content: \"\";width: 100%;border-bottom: 1px solid gray;flex-grow: 1;}#sk-container-id-1 div.sk-label:hover label.sk-toggleable__label {background-color: #d4ebff;}#sk-container-id-1 div.sk-serial::before {content: \"\";position: absolute;border-left: 1px solid gray;box-sizing: border-box;top: 0;bottom: 0;left: 50%;z-index: 0;}#sk-container-id-1 div.sk-serial {display: flex;flex-direction: column;align-items: center;background-color: white;padding-right: 0.2em;padding-left: 0.2em;position: relative;}#sk-container-id-1 div.sk-item {position: relative;z-index: 1;}#sk-container-id-1 div.sk-parallel {display: flex;align-items: stretch;justify-content: center;background-color: white;position: relative;}#sk-container-id-1 div.sk-item::before, #sk-container-id-1 div.sk-parallel-item::before {content: \"\";position: absolute;border-left: 1px solid gray;box-sizing: border-box;top: 0;bottom: 0;left: 50%;z-index: -1;}#sk-container-id-1 div.sk-parallel-item {display: flex;flex-direction: column;z-index: 1;position: relative;background-color: white;}#sk-container-id-1 div.sk-parallel-item:first-child::after {align-self: flex-end;width: 50%;}#sk-container-id-1 div.sk-parallel-item:last-child::after {align-self: flex-start;width: 50%;}#sk-container-id-1 div.sk-parallel-item:only-child::after {width: 0;}#sk-container-id-1 div.sk-dashed-wrapped {border: 1px dashed gray;margin: 0 0.4em 0.5em 0.4em;box-sizing: border-box;padding-bottom: 0.4em;background-color: white;}#sk-container-id-1 div.sk-label label {font-family: monospace;font-weight: bold;display: inline-block;line-height: 1.2em;}#sk-container-id-1 div.sk-label-container {text-align: center;}#sk-container-id-1 div.sk-container {/* jupyter's `normalize.less` sets `[hidden] { display: none; }` but bootstrap.min.css set `[hidden] { display: none !important; }` so we also need the `!important` here to be able to override the default hidden behavior on the sphinx rendered scikit-learn.org. See: https://github.com/scikit-learn/scikit-learn/issues/21755 */display: inline-block !important;position: relative;}#sk-container-id-1 div.sk-text-repr-fallback {display: none;}</style><div id=\"sk-container-id-1\" class=\"sk-top-container\"><div class=\"sk-text-repr-fallback\"><pre>Pipeline(steps=[(&#x27;prep&#x27;,\n",
       "                 ColumnTransformer(transformers=[(&#x27;num&#x27;,\n",
       "                                                  Pipeline(steps=[(&#x27;scaler&#x27;,\n",
       "                                                                   StandardScaler())]),\n",
       "                                                  [&#x27;age&#x27;, &#x27;cp&#x27;, &#x27;trestbps&#x27;,\n",
       "                                                   &#x27;chol&#x27;, &#x27;restecg&#x27;, &#x27;thalach&#x27;,\n",
       "                                                   &#x27;oldpeak&#x27;, &#x27;slope&#x27;, &#x27;ca&#x27;,\n",
       "                                                   &#x27;thal&#x27;]),\n",
       "                                                 (&#x27;cats&#x27;,\n",
       "                                                  Pipeline(steps=[(&#x27;onehot&#x27;,\n",
       "                                                                   OneHotEncoder(sparse_output=False))]),\n",
       "                                                  [&#x27;sex&#x27;, &#x27;fbs&#x27;, &#x27;exang&#x27;])])),\n",
       "                (&#x27;logreg&#x27;,\n",
       "                 LogisticRegression(C=0.2, l1_ratio=0.6, max_iter=500,\n",
       "                                    n_jobs=-1, penalty=&#x27;elasticnet&#x27;,\n",
       "                                    random_state=42, solver=&#x27;saga&#x27;))])</pre><b>In a Jupyter environment, please rerun this cell to show the HTML representation or trust the notebook. <br />On GitHub, the HTML representation is unable to render, please try loading this page with nbviewer.org.</b></div><div class=\"sk-container\" hidden><div class=\"sk-item sk-dashed-wrapped\"><div class=\"sk-label-container\"><div class=\"sk-label sk-toggleable\"><input class=\"sk-toggleable__control sk-hidden--visually\" id=\"sk-estimator-id-1\" type=\"checkbox\" ><label for=\"sk-estimator-id-1\" class=\"sk-toggleable__label sk-toggleable__label-arrow\">Pipeline</label><div class=\"sk-toggleable__content\"><pre>Pipeline(steps=[(&#x27;prep&#x27;,\n",
       "                 ColumnTransformer(transformers=[(&#x27;num&#x27;,\n",
       "                                                  Pipeline(steps=[(&#x27;scaler&#x27;,\n",
       "                                                                   StandardScaler())]),\n",
       "                                                  [&#x27;age&#x27;, &#x27;cp&#x27;, &#x27;trestbps&#x27;,\n",
       "                                                   &#x27;chol&#x27;, &#x27;restecg&#x27;, &#x27;thalach&#x27;,\n",
       "                                                   &#x27;oldpeak&#x27;, &#x27;slope&#x27;, &#x27;ca&#x27;,\n",
       "                                                   &#x27;thal&#x27;]),\n",
       "                                                 (&#x27;cats&#x27;,\n",
       "                                                  Pipeline(steps=[(&#x27;onehot&#x27;,\n",
       "                                                                   OneHotEncoder(sparse_output=False))]),\n",
       "                                                  [&#x27;sex&#x27;, &#x27;fbs&#x27;, &#x27;exang&#x27;])])),\n",
       "                (&#x27;logreg&#x27;,\n",
       "                 LogisticRegression(C=0.2, l1_ratio=0.6, max_iter=500,\n",
       "                                    n_jobs=-1, penalty=&#x27;elasticnet&#x27;,\n",
       "                                    random_state=42, solver=&#x27;saga&#x27;))])</pre></div></div></div><div class=\"sk-serial\"><div class=\"sk-item sk-dashed-wrapped\"><div class=\"sk-label-container\"><div class=\"sk-label sk-toggleable\"><input class=\"sk-toggleable__control sk-hidden--visually\" id=\"sk-estimator-id-2\" type=\"checkbox\" ><label for=\"sk-estimator-id-2\" class=\"sk-toggleable__label sk-toggleable__label-arrow\">prep: ColumnTransformer</label><div class=\"sk-toggleable__content\"><pre>ColumnTransformer(transformers=[(&#x27;num&#x27;,\n",
       "                                 Pipeline(steps=[(&#x27;scaler&#x27;, StandardScaler())]),\n",
       "                                 [&#x27;age&#x27;, &#x27;cp&#x27;, &#x27;trestbps&#x27;, &#x27;chol&#x27;, &#x27;restecg&#x27;,\n",
       "                                  &#x27;thalach&#x27;, &#x27;oldpeak&#x27;, &#x27;slope&#x27;, &#x27;ca&#x27;,\n",
       "                                  &#x27;thal&#x27;]),\n",
       "                                (&#x27;cats&#x27;,\n",
       "                                 Pipeline(steps=[(&#x27;onehot&#x27;,\n",
       "                                                  OneHotEncoder(sparse_output=False))]),\n",
       "                                 [&#x27;sex&#x27;, &#x27;fbs&#x27;, &#x27;exang&#x27;])])</pre></div></div></div><div class=\"sk-parallel\"><div class=\"sk-parallel-item\"><div class=\"sk-item\"><div class=\"sk-label-container\"><div class=\"sk-label sk-toggleable\"><input class=\"sk-toggleable__control sk-hidden--visually\" id=\"sk-estimator-id-3\" type=\"checkbox\" ><label for=\"sk-estimator-id-3\" class=\"sk-toggleable__label sk-toggleable__label-arrow\">num</label><div class=\"sk-toggleable__content\"><pre>[&#x27;age&#x27;, &#x27;cp&#x27;, &#x27;trestbps&#x27;, &#x27;chol&#x27;, &#x27;restecg&#x27;, &#x27;thalach&#x27;, &#x27;oldpeak&#x27;, &#x27;slope&#x27;, &#x27;ca&#x27;, &#x27;thal&#x27;]</pre></div></div></div><div class=\"sk-serial\"><div class=\"sk-item\"><div class=\"sk-serial\"><div class=\"sk-item\"><div class=\"sk-estimator sk-toggleable\"><input class=\"sk-toggleable__control sk-hidden--visually\" id=\"sk-estimator-id-4\" type=\"checkbox\" ><label for=\"sk-estimator-id-4\" class=\"sk-toggleable__label sk-toggleable__label-arrow\">StandardScaler</label><div class=\"sk-toggleable__content\"><pre>StandardScaler()</pre></div></div></div></div></div></div></div></div><div class=\"sk-parallel-item\"><div class=\"sk-item\"><div class=\"sk-label-container\"><div class=\"sk-label sk-toggleable\"><input class=\"sk-toggleable__control sk-hidden--visually\" id=\"sk-estimator-id-5\" type=\"checkbox\" ><label for=\"sk-estimator-id-5\" class=\"sk-toggleable__label sk-toggleable__label-arrow\">cats</label><div class=\"sk-toggleable__content\"><pre>[&#x27;sex&#x27;, &#x27;fbs&#x27;, &#x27;exang&#x27;]</pre></div></div></div><div class=\"sk-serial\"><div class=\"sk-item\"><div class=\"sk-serial\"><div class=\"sk-item\"><div class=\"sk-estimator sk-toggleable\"><input class=\"sk-toggleable__control sk-hidden--visually\" id=\"sk-estimator-id-6\" type=\"checkbox\" ><label for=\"sk-estimator-id-6\" class=\"sk-toggleable__label sk-toggleable__label-arrow\">OneHotEncoder</label><div class=\"sk-toggleable__content\"><pre>OneHotEncoder(sparse_output=False)</pre></div></div></div></div></div></div></div></div></div></div><div class=\"sk-item\"><div class=\"sk-estimator sk-toggleable\"><input class=\"sk-toggleable__control sk-hidden--visually\" id=\"sk-estimator-id-7\" type=\"checkbox\" ><label for=\"sk-estimator-id-7\" class=\"sk-toggleable__label sk-toggleable__label-arrow\">LogisticRegression</label><div class=\"sk-toggleable__content\"><pre>LogisticRegression(C=0.2, l1_ratio=0.6, max_iter=500, n_jobs=-1,\n",
       "                   penalty=&#x27;elasticnet&#x27;, random_state=42, solver=&#x27;saga&#x27;)</pre></div></div></div></div></div></div></div>"
      ],
      "text/plain": [
       "Pipeline(steps=[('prep',\n",
       "                 ColumnTransformer(transformers=[('num',\n",
       "                                                  Pipeline(steps=[('scaler',\n",
       "                                                                   StandardScaler())]),\n",
       "                                                  ['age', 'cp', 'trestbps',\n",
       "                                                   'chol', 'restecg', 'thalach',\n",
       "                                                   'oldpeak', 'slope', 'ca',\n",
       "                                                   'thal']),\n",
       "                                                 ('cats',\n",
       "                                                  Pipeline(steps=[('onehot',\n",
       "                                                                   OneHotEncoder(sparse_output=False))]),\n",
       "                                                  ['sex', 'fbs', 'exang'])])),\n",
       "                ('logreg',\n",
       "                 LogisticRegression(C=0.2, l1_ratio=0.6, max_iter=500,\n",
       "                                    n_jobs=-1, penalty='elasticnet',\n",
       "                                    random_state=42, solver='saga'))])"
      ]
     },
     "execution_count": 26,
     "metadata": {},
     "output_type": "execute_result"
    }
   ],
   "source": [
    "# Now fit tthe data\n",
    "final_model.fit(X_train, y_train)"
   ]
  },
  {
   "cell_type": "code",
   "execution_count": 27,
   "id": "51a6b7fc-0cf4-418a-b329-89e9ad7a8883",
   "metadata": {},
   "outputs": [
    {
     "data": {
      "text/plain": [
       "array([0.22066802, 0.26904663, 0.02977006, 0.64345544, 0.6772934 ])"
      ]
     },
     "execution_count": 27,
     "metadata": {},
     "output_type": "execute_result"
    }
   ],
   "source": [
    "### Test prediction probas\n",
    "test_pred_probas = final_model.predict_proba(X_test)[:, 1]\n",
    "test_pred_probas[:5]"
   ]
  },
  {
   "cell_type": "code",
   "execution_count": 28,
   "id": "179f203c-dfce-4cd8-ac6c-95411edf7548",
   "metadata": {},
   "outputs": [
    {
     "data": {
      "text/plain": [
       "array([False, False, False,  True,  True])"
      ]
     },
     "execution_count": 28,
     "metadata": {},
     "output_type": "execute_result"
    }
   ],
   "source": [
    "# Test predictions considering the threshold value i.e 0.4\n",
    "test_preds = test_pred_probas > 0.4\n",
    "test_preds[:5]"
   ]
  },
  {
   "cell_type": "code",
   "execution_count": 29,
   "id": "b8f92486-edbe-41f2-9ff9-71fc03949637",
   "metadata": {},
   "outputs": [
    {
     "name": "stdout",
     "output_type": "stream",
     "text": [
      "              precision    recall  f1-score   support\n",
      "\n",
      "           0       0.95      0.64      0.77        28\n",
      "           1       0.76      0.97      0.85        33\n",
      "\n",
      "    accuracy                           0.82        61\n",
      "   macro avg       0.85      0.81      0.81        61\n",
      "weighted avg       0.85      0.82      0.81        61\n",
      "\n"
     ]
    },
    {
     "data": {
      "image/png": "[encoded data removed]",
      "text/plain": [
       "<Figure size 500x300 with 2 Axes>"
      ]
     },
     "metadata": {},
     "output_type": "display_data"
    }
   ],
   "source": [
    "# Classification report\n",
    "print(classification_report(y_test, test_preds))\n",
    "conf_mat(y_test, test_preds)"
   ]
  },
  {
   "cell_type": "markdown",
   "id": "a862cf92-85f8-44f0-8bd0-bd87b401dd53",
   "metadata": {},
   "source": [
    "97% recall, the model seems to be performing well. We only misclassified one patient that has diabetes as not having diabetes"
   ]
  },
  {
   "cell_type": "code",
   "execution_count": 30,
   "id": "6fa6d378-432e-4613-9638-36b5e9ede94c",
   "metadata": {},
   "outputs": [],
   "source": [
    "# # Pickle the final model\n",
    "\n",
    "# with open (\"final_log_reg_model\", \"wb\") as f:\n",
    "#     pickle.dump(final_model, f)"
   ]
  },
  {
   "cell_type": "markdown",
   "id": "64143689-a1e3-4c3f-a68e-0c5da8f1c002",
   "metadata": {
    "jp-MarkdownHeadingCollapsed": true
   },
   "source": [
    "### Communication"
   ]
  },
  {
   "cell_type": "code",
   "execution_count": 32,
   "id": "a3bfd434-4885-49a9-aa93-5a3f8d66892b",
   "metadata": {},
   "outputs": [
    {
     "data": {
      "text/plain": [
       "{'prep': ColumnTransformer(transformers=[('num',\n",
       "                                  Pipeline(steps=[('scaler', StandardScaler())]),\n",
       "                                  ['age', 'cp', 'trestbps', 'chol', 'restecg',\n",
       "                                   'thalach', 'oldpeak', 'slope', 'ca',\n",
       "                                   'thal']),\n",
       "                                 ('cats',\n",
       "                                  Pipeline(steps=[('onehot',\n",
       "                                                   OneHotEncoder(sparse_output=False))]),\n",
       "                                  ['sex', 'fbs', 'exang'])]),\n",
       " 'logreg': LogisticRegression(C=0.2, l1_ratio=0.6, max_iter=500, n_jobs=-1,\n",
       "                    penalty='elasticnet', random_state=42, solver='saga')}"
      ]
     },
     "execution_count": 32,
     "metadata": {},
     "output_type": "execute_result"
    }
   ],
   "source": [
    "final_model.named_steps"
   ]
  },
  {
   "cell_type": "code",
   "execution_count": 35,
   "id": "0bca5d60-7a5f-4ea5-b397-cfce6c158f32",
   "metadata": {},
   "outputs": [
    {
     "name": "stdout",
     "output_type": "stream",
     "text": [
      "[ 0.          0.75938403 -0.14022855 -0.21111221  0.15898583  0.40224432\n",
      " -0.57492549  0.18007085 -0.45075955 -0.47252521  0.35580621 -0.3523334\n",
      "  0.          0.          0.28568334 -0.28214094]\n"
     ]
    }
   ],
   "source": [
    "# Get the featuers and their importances\n",
    "features = final_model.named_steps[\"prep\"].get_feature_names_out()\n",
    "importances = final_model.named_steps['logreg'].coef_[0]\n",
    "print(importances)"
   ]
  },
  {
   "cell_type": "code",
   "execution_count": 41,
   "id": "d9f8b228-e809-4fd5-a8a6-4f9e09d42acc",
   "metadata": {},
   "outputs": [
    {
     "data": {
      "text/plain": [
       "(-0.574925488945282, 0.7593840262908779)"
      ]
     },
     "execution_count": 41,
     "metadata": {},
     "output_type": "execute_result"
    }
   ],
   "source": [
    "# Get the minimum and maximum and maximum importances\n",
    "importances.min(), importances.max()"
   ]
  },
  {
   "cell_type": "markdown",
   "id": "12ad49cf-b571-492e-88bf-da8be84f9141",
   "metadata": {},
   "source": [
    "The coefficients of a logistic regression model are not the coefficient as we see in a linear regression.\n",
    "Logistic regression is the linear equation wrapped around a sigmoid finction\n",
    "\n",
    "So we have to take the exponential and get the odds ratio"
   ]
  },
  {
   "cell_type": "code",
   "execution_count": 38,
   "id": "03865201-0e3b-4c5c-89cb-4a56f75cfc1e",
   "metadata": {},
   "outputs": [
    {
     "data": {
      "text/plain": [
       "num__oldpeak     0.562747\n",
       "num__thal        0.623426\n",
       "num__ca          0.637144\n",
       "cats__sex_1      0.703046\n",
       "cats__exang_1    0.754167\n",
       "dtype: float64"
      ]
     },
     "execution_count": 38,
     "metadata": {},
     "output_type": "execute_result"
    }
   ],
   "source": [
    "odds_ratios = pd.Series(np.exp(importances), index=features).sort_values()\n",
    "odds_ratios.head()"
   ]
  },
  {
   "cell_type": "code",
   "execution_count": 39,
   "id": "2839509a-dea1-494e-8e1a-506b22a1a0b3",
   "metadata": {},
   "outputs": [
    {
     "data": {
      "text/plain": [
       "(0.5627467981023041, 2.136959504135115)"
      ]
     },
     "execution_count": 39,
     "metadata": {},
     "output_type": "execute_result"
    }
   ],
   "source": [
    "odds_ratios.min(), odds_ratios.max()"
   ]
  },
  {
   "cell_type": "code",
   "execution_count": 49,
   "id": "bc0da060-42ea-46eb-9c34-7ce87f49a236",
   "metadata": {},
   "outputs": [
    {
     "data": {
      "image/png": "[encoded data removed]",
      "text/plain": [
       "<Figure size 640x480 with 1 Axes>"
      ]
     },
     "metadata": {},
     "output_type": "display_data"
    }
   ],
   "source": [
    "# Horizontal bar chart, five largest coefficients\n",
    "odds_ratios.tail(17).plot(\n",
    "    kind='barh', xlabel=(\"Odds ratio\")\n",
    ")\n",
    "plt.axvline(x=1, color='red', linestyle='--');"
   ]
  },
  {
   "cell_type": "markdown",
   "id": "349f218a-8a75-4cba-9c48-d23fbc849e7a",
   "metadata": {},
   "source": [
    "Our cp(chest pain type) is the most predictive. its at 2. \n",
    "What it means is that the odds of having a heart disease is when you have chest pain is 2 times greater than when you have any other symptom in the dataset\n",
    "\n",
    "Any odds that is  > 1 indicates features that are most associated with increase in heart disease"
   ]
  },
  {
   "cell_type": "markdown",
   "id": "197c162c-26ba-4a3d-bfa3-26d6796f400b",
   "metadata": {},
   "source": [
    "Can we establish a causal relationship between sex and heart disease. or is it beacluse there aer ots of 1 gender compared to others in the dataset?\n",
    "\n",
    "The problem with observational data is the presence of lurking variables that migh affect analysis?"
   ]
  }
 ],
 "metadata": {
  "kernelspec": {
   "display_name": "jupynoteKernel",
   "language": "python",
   "name": "jupynotekernel"
  },
  "language_info": {
   "codemirror_mode": {
    "name": "ipython",
    "version": 3
   },
   "file_extension": ".py",
   "mimetype": "text/x-python",
   "name": "python",
   "nbconvert_exporter": "python",
   "pygments_lexer": "ipython3",
   "version": "3.10.12"
  }
 },
 "nbformat": 4,
 "nbformat_minor": 5
}
