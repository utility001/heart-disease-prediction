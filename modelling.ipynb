{
 "cells": [
  {
   "cell_type": "markdown",
   "id": "7d07708e-66b0-427b-8c4b-f8b7f6f6a998",
   "metadata": {
    "jp-MarkdownHeadingCollapsed": true
   },
   "source": [
    "### Ingest"
   ]
  },
  {
   "cell_type": "code",
   "execution_count": 1,
   "id": "e4fd5243-025f-4c0a-8c89-8cfb55193235",
   "metadata": {},
   "outputs": [],
   "source": [
    "# Imports\n",
    "import numpy as np\n",
    "import pandas as pd\n",
    "import seaborn as sns\n",
    "import matplotlib.pyplot as plt\n",
    "\n",
    "from sklearn.model_selection import (\n",
    "    cross_val_score,\n",
    "    cross_val_predict,\n",
    "    train_test_split,\n",
    "    GridSearchCV\n",
    ")\n",
    "\n",
    "from sklearn.metrics import (\n",
    "    roc_curve,\n",
    "    precision_recall_curve,\n",
    "    confusion_matrix,\n",
    "    classification_report,\n",
    "    roc_auc_score\n",
    ")\n",
    "\n",
    "from sklearn.pipeline import Pipeline\n",
    "from sklearn.compose import ColumnTransformer\n",
    "from sklearn.preprocessing import OneHotEncoder, StandardScaler\n",
    "\n",
    "from sklearn.linear_model import LogisticRegression\n",
    "from sklearn.ensemble import GradientBoostingClassifier\n",
    "\n",
    "from catboost import CatBoostClassifier\n",
    "from sklearn.ensemble import RandomForestClassifier\n",
    "\n",
    "from ipywidgets import interact, widgets\n",
    "\n",
    "import pickle"
   ]
  },
  {
   "cell_type": "code",
   "execution_count": 2,
   "id": "832d357e-bc31-49f1-af61-d4a203b08963",
   "metadata": {},
   "outputs": [],
   "source": [
    "# This wrangle function contains all the transformations done in the EDA section\n",
    "\n",
    "def wrangle():\n",
    "    \"\"\"\n",
    "    Returns X_train, y_train, X_test, y_test\n",
    "    \"\"\"\n",
    "    df = pd.read_csv(\"dataset/archive/heart.csv\")\n",
    "    # Train test split\n",
    "    df = df.drop_duplicates(keep='first')\n",
    "    # split into train and test set\n",
    "    train, test = train_test_split(df, test_size=0.2, random_state=42, stratify=df['target'])\n",
    "    \n",
    "    # split into feature and label\n",
    "    target_col = 'target'\n",
    "    X_train  = train.drop(columns=['target'])\n",
    "    y_train = train['target']\n",
    "    X_test  = test.drop(columns=['target'])\n",
    "    y_test = test['target']\n",
    "    \n",
    "    return X_train, y_train, X_test, y_test"
   ]
  },
  {
   "cell_type": "code",
   "execution_count": 3,
   "id": "d8b7c5a4-21dc-44b3-bb25-4f755aafda95",
   "metadata": {},
   "outputs": [],
   "source": [
    "# Apply the wrangle function and get the train and test data\n",
    "X_train, y_train, X_test, y_test = wrangle()"
   ]
  },
  {
   "cell_type": "code",
   "execution_count": 4,
   "id": "cab0c63f-6bd9-40fe-bfe3-192e1da8e35e",
   "metadata": {},
   "outputs": [
    {
     "data": {
      "text/plain": [
       "((241, 13), (241,))"
      ]
     },
     "execution_count": 4,
     "metadata": {},
     "output_type": "execute_result"
    }
   ],
   "source": [
    "X_train.shape, y_train.shape"
   ]
  },
  {
   "cell_type": "code",
   "execution_count": 5,
   "id": "62b62a7b-742b-4f06-a2bc-d640a6e10fe6",
   "metadata": {},
   "outputs": [
    {
     "data": {
      "text/plain": [
       "((61, 13), (61,))"
      ]
     },
     "execution_count": 5,
     "metadata": {},
     "output_type": "execute_result"
    }
   ],
   "source": [
    "X_test.shape, y_test.shape"
   ]
  },
  {
   "cell_type": "markdown",
   "id": "2631fbf4-2ae6-481b-be45-c60e056d6e8f",
   "metadata": {},
   "source": [
    "### Preprocessing"
   ]
  },
  {
   "cell_type": "code",
   "execution_count": 6,
   "id": "7031bc3b-6494-427e-8808-ffa062755428",
   "metadata": {},
   "outputs": [],
   "source": [
    "# colums whose unique values are greater than or equal 3 --- referred to numeric columns\n",
    "num_cols = [col for col in X_train.columns if X_train[col].nunique() >= 3]\n",
    "# columns whose unique values are < 3 --- referred to as categorical columns\n",
    "cat_cols = [col for col in X_train.columns if X_train[col].nunique() < 3]"
   ]
  },
  {
   "cell_type": "code",
   "execution_count": 7,
   "id": "364c4cd1-0102-4ce6-bbdc-0806ac4741fe",
   "metadata": {},
   "outputs": [
    {
     "name": "stdout",
     "output_type": "stream",
     "text": [
      "['age', 'cp', 'trestbps', 'chol', 'restecg', 'thalach', 'oldpeak', 'slope', 'ca', 'thal']\n"
     ]
    }
   ],
   "source": [
    "print(num_cols)"
   ]
  },
  {
   "cell_type": "code",
   "execution_count": 8,
   "id": "f185d9fb-8c4d-425c-9b5d-6651539d2a05",
   "metadata": {},
   "outputs": [
    {
     "name": "stdout",
     "output_type": "stream",
     "text": [
      "['sex', 'fbs', 'exang']\n"
     ]
    }
   ],
   "source": [
    "print(cat_cols)"
   ]
  },
  {
   "cell_type": "code",
   "execution_count": 9,
   "id": "a1ebe595-c19b-4ef9-8d26-05488c6cec30",
   "metadata": {},
   "outputs": [],
   "source": [
    "# one hot encoding pipeline for categorical columns\n",
    "cat_pipeline = Pipeline([\n",
    "    ('onehot', OneHotEncoder(sparse_output=False)),\n",
    "])\n",
    "\n",
    "# Standard scaling for numerical columns\n",
    "num_pipeline = Pipeline([\n",
    "    ('scaler', StandardScaler())\n",
    "])"
   ]
  },
  {
   "cell_type": "code",
   "execution_count": 10,
   "id": "1d77a725-d765-4e23-8cde-bc20081f1438",
   "metadata": {},
   "outputs": [],
   "source": [
    "# Combine the pipelines with column transformer\n",
    "preprocessing = ColumnTransformer(\n",
    "    [\n",
    "        ('num', num_pipeline, num_cols),\n",
    "        ('cats', cat_pipeline, cat_cols)\n",
    "    ]\n",
    ")"
   ]
  },
  {
   "cell_type": "code",
   "execution_count": 11,
   "id": "2570667f-8a2e-4078-b9c0-b8c77ea138d6",
   "metadata": {},
   "outputs": [],
   "source": [
    "# Test the preprocessing pipeline\n",
    "X_train_transformed = preprocessing.fit_transform(X_train)"
   ]
  },
  {
   "cell_type": "code",
   "execution_count": 12,
   "id": "3fea47d9-5c1e-498f-84ee-9b6b659d9a43",
   "metadata": {},
   "outputs": [
    {
     "data": {
      "text/plain": [
       "array([ 0.28906186, -0.93569147, -0.19208565,  1.22278352, -1.04199213,\n",
       "        0.40512154, -0.88967624,  0.96461102,  0.26403574, -0.5751421 ,\n",
       "        1.        ,  0.        ,  1.        ,  0.        ,  1.        ,\n",
       "        0.        ])"
      ]
     },
     "execution_count": 12,
     "metadata": {},
     "output_type": "execute_result"
    }
   ],
   "source": [
    "X_train_transformed[0]"
   ]
  },
  {
   "cell_type": "code",
   "execution_count": 13,
   "id": "cc5f4b87-126e-49ad-adfa-872c790e464e",
   "metadata": {},
   "outputs": [
    {
     "data": {
      "text/plain": [
       "array(['num__age', 'num__cp', 'num__trestbps', 'num__chol',\n",
       "       'num__restecg', 'num__thalach', 'num__oldpeak', 'num__slope',\n",
       "       'num__ca', 'num__thal', 'cats__sex_0', 'cats__sex_1',\n",
       "       'cats__fbs_0', 'cats__fbs_1', 'cats__exang_0', 'cats__exang_1'],\n",
       "      dtype=object)"
      ]
     },
     "execution_count": 13,
     "metadata": {},
     "output_type": "execute_result"
    }
   ],
   "source": [
    "preprocessing.get_feature_names_out()"
   ]
  },
  {
   "cell_type": "code",
   "execution_count": 14,
   "id": "dae2cbd3-dfd6-46d8-b797-8d3460712be4",
   "metadata": {},
   "outputs": [
    {
     "name": "stdout",
     "output_type": "stream",
     "text": [
      "The data was (241, 13) before transformation and (241, 16) after transformation\n"
     ]
    }
   ],
   "source": [
    "print(f\"The data was {X_train.shape} before transformation and {X_train_transformed.shape} after transformation\")"
   ]
  },
  {
   "cell_type": "markdown",
   "id": "215d9eb9-0dee-4f96-a6d9-98459950e21f",
   "metadata": {
    "jp-MarkdownHeadingCollapsed": true
   },
   "source": [
    "## Modelling\n",
    "\n",
    "+ Logistic regression\n",
    "+ Random Forest\n",
    "+ Catboost"
   ]
  },
  {
   "cell_type": "markdown",
   "id": "c9e18af5-199e-4d4a-be5b-e9c46f4ef007",
   "metadata": {
    "jp-MarkdownHeadingCollapsed": true
   },
   "source": [
    "### Logistic regression"
   ]
  },
  {
   "cell_type": "code",
   "execution_count": 15,
   "id": "eadfdb31-a879-4cc3-b70d-1c75d7a3cd50",
   "metadata": {},
   "outputs": [],
   "source": [
    "# Logistic regression pipeline\n",
    "lr_pipeline = Pipeline([\n",
    "    ('prep', preprocessing),\n",
    "    ('logreg', LogisticRegression(random_state=42))\n",
    "])"
   ]
  },
  {
   "cell_type": "markdown",
   "id": "6dcbe620-a17a-4186-ac68-959843f99bb1",
   "metadata": {},
   "source": [
    "Note. There is no validation set so we use cross validation"
   ]
  },
  {
   "cell_type": "code",
   "execution_count": 16,
   "id": "89dfb3b6-617e-49ed-931e-e6a8c3f60035",
   "metadata": {},
   "outputs": [
    {
     "data": {
      "text/plain": [
       "array([0.79591837, 0.77083333, 0.8125    , 0.875     , 0.89583333])"
      ]
     },
     "execution_count": 16,
     "metadata": {},
     "output_type": "execute_result"
    }
   ],
   "source": [
    "# Cross validation accuracies\n",
    "lr_cv_accs = cross_val_score(lr_pipeline, X_train, y_train, cv=5, n_jobs=-1)\n",
    "lr_cv_accs"
   ]
  },
  {
   "cell_type": "code",
   "execution_count": 17,
   "id": "1fc61a43-6380-48b9-be94-3f821ea6af35",
   "metadata": {},
   "outputs": [
    {
     "data": {
      "text/plain": [
       "count    5.000000\n",
       "mean     0.830017\n",
       "std      0.053215\n",
       "min      0.770833\n",
       "25%      0.795918\n",
       "50%      0.812500\n",
       "75%      0.875000\n",
       "max      0.895833\n",
       "dtype: float64"
      ]
     },
     "execution_count": 17,
     "metadata": {},
     "output_type": "execute_result"
    }
   ],
   "source": [
    "# Get the description of the cross validation\n",
    "lr_desc = pd.Series(lr_cv_accs).describe()\n",
    "lr_desc"
   ]
  },
  {
   "cell_type": "markdown",
   "id": "860a0d24-a853-47fe-a5a4-0a5a8bfb1b18",
   "metadata": {},
   "source": [
    "+ mean accuracy = 0.83\n",
    "+ The accuracy ranges between 0.77 and 0.9"
   ]
  },
  {
   "cell_type": "markdown",
   "id": "2b2b460f-1fdd-4fc9-98d6-c76316b4d0d3",
   "metadata": {
    "jp-MarkdownHeadingCollapsed": true
   },
   "source": [
    "### RandomForest"
   ]
  },
  {
   "cell_type": "code",
   "execution_count": 18,
   "id": "ac8623f0-d1a6-4914-a110-372baf3f7ace",
   "metadata": {},
   "outputs": [],
   "source": [
    "rfc_pipeline = Pipeline([\n",
    "    ('prep', preprocessing),\n",
    "    ('rfc', RandomForestClassifier())\n",
    "])"
   ]
  },
  {
   "cell_type": "code",
   "execution_count": 19,
   "id": "5194c3d3-0ab4-4dda-8b88-f60d569b2abf",
   "metadata": {},
   "outputs": [
    {
     "name": "stdout",
     "output_type": "stream",
     "text": [
      "CPU times: user 22.1 ms, sys: 535 µs, total: 22.6 ms\n",
      "Wall time: 687 ms\n"
     ]
    },
    {
     "data": {
      "text/plain": [
       "array([0.75510204, 0.8125    , 0.77083333, 0.89583333, 0.89583333])"
      ]
     },
     "execution_count": 19,
     "metadata": {},
     "output_type": "execute_result"
    }
   ],
   "source": [
    "%time rfc_cv_accs = cross_val_score(rfc_pipeline, X_train, y_train, cv=5, n_jobs=-1)\n",
    "rfc_cv_accs"
   ]
  },
  {
   "cell_type": "code",
   "execution_count": 20,
   "id": "75be8426-2f01-46eb-ad14-03b27cf5f22e",
   "metadata": {},
   "outputs": [
    {
     "data": {
      "text/plain": [
       "count    5.000000\n",
       "mean     0.826020\n",
       "std      0.067092\n",
       "min      0.755102\n",
       "25%      0.770833\n",
       "50%      0.812500\n",
       "75%      0.895833\n",
       "max      0.895833\n",
       "dtype: float64"
      ]
     },
     "execution_count": 20,
     "metadata": {},
     "output_type": "execute_result"
    }
   ],
   "source": [
    "rfc_desc = pd.Series(rfc_cv_accs).describe()\n",
    "rfc_desc"
   ]
  },
  {
   "cell_type": "markdown",
   "id": "21ef59d5-8a29-4013-9a92-7d9c36b1929f",
   "metadata": {},
   "source": [
    "+ Mean accuracy = 0.81\n",
    "+ The accuracy ranges between 0.75 and 0.89"
   ]
  },
  {
   "cell_type": "markdown",
   "id": "bdd7f6a7-6d71-4b48-a9d7-2cddfc4fadbf",
   "metadata": {
    "jp-MarkdownHeadingCollapsed": true
   },
   "source": [
    "### catboost"
   ]
  },
  {
   "cell_type": "code",
   "execution_count": 21,
   "id": "32ea07e6-54a9-4571-bb4a-4359e5d71668",
   "metadata": {},
   "outputs": [],
   "source": [
    "cat_pipeline = Pipeline([\n",
    "    ('prep', preprocessing),\n",
    "    ('cat', CatBoostClassifier(verbose=0))\n",
    "])"
   ]
  },
  {
   "cell_type": "code",
   "execution_count": 22,
   "id": "744ade64-edcf-4b23-9ba4-9af1079f11b3",
   "metadata": {},
   "outputs": [
    {
     "name": "stdout",
     "output_type": "stream",
     "text": [
      "CPU times: user 38 ms, sys: 8.4 ms, total: 46.4 ms\n",
      "Wall time: 6.19 s\n"
     ]
    },
    {
     "data": {
      "text/plain": [
       "array([0.75510204, 0.8125    , 0.83333333, 0.875     , 0.85416667])"
      ]
     },
     "execution_count": 22,
     "metadata": {},
     "output_type": "execute_result"
    }
   ],
   "source": [
    "%time cat_cv_accs = cross_val_score(cat_pipeline, X_train, y_train, cv=5, n_jobs=-1)\n",
    "cat_cv_accs"
   ]
  },
  {
   "cell_type": "code",
   "execution_count": 23,
   "id": "f9dcdc88-f59e-40d1-a372-0f97c3944231",
   "metadata": {},
   "outputs": [
    {
     "data": {
      "text/plain": [
       "count    5.000000\n",
       "mean     0.826020\n",
       "std      0.045981\n",
       "min      0.755102\n",
       "25%      0.812500\n",
       "50%      0.833333\n",
       "75%      0.854167\n",
       "max      0.875000\n",
       "dtype: float64"
      ]
     },
     "execution_count": 23,
     "metadata": {},
     "output_type": "execute_result"
    }
   ],
   "source": [
    "cat_desc = pd.Series(cat_cv_accs).describe()\n",
    "cat_desc"
   ]
  },
  {
   "cell_type": "code",
   "execution_count": 24,
   "id": "7370b388-dd50-43f6-8ec8-23f3017c51cc",
   "metadata": {},
   "outputs": [
    {
     "data": {
      "text/html": [
       "<div>\n",
       "<style scoped>\n",
       "    .dataframe tbody tr th:only-of-type {\n",
       "        vertical-align: middle;\n",
       "    }\n",
       "\n",
       "    .dataframe tbody tr th {\n",
       "        vertical-align: top;\n",
       "    }\n",
       "\n",
       "    .dataframe thead th {\n",
       "        text-align: right;\n",
       "    }\n",
       "</style>\n",
       "<table border=\"1\" class=\"dataframe\">\n",
       "  <thead>\n",
       "    <tr style=\"text-align: right;\">\n",
       "      <th></th>\n",
       "      <th>log_reg</th>\n",
       "      <th>random_forest</th>\n",
       "      <th>cat</th>\n",
       "    </tr>\n",
       "  </thead>\n",
       "  <tbody>\n",
       "    <tr>\n",
       "      <th>count</th>\n",
       "      <td>5.000000</td>\n",
       "      <td>5.000000</td>\n",
       "      <td>5.000000</td>\n",
       "    </tr>\n",
       "    <tr>\n",
       "      <th>mean</th>\n",
       "      <td>0.830017</td>\n",
       "      <td>0.826020</td>\n",
       "      <td>0.826020</td>\n",
       "    </tr>\n",
       "    <tr>\n",
       "      <th>std</th>\n",
       "      <td>0.053215</td>\n",
       "      <td>0.067092</td>\n",
       "      <td>0.045981</td>\n",
       "    </tr>\n",
       "    <tr>\n",
       "      <th>min</th>\n",
       "      <td>0.770833</td>\n",
       "      <td>0.755102</td>\n",
       "      <td>0.755102</td>\n",
       "    </tr>\n",
       "    <tr>\n",
       "      <th>25%</th>\n",
       "      <td>0.795918</td>\n",
       "      <td>0.770833</td>\n",
       "      <td>0.812500</td>\n",
       "    </tr>\n",
       "    <tr>\n",
       "      <th>50%</th>\n",
       "      <td>0.812500</td>\n",
       "      <td>0.812500</td>\n",
       "      <td>0.833333</td>\n",
       "    </tr>\n",
       "    <tr>\n",
       "      <th>75%</th>\n",
       "      <td>0.875000</td>\n",
       "      <td>0.895833</td>\n",
       "      <td>0.854167</td>\n",
       "    </tr>\n",
       "    <tr>\n",
       "      <th>max</th>\n",
       "      <td>0.895833</td>\n",
       "      <td>0.895833</td>\n",
       "      <td>0.875000</td>\n",
       "    </tr>\n",
       "  </tbody>\n",
       "</table>\n",
       "</div>"
      ],
      "text/plain": [
       "        log_reg  random_forest       cat\n",
       "count  5.000000       5.000000  5.000000\n",
       "mean   0.830017       0.826020  0.826020\n",
       "std    0.053215       0.067092  0.045981\n",
       "min    0.770833       0.755102  0.755102\n",
       "25%    0.795918       0.770833  0.812500\n",
       "50%    0.812500       0.812500  0.833333\n",
       "75%    0.875000       0.895833  0.854167\n",
       "max    0.895833       0.895833  0.875000"
      ]
     },
     "execution_count": 24,
     "metadata": {},
     "output_type": "execute_result"
    }
   ],
   "source": [
    "pd.DataFrame({\n",
    "    'log_reg': lr_desc,\n",
    "    'random_forest': rfc_desc,\n",
    "    'cat': cat_desc\n",
    "})"
   ]
  },
  {
   "cell_type": "markdown",
   "id": "84ef5849-235f-40ad-b014-34b655d9dc65",
   "metadata": {},
   "source": [
    "+ Tune logistic regression\n",
    "+ Tune catboost"
   ]
  },
  {
   "cell_type": "markdown",
   "id": "b7e3b535-52f6-4a7a-9072-446d32d06357",
   "metadata": {
    "jp-MarkdownHeadingCollapsed": true
   },
   "source": [
    "## Hyperparameter tuning"
   ]
  },
  {
   "cell_type": "markdown",
   "id": "325d67d0-8e39-47b0-a524-bd8f859bc0e7",
   "metadata": {
    "jp-MarkdownHeadingCollapsed": true
   },
   "source": [
    "### Fine tune Logistic regression"
   ]
  },
  {
   "cell_type": "code",
   "execution_count": 25,
   "id": "11fddb47-0f6d-4c1e-997a-ca1aa77003be",
   "metadata": {},
   "outputs": [],
   "source": [
    "lr_grid_pipeline = Pipeline([\n",
    "    ('prep', preprocessing),\n",
    "    ('logreg', LogisticRegression(solver='saga', max_iter=500, random_state=42, n_jobs=-1))\n",
    "])"
   ]
  },
  {
   "cell_type": "code",
   "execution_count": 26,
   "id": "d58ddae2-e902-4a74-bbfa-800d80db0bab",
   "metadata": {},
   "outputs": [],
   "source": [
    "# # Get the list of parameters that are available for tuning\n",
    "# list(lr_grid_pipeline.get_params().keys())"
   ]
  },
  {
   "cell_type": "code",
   "execution_count": 27,
   "id": "705cf97c-211e-47cb-8d84-6de4338ef8e1",
   "metadata": {},
   "outputs": [],
   "source": [
    "lr_param_grid = [{\n",
    "    'logreg__penalty': ['elasticnet'],\n",
    "    'logreg__l1_ratio': [0.0, 0.2, 0.4, 0.6, 0.8, 1],\n",
    "    'logreg__C': [0.2, 0.4, 0.6, 0.8, 1]\n",
    "}]"
   ]
  },
  {
   "cell_type": "code",
   "execution_count": 28,
   "id": "5c54fd18-f8d8-4252-811b-fb2ec283a0cd",
   "metadata": {},
   "outputs": [],
   "source": [
    "lr_grid_search = GridSearchCV(\n",
    "    lr_grid_pipeline, \n",
    "    lr_param_grid, cv=5,\n",
    "    scoring='accuracy'\n",
    ")"
   ]
  },
  {
   "cell_type": "code",
   "execution_count": 29,
   "id": "6f9372f9-fa8d-4e95-9ff2-bf94c8baee8e",
   "metadata": {},
   "outputs": [
    {
     "name": "stdout",
     "output_type": "stream",
     "text": [
      "CPU times: user 3.97 s, sys: 182 ms, total: 4.15 s\n",
      "Wall time: 4.77 s\n"
     ]
    },
    {
     "data": {
      "text/html": [
       "<style>#sk-container-id-1 {color: black;}#sk-container-id-1 pre{padding: 0;}#sk-container-id-1 div.sk-toggleable {background-color: white;}#sk-container-id-1 label.sk-toggleable__label {cursor: pointer;display: block;width: 100%;margin-bottom: 0;padding: 0.3em;box-sizing: border-box;text-align: center;}#sk-container-id-1 label.sk-toggleable__label-arrow:before {content: \"▸\";float: left;margin-right: 0.25em;color: #696969;}#sk-container-id-1 label.sk-toggleable__label-arrow:hover:before {color: black;}#sk-container-id-1 div.sk-estimator:hover label.sk-toggleable__label-arrow:before {color: black;}#sk-container-id-1 div.sk-toggleable__content {max-height: 0;max-width: 0;overflow: hidden;text-align: left;background-color: #f0f8ff;}#sk-container-id-1 div.sk-toggleable__content pre {margin: 0.2em;color: black;border-radius: 0.25em;background-color: #f0f8ff;}#sk-container-id-1 input.sk-toggleable__control:checked~div.sk-toggleable__content {max-height: 200px;max-width: 100%;overflow: auto;}#sk-container-id-1 input.sk-toggleable__control:checked~label.sk-toggleable__label-arrow:before {content: \"▾\";}#sk-container-id-1 div.sk-estimator input.sk-toggleable__control:checked~label.sk-toggleable__label {background-color: #d4ebff;}#sk-container-id-1 div.sk-label input.sk-toggleable__control:checked~label.sk-toggleable__label {background-color: #d4ebff;}#sk-container-id-1 input.sk-hidden--visually {border: 0;clip: rect(1px 1px 1px 1px);clip: rect(1px, 1px, 1px, 1px);height: 1px;margin: -1px;overflow: hidden;padding: 0;position: absolute;width: 1px;}#sk-container-id-1 div.sk-estimator {font-family: monospace;background-color: #f0f8ff;border: 1px dotted black;border-radius: 0.25em;box-sizing: border-box;margin-bottom: 0.5em;}#sk-container-id-1 div.sk-estimator:hover {background-color: #d4ebff;}#sk-container-id-1 div.sk-parallel-item::after {content: \"\";width: 100%;border-bottom: 1px solid gray;flex-grow: 1;}#sk-container-id-1 div.sk-label:hover label.sk-toggleable__label {background-color: #d4ebff;}#sk-container-id-1 div.sk-serial::before {content: \"\";position: absolute;border-left: 1px solid gray;box-sizing: border-box;top: 0;bottom: 0;left: 50%;z-index: 0;}#sk-container-id-1 div.sk-serial {display: flex;flex-direction: column;align-items: center;background-color: white;padding-right: 0.2em;padding-left: 0.2em;position: relative;}#sk-container-id-1 div.sk-item {position: relative;z-index: 1;}#sk-container-id-1 div.sk-parallel {display: flex;align-items: stretch;justify-content: center;background-color: white;position: relative;}#sk-container-id-1 div.sk-item::before, #sk-container-id-1 div.sk-parallel-item::before {content: \"\";position: absolute;border-left: 1px solid gray;box-sizing: border-box;top: 0;bottom: 0;left: 50%;z-index: -1;}#sk-container-id-1 div.sk-parallel-item {display: flex;flex-direction: column;z-index: 1;position: relative;background-color: white;}#sk-container-id-1 div.sk-parallel-item:first-child::after {align-self: flex-end;width: 50%;}#sk-container-id-1 div.sk-parallel-item:last-child::after {align-self: flex-start;width: 50%;}#sk-container-id-1 div.sk-parallel-item:only-child::after {width: 0;}#sk-container-id-1 div.sk-dashed-wrapped {border: 1px dashed gray;margin: 0 0.4em 0.5em 0.4em;box-sizing: border-box;padding-bottom: 0.4em;background-color: white;}#sk-container-id-1 div.sk-label label {font-family: monospace;font-weight: bold;display: inline-block;line-height: 1.2em;}#sk-container-id-1 div.sk-label-container {text-align: center;}#sk-container-id-1 div.sk-container {/* jupyter's `normalize.less` sets `[hidden] { display: none; }` but bootstrap.min.css set `[hidden] { display: none !important; }` so we also need the `!important` here to be able to override the default hidden behavior on the sphinx rendered scikit-learn.org. See: https://github.com/scikit-learn/scikit-learn/issues/21755 */display: inline-block !important;position: relative;}#sk-container-id-1 div.sk-text-repr-fallback {display: none;}</style><div id=\"sk-container-id-1\" class=\"sk-top-container\"><div class=\"sk-text-repr-fallback\"><pre>GridSearchCV(cv=5,\n",
       "             estimator=Pipeline(steps=[(&#x27;prep&#x27;,\n",
       "                                        ColumnTransformer(transformers=[(&#x27;num&#x27;,\n",
       "                                                                         Pipeline(steps=[(&#x27;scaler&#x27;,\n",
       "                                                                                          StandardScaler())]),\n",
       "                                                                         [&#x27;age&#x27;,\n",
       "                                                                          &#x27;cp&#x27;,\n",
       "                                                                          &#x27;trestbps&#x27;,\n",
       "                                                                          &#x27;chol&#x27;,\n",
       "                                                                          &#x27;restecg&#x27;,\n",
       "                                                                          &#x27;thalach&#x27;,\n",
       "                                                                          &#x27;oldpeak&#x27;,\n",
       "                                                                          &#x27;slope&#x27;,\n",
       "                                                                          &#x27;ca&#x27;,\n",
       "                                                                          &#x27;thal&#x27;]),\n",
       "                                                                        (&#x27;cats&#x27;,\n",
       "                                                                         Pipeline(steps=[(&#x27;onehot&#x27;,\n",
       "                                                                                          OneHotEncoder(sparse_output=False))]),\n",
       "                                                                         [&#x27;sex&#x27;,\n",
       "                                                                          &#x27;fbs&#x27;,\n",
       "                                                                          &#x27;exang&#x27;])])),\n",
       "                                       (&#x27;logreg&#x27;,\n",
       "                                        LogisticRegression(max_iter=500,\n",
       "                                                           n_jobs=-1,\n",
       "                                                           random_state=42,\n",
       "                                                           solver=&#x27;saga&#x27;))]),\n",
       "             param_grid=[{&#x27;logreg__C&#x27;: [0.2, 0.4, 0.6, 0.8, 1],\n",
       "                          &#x27;logreg__l1_ratio&#x27;: [0.0, 0.2, 0.4, 0.6, 0.8, 1],\n",
       "                          &#x27;logreg__penalty&#x27;: [&#x27;elasticnet&#x27;]}],\n",
       "             scoring=&#x27;accuracy&#x27;)</pre><b>In a Jupyter environment, please rerun this cell to show the HTML representation or trust the notebook. <br />On GitHub, the HTML representation is unable to render, please try loading this page with nbviewer.org.</b></div><div class=\"sk-container\" hidden><div class=\"sk-item sk-dashed-wrapped\"><div class=\"sk-label-container\"><div class=\"sk-label sk-toggleable\"><input class=\"sk-toggleable__control sk-hidden--visually\" id=\"sk-estimator-id-1\" type=\"checkbox\" ><label for=\"sk-estimator-id-1\" class=\"sk-toggleable__label sk-toggleable__label-arrow\">GridSearchCV</label><div class=\"sk-toggleable__content\"><pre>GridSearchCV(cv=5,\n",
       "             estimator=Pipeline(steps=[(&#x27;prep&#x27;,\n",
       "                                        ColumnTransformer(transformers=[(&#x27;num&#x27;,\n",
       "                                                                         Pipeline(steps=[(&#x27;scaler&#x27;,\n",
       "                                                                                          StandardScaler())]),\n",
       "                                                                         [&#x27;age&#x27;,\n",
       "                                                                          &#x27;cp&#x27;,\n",
       "                                                                          &#x27;trestbps&#x27;,\n",
       "                                                                          &#x27;chol&#x27;,\n",
       "                                                                          &#x27;restecg&#x27;,\n",
       "                                                                          &#x27;thalach&#x27;,\n",
       "                                                                          &#x27;oldpeak&#x27;,\n",
       "                                                                          &#x27;slope&#x27;,\n",
       "                                                                          &#x27;ca&#x27;,\n",
       "                                                                          &#x27;thal&#x27;]),\n",
       "                                                                        (&#x27;cats&#x27;,\n",
       "                                                                         Pipeline(steps=[(&#x27;onehot&#x27;,\n",
       "                                                                                          OneHotEncoder(sparse_output=False))]),\n",
       "                                                                         [&#x27;sex&#x27;,\n",
       "                                                                          &#x27;fbs&#x27;,\n",
       "                                                                          &#x27;exang&#x27;])])),\n",
       "                                       (&#x27;logreg&#x27;,\n",
       "                                        LogisticRegression(max_iter=500,\n",
       "                                                           n_jobs=-1,\n",
       "                                                           random_state=42,\n",
       "                                                           solver=&#x27;saga&#x27;))]),\n",
       "             param_grid=[{&#x27;logreg__C&#x27;: [0.2, 0.4, 0.6, 0.8, 1],\n",
       "                          &#x27;logreg__l1_ratio&#x27;: [0.0, 0.2, 0.4, 0.6, 0.8, 1],\n",
       "                          &#x27;logreg__penalty&#x27;: [&#x27;elasticnet&#x27;]}],\n",
       "             scoring=&#x27;accuracy&#x27;)</pre></div></div></div><div class=\"sk-parallel\"><div class=\"sk-parallel-item\"><div class=\"sk-item\"><div class=\"sk-label-container\"><div class=\"sk-label sk-toggleable\"><input class=\"sk-toggleable__control sk-hidden--visually\" id=\"sk-estimator-id-2\" type=\"checkbox\" ><label for=\"sk-estimator-id-2\" class=\"sk-toggleable__label sk-toggleable__label-arrow\">estimator: Pipeline</label><div class=\"sk-toggleable__content\"><pre>Pipeline(steps=[(&#x27;prep&#x27;,\n",
       "                 ColumnTransformer(transformers=[(&#x27;num&#x27;,\n",
       "                                                  Pipeline(steps=[(&#x27;scaler&#x27;,\n",
       "                                                                   StandardScaler())]),\n",
       "                                                  [&#x27;age&#x27;, &#x27;cp&#x27;, &#x27;trestbps&#x27;,\n",
       "                                                   &#x27;chol&#x27;, &#x27;restecg&#x27;, &#x27;thalach&#x27;,\n",
       "                                                   &#x27;oldpeak&#x27;, &#x27;slope&#x27;, &#x27;ca&#x27;,\n",
       "                                                   &#x27;thal&#x27;]),\n",
       "                                                 (&#x27;cats&#x27;,\n",
       "                                                  Pipeline(steps=[(&#x27;onehot&#x27;,\n",
       "                                                                   OneHotEncoder(sparse_output=False))]),\n",
       "                                                  [&#x27;sex&#x27;, &#x27;fbs&#x27;, &#x27;exang&#x27;])])),\n",
       "                (&#x27;logreg&#x27;,\n",
       "                 LogisticRegression(max_iter=500, n_jobs=-1, random_state=42,\n",
       "                                    solver=&#x27;saga&#x27;))])</pre></div></div></div><div class=\"sk-serial\"><div class=\"sk-item\"><div class=\"sk-serial\"><div class=\"sk-item sk-dashed-wrapped\"><div class=\"sk-label-container\"><div class=\"sk-label sk-toggleable\"><input class=\"sk-toggleable__control sk-hidden--visually\" id=\"sk-estimator-id-3\" type=\"checkbox\" ><label for=\"sk-estimator-id-3\" class=\"sk-toggleable__label sk-toggleable__label-arrow\">prep: ColumnTransformer</label><div class=\"sk-toggleable__content\"><pre>ColumnTransformer(transformers=[(&#x27;num&#x27;,\n",
       "                                 Pipeline(steps=[(&#x27;scaler&#x27;, StandardScaler())]),\n",
       "                                 [&#x27;age&#x27;, &#x27;cp&#x27;, &#x27;trestbps&#x27;, &#x27;chol&#x27;, &#x27;restecg&#x27;,\n",
       "                                  &#x27;thalach&#x27;, &#x27;oldpeak&#x27;, &#x27;slope&#x27;, &#x27;ca&#x27;,\n",
       "                                  &#x27;thal&#x27;]),\n",
       "                                (&#x27;cats&#x27;,\n",
       "                                 Pipeline(steps=[(&#x27;onehot&#x27;,\n",
       "                                                  OneHotEncoder(sparse_output=False))]),\n",
       "                                 [&#x27;sex&#x27;, &#x27;fbs&#x27;, &#x27;exang&#x27;])])</pre></div></div></div><div class=\"sk-parallel\"><div class=\"sk-parallel-item\"><div class=\"sk-item\"><div class=\"sk-label-container\"><div class=\"sk-label sk-toggleable\"><input class=\"sk-toggleable__control sk-hidden--visually\" id=\"sk-estimator-id-4\" type=\"checkbox\" ><label for=\"sk-estimator-id-4\" class=\"sk-toggleable__label sk-toggleable__label-arrow\">num</label><div class=\"sk-toggleable__content\"><pre>[&#x27;age&#x27;, &#x27;cp&#x27;, &#x27;trestbps&#x27;, &#x27;chol&#x27;, &#x27;restecg&#x27;, &#x27;thalach&#x27;, &#x27;oldpeak&#x27;, &#x27;slope&#x27;, &#x27;ca&#x27;, &#x27;thal&#x27;]</pre></div></div></div><div class=\"sk-serial\"><div class=\"sk-item\"><div class=\"sk-serial\"><div class=\"sk-item\"><div class=\"sk-estimator sk-toggleable\"><input class=\"sk-toggleable__control sk-hidden--visually\" id=\"sk-estimator-id-5\" type=\"checkbox\" ><label for=\"sk-estimator-id-5\" class=\"sk-toggleable__label sk-toggleable__label-arrow\">StandardScaler</label><div class=\"sk-toggleable__content\"><pre>StandardScaler()</pre></div></div></div></div></div></div></div></div><div class=\"sk-parallel-item\"><div class=\"sk-item\"><div class=\"sk-label-container\"><div class=\"sk-label sk-toggleable\"><input class=\"sk-toggleable__control sk-hidden--visually\" id=\"sk-estimator-id-6\" type=\"checkbox\" ><label for=\"sk-estimator-id-6\" class=\"sk-toggleable__label sk-toggleable__label-arrow\">cats</label><div class=\"sk-toggleable__content\"><pre>[&#x27;sex&#x27;, &#x27;fbs&#x27;, &#x27;exang&#x27;]</pre></div></div></div><div class=\"sk-serial\"><div class=\"sk-item\"><div class=\"sk-serial\"><div class=\"sk-item\"><div class=\"sk-estimator sk-toggleable\"><input class=\"sk-toggleable__control sk-hidden--visually\" id=\"sk-estimator-id-7\" type=\"checkbox\" ><label for=\"sk-estimator-id-7\" class=\"sk-toggleable__label sk-toggleable__label-arrow\">OneHotEncoder</label><div class=\"sk-toggleable__content\"><pre>OneHotEncoder(sparse_output=False)</pre></div></div></div></div></div></div></div></div></div></div><div class=\"sk-item\"><div class=\"sk-estimator sk-toggleable\"><input class=\"sk-toggleable__control sk-hidden--visually\" id=\"sk-estimator-id-8\" type=\"checkbox\" ><label for=\"sk-estimator-id-8\" class=\"sk-toggleable__label sk-toggleable__label-arrow\">LogisticRegression</label><div class=\"sk-toggleable__content\"><pre>LogisticRegression(max_iter=500, n_jobs=-1, random_state=42, solver=&#x27;saga&#x27;)</pre></div></div></div></div></div></div></div></div></div></div></div></div>"
      ],
      "text/plain": [
       "GridSearchCV(cv=5,\n",
       "             estimator=Pipeline(steps=[('prep',\n",
       "                                        ColumnTransformer(transformers=[('num',\n",
       "                                                                         Pipeline(steps=[('scaler',\n",
       "                                                                                          StandardScaler())]),\n",
       "                                                                         ['age',\n",
       "                                                                          'cp',\n",
       "                                                                          'trestbps',\n",
       "                                                                          'chol',\n",
       "                                                                          'restecg',\n",
       "                                                                          'thalach',\n",
       "                                                                          'oldpeak',\n",
       "                                                                          'slope',\n",
       "                                                                          'ca',\n",
       "                                                                          'thal']),\n",
       "                                                                        ('cats',\n",
       "                                                                         Pipeline(steps=[('onehot',\n",
       "                                                                                          OneHotEncoder(sparse_output=False))]),\n",
       "                                                                         ['sex',\n",
       "                                                                          'fbs',\n",
       "                                                                          'exang'])])),\n",
       "                                       ('logreg',\n",
       "                                        LogisticRegression(max_iter=500,\n",
       "                                                           n_jobs=-1,\n",
       "                                                           random_state=42,\n",
       "                                                           solver='saga'))]),\n",
       "             param_grid=[{'logreg__C': [0.2, 0.4, 0.6, 0.8, 1],\n",
       "                          'logreg__l1_ratio': [0.0, 0.2, 0.4, 0.6, 0.8, 1],\n",
       "                          'logreg__penalty': ['elasticnet']}],\n",
       "             scoring='accuracy')"
      ]
     },
     "execution_count": 29,
     "metadata": {},
     "output_type": "execute_result"
    }
   ],
   "source": [
    "%time lr_grid_search.fit(X_train, y_train)"
   ]
  },
  {
   "cell_type": "code",
   "execution_count": 30,
   "id": "44722f03-05d7-4583-bd7c-f33e501f6394",
   "metadata": {},
   "outputs": [
    {
     "data": {
      "text/plain": [
       "{'logreg__C': 0.2, 'logreg__l1_ratio': 0.6, 'logreg__penalty': 'elasticnet'}"
      ]
     },
     "execution_count": 30,
     "metadata": {},
     "output_type": "execute_result"
    }
   ],
   "source": [
    "# Best parameters\n",
    "lr_grid_search.best_params_"
   ]
  },
  {
   "cell_type": "code",
   "execution_count": 31,
   "id": "752864e4-7c06-4deb-81ab-d257d4e10ca7",
   "metadata": {},
   "outputs": [
    {
     "data": {
      "text/plain": [
       "0.842517006802721"
      ]
     },
     "execution_count": 31,
     "metadata": {},
     "output_type": "execute_result"
    }
   ],
   "source": [
    "# The best score\n",
    "lr_grid_search.best_score_"
   ]
  },
  {
   "cell_type": "code",
   "execution_count": 32,
   "id": "e956a730-a63b-4cca-8bb2-b1a9466a14ca",
   "metadata": {},
   "outputs": [],
   "source": [
    "lr_cv_res = pd.DataFrame(lr_grid_search.cv_results_)\n",
    "lr_cv_res.sort_values(by=\"mean_test_score\", ascending=False, inplace=True)\n",
    "# lr_cv_res.head()"
   ]
  },
  {
   "cell_type": "code",
   "execution_count": 33,
   "id": "c28fdc02-3ad2-46ee-9509-afe259637ee1",
   "metadata": {},
   "outputs": [
    {
     "data": {
      "text/html": [
       "<div>\n",
       "<style scoped>\n",
       "    .dataframe tbody tr th:only-of-type {\n",
       "        vertical-align: middle;\n",
       "    }\n",
       "\n",
       "    .dataframe tbody tr th {\n",
       "        vertical-align: top;\n",
       "    }\n",
       "\n",
       "    .dataframe thead th {\n",
       "        text-align: right;\n",
       "    }\n",
       "</style>\n",
       "<table border=\"1\" class=\"dataframe\">\n",
       "  <thead>\n",
       "    <tr style=\"text-align: right;\">\n",
       "      <th></th>\n",
       "      <th>mean_fit_time</th>\n",
       "      <th>param_logreg__C</th>\n",
       "      <th>param_logreg__l1_ratio</th>\n",
       "      <th>param_logreg__penalty</th>\n",
       "      <th>split0_test_score</th>\n",
       "      <th>split1_test_score</th>\n",
       "      <th>split2_test_score</th>\n",
       "      <th>split3_test_score</th>\n",
       "      <th>split4_test_score</th>\n",
       "      <th>mean_test_score</th>\n",
       "      <th>std_test_score</th>\n",
       "    </tr>\n",
       "    <tr>\n",
       "      <th>rank_test_score</th>\n",
       "      <th></th>\n",
       "      <th></th>\n",
       "      <th></th>\n",
       "      <th></th>\n",
       "      <th></th>\n",
       "      <th></th>\n",
       "      <th></th>\n",
       "      <th></th>\n",
       "      <th></th>\n",
       "      <th></th>\n",
       "      <th></th>\n",
       "    </tr>\n",
       "  </thead>\n",
       "  <tbody>\n",
       "    <tr>\n",
       "      <th>1</th>\n",
       "      <td>0.020580</td>\n",
       "      <td>0.2</td>\n",
       "      <td>0.6</td>\n",
       "      <td>elasticnet</td>\n",
       "      <td>0.795918</td>\n",
       "      <td>0.812500</td>\n",
       "      <td>0.833333</td>\n",
       "      <td>0.875000</td>\n",
       "      <td>0.895833</td>\n",
       "      <td>0.842517</td>\n",
       "      <td>0.037562</td>\n",
       "    </tr>\n",
       "    <tr>\n",
       "      <th>2</th>\n",
       "      <td>0.021576</td>\n",
       "      <td>0.2</td>\n",
       "      <td>0.4</td>\n",
       "      <td>elasticnet</td>\n",
       "      <td>0.795918</td>\n",
       "      <td>0.812500</td>\n",
       "      <td>0.812500</td>\n",
       "      <td>0.875000</td>\n",
       "      <td>0.895833</td>\n",
       "      <td>0.838350</td>\n",
       "      <td>0.039457</td>\n",
       "    </tr>\n",
       "    <tr>\n",
       "      <th>2</th>\n",
       "      <td>0.029526</td>\n",
       "      <td>0.2</td>\n",
       "      <td>0.8</td>\n",
       "      <td>elasticnet</td>\n",
       "      <td>0.795918</td>\n",
       "      <td>0.812500</td>\n",
       "      <td>0.833333</td>\n",
       "      <td>0.854167</td>\n",
       "      <td>0.895833</td>\n",
       "      <td>0.838350</td>\n",
       "      <td>0.034780</td>\n",
       "    </tr>\n",
       "    <tr>\n",
       "      <th>4</th>\n",
       "      <td>0.023296</td>\n",
       "      <td>0.2</td>\n",
       "      <td>0.0</td>\n",
       "      <td>elasticnet</td>\n",
       "      <td>0.795918</td>\n",
       "      <td>0.791667</td>\n",
       "      <td>0.812500</td>\n",
       "      <td>0.875000</td>\n",
       "      <td>0.895833</td>\n",
       "      <td>0.834184</td>\n",
       "      <td>0.042916</td>\n",
       "    </tr>\n",
       "    <tr>\n",
       "      <th>4</th>\n",
       "      <td>0.027131</td>\n",
       "      <td>0.8</td>\n",
       "      <td>0.2</td>\n",
       "      <td>elasticnet</td>\n",
       "      <td>0.795918</td>\n",
       "      <td>0.791667</td>\n",
       "      <td>0.812500</td>\n",
       "      <td>0.875000</td>\n",
       "      <td>0.895833</td>\n",
       "      <td>0.834184</td>\n",
       "      <td>0.042916</td>\n",
       "    </tr>\n",
       "  </tbody>\n",
       "</table>\n",
       "</div>"
      ],
      "text/plain": [
       "                 mean_fit_time param_logreg__C param_logreg__l1_ratio  \\\n",
       "rank_test_score                                                         \n",
       "1                     0.020580             0.2                    0.6   \n",
       "2                     0.021576             0.2                    0.4   \n",
       "2                     0.029526             0.2                    0.8   \n",
       "4                     0.023296             0.2                    0.0   \n",
       "4                     0.027131             0.8                    0.2   \n",
       "\n",
       "                param_logreg__penalty  split0_test_score  split1_test_score  \\\n",
       "rank_test_score                                                               \n",
       "1                          elasticnet           0.795918           0.812500   \n",
       "2                          elasticnet           0.795918           0.812500   \n",
       "2                          elasticnet           0.795918           0.812500   \n",
       "4                          elasticnet           0.795918           0.791667   \n",
       "4                          elasticnet           0.795918           0.791667   \n",
       "\n",
       "                 split2_test_score  split3_test_score  split4_test_score  \\\n",
       "rank_test_score                                                            \n",
       "1                         0.833333           0.875000           0.895833   \n",
       "2                         0.812500           0.875000           0.895833   \n",
       "2                         0.833333           0.854167           0.895833   \n",
       "4                         0.812500           0.875000           0.895833   \n",
       "4                         0.812500           0.875000           0.895833   \n",
       "\n",
       "                 mean_test_score  std_test_score  \n",
       "rank_test_score                                   \n",
       "1                       0.842517        0.037562  \n",
       "2                       0.838350        0.039457  \n",
       "2                       0.838350        0.034780  \n",
       "4                       0.834184        0.042916  \n",
       "4                       0.834184        0.042916  "
      ]
     },
     "execution_count": 33,
     "metadata": {},
     "output_type": "execute_result"
    }
   ],
   "source": [
    "logistic_results = lr_cv_res.set_index(\"rank_test_score\").iloc[:, [0, 4, 5, 6, 8, 9, 10, 11, 12, 13, 14]]\n",
    "logistic_results.head()"
   ]
  },
  {
   "cell_type": "markdown",
   "id": "0da47b7e-3f03-43c9-a1f8-8ec1cefd5182",
   "metadata": {},
   "source": [
    "one point above, when trained mormally. The standard deviation is also reduced"
   ]
  },
  {
   "cell_type": "code",
   "execution_count": 34,
   "id": "dad739b5-621b-4287-a514-ce3304646e68",
   "metadata": {},
   "outputs": [],
   "source": [
    "# # Get the f1 socre\n",
    "# print(classification_report(lr_grid_search, X_train, y_train))"
   ]
  },
  {
   "cell_type": "markdown",
   "id": "4e5fdbf6-c508-442b-b510-c7d350cec501",
   "metadata": {
    "jp-MarkdownHeadingCollapsed": true
   },
   "source": [
    "### Fine tune catboost"
   ]
  },
  {
   "cell_type": "code",
   "execution_count": 35,
   "id": "b6186790-c85e-4826-a28e-4c8710c49458",
   "metadata": {},
   "outputs": [],
   "source": [
    "cat_grid_pipeline = Pipeline([\n",
    "    ('prep', preprocessing),\n",
    "    ('cat', CatBoostClassifier(verbose=0))\n",
    "])"
   ]
  },
  {
   "cell_type": "code",
   "execution_count": 36,
   "id": "44d57f3c-7b4e-46fc-8518-ad8b4975d81e",
   "metadata": {},
   "outputs": [],
   "source": [
    "# # Get the list of parameters that are available for tuning\n",
    "# list(cat_grid_pipeline.get_params().keys())"
   ]
  },
  {
   "cell_type": "code",
   "execution_count": 37,
   "id": "effd4d54-1d33-4c99-be03-e94370fdf3bd",
   "metadata": {},
   "outputs": [],
   "source": [
    "cat_param_grid = [{\n",
    "    'cat__learning_rate': [None, 0.02, 0.03],\n",
    "    \"cat__depth\": [None, 6, 10],\n",
    "    \"cat__l2_leaf_reg\": [None, 2, 3]\n",
    "}]"
   ]
  },
  {
   "cell_type": "code",
   "execution_count": 38,
   "id": "9570b706-a859-4b68-9641-a165b9f6a6d2",
   "metadata": {},
   "outputs": [],
   "source": [
    "cat_grid_search = GridSearchCV(\n",
    "    cat_grid_pipeline, \n",
    "    cat_param_grid, cv=5,\n",
    "    scoring='accuracy'\n",
    ")"
   ]
  },
  {
   "cell_type": "code",
   "execution_count": 39,
   "id": "798efe99-a528-4a2a-a33e-48d8688f86d3",
   "metadata": {},
   "outputs": [
    {
     "name": "stdout",
     "output_type": "stream",
     "text": [
      "CPU times: user 16min 37s, sys: 2min 14s, total: 18min 51s\n",
      "Wall time: 6min 19s\n"
     ]
    },
    {
     "data": {
      "text/html": [
       "<style>#sk-container-id-2 {color: black;}#sk-container-id-2 pre{padding: 0;}#sk-container-id-2 div.sk-toggleable {background-color: white;}#sk-container-id-2 label.sk-toggleable__label {cursor: pointer;display: block;width: 100%;margin-bottom: 0;padding: 0.3em;box-sizing: border-box;text-align: center;}#sk-container-id-2 label.sk-toggleable__label-arrow:before {content: \"▸\";float: left;margin-right: 0.25em;color: #696969;}#sk-container-id-2 label.sk-toggleable__label-arrow:hover:before {color: black;}#sk-container-id-2 div.sk-estimator:hover label.sk-toggleable__label-arrow:before {color: black;}#sk-container-id-2 div.sk-toggleable__content {max-height: 0;max-width: 0;overflow: hidden;text-align: left;background-color: #f0f8ff;}#sk-container-id-2 div.sk-toggleable__content pre {margin: 0.2em;color: black;border-radius: 0.25em;background-color: #f0f8ff;}#sk-container-id-2 input.sk-toggleable__control:checked~div.sk-toggleable__content {max-height: 200px;max-width: 100%;overflow: auto;}#sk-container-id-2 input.sk-toggleable__control:checked~label.sk-toggleable__label-arrow:before {content: \"▾\";}#sk-container-id-2 div.sk-estimator input.sk-toggleable__control:checked~label.sk-toggleable__label {background-color: #d4ebff;}#sk-container-id-2 div.sk-label input.sk-toggleable__control:checked~label.sk-toggleable__label {background-color: #d4ebff;}#sk-container-id-2 input.sk-hidden--visually {border: 0;clip: rect(1px 1px 1px 1px);clip: rect(1px, 1px, 1px, 1px);height: 1px;margin: -1px;overflow: hidden;padding: 0;position: absolute;width: 1px;}#sk-container-id-2 div.sk-estimator {font-family: monospace;background-color: #f0f8ff;border: 1px dotted black;border-radius: 0.25em;box-sizing: border-box;margin-bottom: 0.5em;}#sk-container-id-2 div.sk-estimator:hover {background-color: #d4ebff;}#sk-container-id-2 div.sk-parallel-item::after {content: \"\";width: 100%;border-bottom: 1px solid gray;flex-grow: 1;}#sk-container-id-2 div.sk-label:hover label.sk-toggleable__label {background-color: #d4ebff;}#sk-container-id-2 div.sk-serial::before {content: \"\";position: absolute;border-left: 1px solid gray;box-sizing: border-box;top: 0;bottom: 0;left: 50%;z-index: 0;}#sk-container-id-2 div.sk-serial {display: flex;flex-direction: column;align-items: center;background-color: white;padding-right: 0.2em;padding-left: 0.2em;position: relative;}#sk-container-id-2 div.sk-item {position: relative;z-index: 1;}#sk-container-id-2 div.sk-parallel {display: flex;align-items: stretch;justify-content: center;background-color: white;position: relative;}#sk-container-id-2 div.sk-item::before, #sk-container-id-2 div.sk-parallel-item::before {content: \"\";position: absolute;border-left: 1px solid gray;box-sizing: border-box;top: 0;bottom: 0;left: 50%;z-index: -1;}#sk-container-id-2 div.sk-parallel-item {display: flex;flex-direction: column;z-index: 1;position: relative;background-color: white;}#sk-container-id-2 div.sk-parallel-item:first-child::after {align-self: flex-end;width: 50%;}#sk-container-id-2 div.sk-parallel-item:last-child::after {align-self: flex-start;width: 50%;}#sk-container-id-2 div.sk-parallel-item:only-child::after {width: 0;}#sk-container-id-2 div.sk-dashed-wrapped {border: 1px dashed gray;margin: 0 0.4em 0.5em 0.4em;box-sizing: border-box;padding-bottom: 0.4em;background-color: white;}#sk-container-id-2 div.sk-label label {font-family: monospace;font-weight: bold;display: inline-block;line-height: 1.2em;}#sk-container-id-2 div.sk-label-container {text-align: center;}#sk-container-id-2 div.sk-container {/* jupyter's `normalize.less` sets `[hidden] { display: none; }` but bootstrap.min.css set `[hidden] { display: none !important; }` so we also need the `!important` here to be able to override the default hidden behavior on the sphinx rendered scikit-learn.org. See: https://github.com/scikit-learn/scikit-learn/issues/21755 */display: inline-block !important;position: relative;}#sk-container-id-2 div.sk-text-repr-fallback {display: none;}</style><div id=\"sk-container-id-2\" class=\"sk-top-container\"><div class=\"sk-text-repr-fallback\"><pre>GridSearchCV(cv=5,\n",
       "             estimator=Pipeline(steps=[(&#x27;prep&#x27;,\n",
       "                                        ColumnTransformer(transformers=[(&#x27;num&#x27;,\n",
       "                                                                         Pipeline(steps=[(&#x27;scaler&#x27;,\n",
       "                                                                                          StandardScaler())]),\n",
       "                                                                         [&#x27;age&#x27;,\n",
       "                                                                          &#x27;cp&#x27;,\n",
       "                                                                          &#x27;trestbps&#x27;,\n",
       "                                                                          &#x27;chol&#x27;,\n",
       "                                                                          &#x27;restecg&#x27;,\n",
       "                                                                          &#x27;thalach&#x27;,\n",
       "                                                                          &#x27;oldpeak&#x27;,\n",
       "                                                                          &#x27;slope&#x27;,\n",
       "                                                                          &#x27;ca&#x27;,\n",
       "                                                                          &#x27;thal&#x27;]),\n",
       "                                                                        (&#x27;cats&#x27;,\n",
       "                                                                         Pipeline(steps=[(&#x27;onehot&#x27;,\n",
       "                                                                                          OneHotEncoder(sparse_output=False))]),\n",
       "                                                                         [&#x27;sex&#x27;,\n",
       "                                                                          &#x27;fbs&#x27;,\n",
       "                                                                          &#x27;exang&#x27;])])),\n",
       "                                       (&#x27;cat&#x27;,\n",
       "                                        &lt;catboost.core.CatBoostClassifier object at 0x74e493673b50&gt;)]),\n",
       "             param_grid=[{&#x27;cat__depth&#x27;: [None, 6, 10],\n",
       "                          &#x27;cat__l2_leaf_reg&#x27;: [None, 2, 3],\n",
       "                          &#x27;cat__learning_rate&#x27;: [None, 0.02, 0.03]}],\n",
       "             scoring=&#x27;accuracy&#x27;)</pre><b>In a Jupyter environment, please rerun this cell to show the HTML representation or trust the notebook. <br />On GitHub, the HTML representation is unable to render, please try loading this page with nbviewer.org.</b></div><div class=\"sk-container\" hidden><div class=\"sk-item sk-dashed-wrapped\"><div class=\"sk-label-container\"><div class=\"sk-label sk-toggleable\"><input class=\"sk-toggleable__control sk-hidden--visually\" id=\"sk-estimator-id-9\" type=\"checkbox\" ><label for=\"sk-estimator-id-9\" class=\"sk-toggleable__label sk-toggleable__label-arrow\">GridSearchCV</label><div class=\"sk-toggleable__content\"><pre>GridSearchCV(cv=5,\n",
       "             estimator=Pipeline(steps=[(&#x27;prep&#x27;,\n",
       "                                        ColumnTransformer(transformers=[(&#x27;num&#x27;,\n",
       "                                                                         Pipeline(steps=[(&#x27;scaler&#x27;,\n",
       "                                                                                          StandardScaler())]),\n",
       "                                                                         [&#x27;age&#x27;,\n",
       "                                                                          &#x27;cp&#x27;,\n",
       "                                                                          &#x27;trestbps&#x27;,\n",
       "                                                                          &#x27;chol&#x27;,\n",
       "                                                                          &#x27;restecg&#x27;,\n",
       "                                                                          &#x27;thalach&#x27;,\n",
       "                                                                          &#x27;oldpeak&#x27;,\n",
       "                                                                          &#x27;slope&#x27;,\n",
       "                                                                          &#x27;ca&#x27;,\n",
       "                                                                          &#x27;thal&#x27;]),\n",
       "                                                                        (&#x27;cats&#x27;,\n",
       "                                                                         Pipeline(steps=[(&#x27;onehot&#x27;,\n",
       "                                                                                          OneHotEncoder(sparse_output=False))]),\n",
       "                                                                         [&#x27;sex&#x27;,\n",
       "                                                                          &#x27;fbs&#x27;,\n",
       "                                                                          &#x27;exang&#x27;])])),\n",
       "                                       (&#x27;cat&#x27;,\n",
       "                                        &lt;catboost.core.CatBoostClassifier object at 0x74e493673b50&gt;)]),\n",
       "             param_grid=[{&#x27;cat__depth&#x27;: [None, 6, 10],\n",
       "                          &#x27;cat__l2_leaf_reg&#x27;: [None, 2, 3],\n",
       "                          &#x27;cat__learning_rate&#x27;: [None, 0.02, 0.03]}],\n",
       "             scoring=&#x27;accuracy&#x27;)</pre></div></div></div><div class=\"sk-parallel\"><div class=\"sk-parallel-item\"><div class=\"sk-item\"><div class=\"sk-label-container\"><div class=\"sk-label sk-toggleable\"><input class=\"sk-toggleable__control sk-hidden--visually\" id=\"sk-estimator-id-10\" type=\"checkbox\" ><label for=\"sk-estimator-id-10\" class=\"sk-toggleable__label sk-toggleable__label-arrow\">estimator: Pipeline</label><div class=\"sk-toggleable__content\"><pre>Pipeline(steps=[(&#x27;prep&#x27;,\n",
       "                 ColumnTransformer(transformers=[(&#x27;num&#x27;,\n",
       "                                                  Pipeline(steps=[(&#x27;scaler&#x27;,\n",
       "                                                                   StandardScaler())]),\n",
       "                                                  [&#x27;age&#x27;, &#x27;cp&#x27;, &#x27;trestbps&#x27;,\n",
       "                                                   &#x27;chol&#x27;, &#x27;restecg&#x27;, &#x27;thalach&#x27;,\n",
       "                                                   &#x27;oldpeak&#x27;, &#x27;slope&#x27;, &#x27;ca&#x27;,\n",
       "                                                   &#x27;thal&#x27;]),\n",
       "                                                 (&#x27;cats&#x27;,\n",
       "                                                  Pipeline(steps=[(&#x27;onehot&#x27;,\n",
       "                                                                   OneHotEncoder(sparse_output=False))]),\n",
       "                                                  [&#x27;sex&#x27;, &#x27;fbs&#x27;, &#x27;exang&#x27;])])),\n",
       "                (&#x27;cat&#x27;,\n",
       "                 &lt;catboost.core.CatBoostClassifier object at 0x74e493673b50&gt;)])</pre></div></div></div><div class=\"sk-serial\"><div class=\"sk-item\"><div class=\"sk-serial\"><div class=\"sk-item sk-dashed-wrapped\"><div class=\"sk-label-container\"><div class=\"sk-label sk-toggleable\"><input class=\"sk-toggleable__control sk-hidden--visually\" id=\"sk-estimator-id-11\" type=\"checkbox\" ><label for=\"sk-estimator-id-11\" class=\"sk-toggleable__label sk-toggleable__label-arrow\">prep: ColumnTransformer</label><div class=\"sk-toggleable__content\"><pre>ColumnTransformer(transformers=[(&#x27;num&#x27;,\n",
       "                                 Pipeline(steps=[(&#x27;scaler&#x27;, StandardScaler())]),\n",
       "                                 [&#x27;age&#x27;, &#x27;cp&#x27;, &#x27;trestbps&#x27;, &#x27;chol&#x27;, &#x27;restecg&#x27;,\n",
       "                                  &#x27;thalach&#x27;, &#x27;oldpeak&#x27;, &#x27;slope&#x27;, &#x27;ca&#x27;,\n",
       "                                  &#x27;thal&#x27;]),\n",
       "                                (&#x27;cats&#x27;,\n",
       "                                 Pipeline(steps=[(&#x27;onehot&#x27;,\n",
       "                                                  OneHotEncoder(sparse_output=False))]),\n",
       "                                 [&#x27;sex&#x27;, &#x27;fbs&#x27;, &#x27;exang&#x27;])])</pre></div></div></div><div class=\"sk-parallel\"><div class=\"sk-parallel-item\"><div class=\"sk-item\"><div class=\"sk-label-container\"><div class=\"sk-label sk-toggleable\"><input class=\"sk-toggleable__control sk-hidden--visually\" id=\"sk-estimator-id-12\" type=\"checkbox\" ><label for=\"sk-estimator-id-12\" class=\"sk-toggleable__label sk-toggleable__label-arrow\">num</label><div class=\"sk-toggleable__content\"><pre>[&#x27;age&#x27;, &#x27;cp&#x27;, &#x27;trestbps&#x27;, &#x27;chol&#x27;, &#x27;restecg&#x27;, &#x27;thalach&#x27;, &#x27;oldpeak&#x27;, &#x27;slope&#x27;, &#x27;ca&#x27;, &#x27;thal&#x27;]</pre></div></div></div><div class=\"sk-serial\"><div class=\"sk-item\"><div class=\"sk-serial\"><div class=\"sk-item\"><div class=\"sk-estimator sk-toggleable\"><input class=\"sk-toggleable__control sk-hidden--visually\" id=\"sk-estimator-id-13\" type=\"checkbox\" ><label for=\"sk-estimator-id-13\" class=\"sk-toggleable__label sk-toggleable__label-arrow\">StandardScaler</label><div class=\"sk-toggleable__content\"><pre>StandardScaler()</pre></div></div></div></div></div></div></div></div><div class=\"sk-parallel-item\"><div class=\"sk-item\"><div class=\"sk-label-container\"><div class=\"sk-label sk-toggleable\"><input class=\"sk-toggleable__control sk-hidden--visually\" id=\"sk-estimator-id-14\" type=\"checkbox\" ><label for=\"sk-estimator-id-14\" class=\"sk-toggleable__label sk-toggleable__label-arrow\">cats</label><div class=\"sk-toggleable__content\"><pre>[&#x27;sex&#x27;, &#x27;fbs&#x27;, &#x27;exang&#x27;]</pre></div></div></div><div class=\"sk-serial\"><div class=\"sk-item\"><div class=\"sk-serial\"><div class=\"sk-item\"><div class=\"sk-estimator sk-toggleable\"><input class=\"sk-toggleable__control sk-hidden--visually\" id=\"sk-estimator-id-15\" type=\"checkbox\" ><label for=\"sk-estimator-id-15\" class=\"sk-toggleable__label sk-toggleable__label-arrow\">OneHotEncoder</label><div class=\"sk-toggleable__content\"><pre>OneHotEncoder(sparse_output=False)</pre></div></div></div></div></div></div></div></div></div></div><div class=\"sk-item\"><div class=\"sk-estimator sk-toggleable\"><input class=\"sk-toggleable__control sk-hidden--visually\" id=\"sk-estimator-id-16\" type=\"checkbox\" ><label for=\"sk-estimator-id-16\" class=\"sk-toggleable__label sk-toggleable__label-arrow\">CatBoostClassifier</label><div class=\"sk-toggleable__content\"><pre>&lt;catboost.core.CatBoostClassifier object at 0x74e493673b50&gt;</pre></div></div></div></div></div></div></div></div></div></div></div></div>"
      ],
      "text/plain": [
       "GridSearchCV(cv=5,\n",
       "             estimator=Pipeline(steps=[('prep',\n",
       "                                        ColumnTransformer(transformers=[('num',\n",
       "                                                                         Pipeline(steps=[('scaler',\n",
       "                                                                                          StandardScaler())]),\n",
       "                                                                         ['age',\n",
       "                                                                          'cp',\n",
       "                                                                          'trestbps',\n",
       "                                                                          'chol',\n",
       "                                                                          'restecg',\n",
       "                                                                          'thalach',\n",
       "                                                                          'oldpeak',\n",
       "                                                                          'slope',\n",
       "                                                                          'ca',\n",
       "                                                                          'thal']),\n",
       "                                                                        ('cats',\n",
       "                                                                         Pipeline(steps=[('onehot',\n",
       "                                                                                          OneHotEncoder(sparse_output=False))]),\n",
       "                                                                         ['sex',\n",
       "                                                                          'fbs',\n",
       "                                                                          'exang'])])),\n",
       "                                       ('cat',\n",
       "                                        <catboost.core.CatBoostClassifier object at 0x74e493673b50>)]),\n",
       "             param_grid=[{'cat__depth': [None, 6, 10],\n",
       "                          'cat__l2_leaf_reg': [None, 2, 3],\n",
       "                          'cat__learning_rate': [None, 0.02, 0.03]}],\n",
       "             scoring='accuracy')"
      ]
     },
     "execution_count": 39,
     "metadata": {},
     "output_type": "execute_result"
    }
   ],
   "source": [
    "%time cat_grid_search.fit(X_train, y_train)"
   ]
  },
  {
   "cell_type": "code",
   "execution_count": 40,
   "id": "fe116ca9-18a3-439c-8255-c6e2d22343f3",
   "metadata": {},
   "outputs": [
    {
     "data": {
      "text/plain": [
       "{'cat__depth': None, 'cat__l2_leaf_reg': None, 'cat__learning_rate': None}"
      ]
     },
     "execution_count": 40,
     "metadata": {},
     "output_type": "execute_result"
    }
   ],
   "source": [
    "# Best parameters\n",
    "cat_grid_search.best_params_"
   ]
  },
  {
   "cell_type": "code",
   "execution_count": 41,
   "id": "b34d59eb-43b4-4cba-aefb-39c04ae17196",
   "metadata": {},
   "outputs": [
    {
     "data": {
      "text/plain": [
       "0.8260204081632653"
      ]
     },
     "execution_count": 41,
     "metadata": {},
     "output_type": "execute_result"
    }
   ],
   "source": [
    "# The best score\n",
    "cat_grid_search.best_score_"
   ]
  },
  {
   "cell_type": "code",
   "execution_count": 42,
   "id": "7913fca2-ddd3-428d-a55a-c0290fe85350",
   "metadata": {},
   "outputs": [],
   "source": [
    "cat_cv_res = pd.DataFrame(cat_grid_search.cv_results_)\n",
    "cat_cv_res.sort_values(by=\"mean_test_score\", ascending=False, inplace=True)\n",
    "# cat_cv_res.head()"
   ]
  },
  {
   "cell_type": "code",
   "execution_count": 43,
   "id": "ece80f65-aa6c-44aa-88f5-3e7ade74abe1",
   "metadata": {},
   "outputs": [
    {
     "data": {
      "text/html": [
       "<div>\n",
       "<style scoped>\n",
       "    .dataframe tbody tr th:only-of-type {\n",
       "        vertical-align: middle;\n",
       "    }\n",
       "\n",
       "    .dataframe tbody tr th {\n",
       "        vertical-align: top;\n",
       "    }\n",
       "\n",
       "    .dataframe thead th {\n",
       "        text-align: right;\n",
       "    }\n",
       "</style>\n",
       "<table border=\"1\" class=\"dataframe\">\n",
       "  <thead>\n",
       "    <tr style=\"text-align: right;\">\n",
       "      <th></th>\n",
       "      <th>mean_fit_time</th>\n",
       "      <th>param_cat__depth</th>\n",
       "      <th>param_cat__l2_leaf_reg</th>\n",
       "      <th>param_cat__learning_rate</th>\n",
       "      <th>split0_test_score</th>\n",
       "      <th>split1_test_score</th>\n",
       "      <th>split2_test_score</th>\n",
       "      <th>split3_test_score</th>\n",
       "      <th>split4_test_score</th>\n",
       "      <th>mean_test_score</th>\n",
       "      <th>std_test_score</th>\n",
       "    </tr>\n",
       "    <tr>\n",
       "      <th>rank_test_score</th>\n",
       "      <th></th>\n",
       "      <th></th>\n",
       "      <th></th>\n",
       "      <th></th>\n",
       "      <th></th>\n",
       "      <th></th>\n",
       "      <th></th>\n",
       "      <th></th>\n",
       "      <th></th>\n",
       "      <th></th>\n",
       "      <th></th>\n",
       "    </tr>\n",
       "  </thead>\n",
       "  <tbody>\n",
       "    <tr>\n",
       "      <th>1</th>\n",
       "      <td>1.290889</td>\n",
       "      <td>None</td>\n",
       "      <td>None</td>\n",
       "      <td>None</td>\n",
       "      <td>0.755102</td>\n",
       "      <td>0.812500</td>\n",
       "      <td>0.833333</td>\n",
       "      <td>0.875000</td>\n",
       "      <td>0.854167</td>\n",
       "      <td>0.826020</td>\n",
       "      <td>0.041126</td>\n",
       "    </tr>\n",
       "    <tr>\n",
       "      <th>1</th>\n",
       "      <td>1.286286</td>\n",
       "      <td>6</td>\n",
       "      <td>None</td>\n",
       "      <td>None</td>\n",
       "      <td>0.755102</td>\n",
       "      <td>0.812500</td>\n",
       "      <td>0.833333</td>\n",
       "      <td>0.875000</td>\n",
       "      <td>0.854167</td>\n",
       "      <td>0.826020</td>\n",
       "      <td>0.041126</td>\n",
       "    </tr>\n",
       "    <tr>\n",
       "      <th>3</th>\n",
       "      <td>5.356423</td>\n",
       "      <td>10</td>\n",
       "      <td>None</td>\n",
       "      <td>None</td>\n",
       "      <td>0.775510</td>\n",
       "      <td>0.812500</td>\n",
       "      <td>0.791667</td>\n",
       "      <td>0.854167</td>\n",
       "      <td>0.875000</td>\n",
       "      <td>0.821769</td>\n",
       "      <td>0.037457</td>\n",
       "    </tr>\n",
       "    <tr>\n",
       "      <th>4</th>\n",
       "      <td>6.088298</td>\n",
       "      <td>10</td>\n",
       "      <td>3</td>\n",
       "      <td>0.02</td>\n",
       "      <td>0.775510</td>\n",
       "      <td>0.791667</td>\n",
       "      <td>0.791667</td>\n",
       "      <td>0.854167</td>\n",
       "      <td>0.875000</td>\n",
       "      <td>0.817602</td>\n",
       "      <td>0.039366</td>\n",
       "    </tr>\n",
       "    <tr>\n",
       "      <th>4</th>\n",
       "      <td>5.783550</td>\n",
       "      <td>10</td>\n",
       "      <td>None</td>\n",
       "      <td>0.02</td>\n",
       "      <td>0.775510</td>\n",
       "      <td>0.791667</td>\n",
       "      <td>0.791667</td>\n",
       "      <td>0.854167</td>\n",
       "      <td>0.875000</td>\n",
       "      <td>0.817602</td>\n",
       "      <td>0.039366</td>\n",
       "    </tr>\n",
       "  </tbody>\n",
       "</table>\n",
       "</div>"
      ],
      "text/plain": [
       "                 mean_fit_time param_cat__depth param_cat__l2_leaf_reg  \\\n",
       "rank_test_score                                                          \n",
       "1                     1.290889             None                   None   \n",
       "1                     1.286286                6                   None   \n",
       "3                     5.356423               10                   None   \n",
       "4                     6.088298               10                      3   \n",
       "4                     5.783550               10                   None   \n",
       "\n",
       "                param_cat__learning_rate  split0_test_score  \\\n",
       "rank_test_score                                               \n",
       "1                                   None           0.755102   \n",
       "1                                   None           0.755102   \n",
       "3                                   None           0.775510   \n",
       "4                                   0.02           0.775510   \n",
       "4                                   0.02           0.775510   \n",
       "\n",
       "                 split1_test_score  split2_test_score  split3_test_score  \\\n",
       "rank_test_score                                                            \n",
       "1                         0.812500           0.833333           0.875000   \n",
       "1                         0.812500           0.833333           0.875000   \n",
       "3                         0.812500           0.791667           0.854167   \n",
       "4                         0.791667           0.791667           0.854167   \n",
       "4                         0.791667           0.791667           0.854167   \n",
       "\n",
       "                 split4_test_score  mean_test_score  std_test_score  \n",
       "rank_test_score                                                      \n",
       "1                         0.854167         0.826020        0.041126  \n",
       "1                         0.854167         0.826020        0.041126  \n",
       "3                         0.875000         0.821769        0.037457  \n",
       "4                         0.875000         0.817602        0.039366  \n",
       "4                         0.875000         0.817602        0.039366  "
      ]
     },
     "execution_count": 43,
     "metadata": {},
     "output_type": "execute_result"
    }
   ],
   "source": [
    "catboost_results = cat_cv_res.set_index(\"rank_test_score\").iloc[:, [0, 4, 5, 6, 8, 9, 10, 11, 12, 13, 14]]\n",
    "catboost_results.head()"
   ]
  },
  {
   "cell_type": "markdown",
   "id": "1aa7d4d1-a705-48ac-9d18-a61aab1522da",
   "metadata": {},
   "source": [
    "Compare catboost to logistic regression"
   ]
  },
  {
   "cell_type": "code",
   "execution_count": 44,
   "id": "5b160c47-0ece-4657-98fc-5bbce70c0de5",
   "metadata": {},
   "outputs": [
    {
     "data": {
      "text/plain": [
       "mean_fit_time                0.02058\n",
       "param_logreg__C                  0.2\n",
       "param_logreg__l1_ratio           0.6\n",
       "param_logreg__penalty     elasticnet\n",
       "split0_test_score           0.795918\n",
       "split1_test_score             0.8125\n",
       "split2_test_score           0.833333\n",
       "split3_test_score              0.875\n",
       "split4_test_score           0.895833\n",
       "mean_test_score             0.842517\n",
       "std_test_score              0.037562\n",
       "Name: 1, dtype: object"
      ]
     },
     "execution_count": 44,
     "metadata": {},
     "output_type": "execute_result"
    }
   ],
   "source": [
    "logistic_results.iloc[0]"
   ]
  },
  {
   "cell_type": "code",
   "execution_count": 45,
   "id": "f26f9a1d-0a8c-4b41-81b8-d3f4ae7e8903",
   "metadata": {},
   "outputs": [
    {
     "data": {
      "text/plain": [
       "mean_fit_time               1.290889\n",
       "param_cat__depth                None\n",
       "param_cat__l2_leaf_reg          None\n",
       "param_cat__learning_rate        None\n",
       "split0_test_score           0.755102\n",
       "split1_test_score             0.8125\n",
       "split2_test_score           0.833333\n",
       "split3_test_score              0.875\n",
       "split4_test_score           0.854167\n",
       "mean_test_score              0.82602\n",
       "std_test_score              0.041126\n",
       "Name: 1, dtype: object"
      ]
     },
     "execution_count": 45,
     "metadata": {},
     "output_type": "execute_result"
    }
   ],
   "source": [
    "catboost_results.iloc[0]"
   ]
  },
  {
   "cell_type": "markdown",
   "id": "ee3ff037-daa5-46db-a24e-41fa7409bfe4",
   "metadata": {},
   "source": [
    "Logistic regression gave the best results"
   ]
  },
  {
   "cell_type": "markdown",
   "id": "d34f4883-0463-4dc7-b711-84db7f75b99c",
   "metadata": {},
   "source": [
    "## Training and evaluation"
   ]
  },
  {
   "cell_type": "code",
   "execution_count": 46,
   "id": "8ec7501d-c97e-4b7b-a3a2-a4a923426db5",
   "metadata": {},
   "outputs": [],
   "source": [
    "# Pipeline\n",
    "final_model = Pipeline([\n",
    "    ('prep', preprocessing),\n",
    "    ('logreg', LogisticRegression(solver='saga', \n",
    "                                  max_iter=500, \n",
    "                                  C=0.2,\n",
    "                                  l1_ratio=0.6,\n",
    "                                  penalty='elasticnet',\n",
    "                                  random_state=42, \n",
    "                                  n_jobs=-1))\n",
    "])"
   ]
  },
  {
   "cell_type": "code",
   "execution_count": 47,
   "id": "eb1fa253-841a-4fb5-9c5c-8faf169b1188",
   "metadata": {},
   "outputs": [
    {
     "data": {
      "text/plain": [
       "array([1, 0, 0, 0, 1])"
      ]
     },
     "execution_count": 47,
     "metadata": {},
     "output_type": "execute_result"
    }
   ],
   "source": [
    "# Get the teh predictions\n",
    "final_model_preds = cross_val_predict(final_model, X_train, y_train, cv=5)\n",
    "final_model_preds[:5]"
   ]
  },
  {
   "cell_type": "code",
   "execution_count": 48,
   "id": "23704cb5-b9a0-4e0a-b659-010553f63ef8",
   "metadata": {},
   "outputs": [
    {
     "name": "stdout",
     "output_type": "stream",
     "text": [
      "              precision    recall  f1-score   support\n",
      "\n",
      "           0       0.88      0.76      0.82       110\n",
      "           1       0.82      0.91      0.86       131\n",
      "\n",
      "    accuracy                           0.84       241\n",
      "   macro avg       0.85      0.84      0.84       241\n",
      "weighted avg       0.85      0.84      0.84       241\n",
      "\n"
     ]
    }
   ],
   "source": [
    "print(classification_report(y_train, final_model_preds))"
   ]
  },
  {
   "cell_type": "code",
   "execution_count": 49,
   "id": "8788de97-ffb4-4a7c-ae66-d193d267ad6c",
   "metadata": {},
   "outputs": [],
   "source": [
    "# Define a function to plot confusion matrix\n",
    "def conf_mat(true, pred, figsize=(5, 3)):\n",
    "    \"\"\"\n",
    "    Generate confusion matrix from predictions\n",
    "    \"\"\"\n",
    "    plt.figure(figsize=figsize)\n",
    "    cm = confusion_matrix(true, pred)\n",
    "    sns.heatmap(cm, annot=True, fmt='d', cmap='viridis')\n",
    "    plt.xlabel(\"Predicted label\")\n",
    "    plt.ylabel('True label')\n",
    "    plt.title('confusion matrix')\n",
    "    return plt.show();"
   ]
  },
  {
   "cell_type": "code",
   "execution_count": 50,
   "id": "c64a677d-a996-4573-89f6-b2d68d0ab1d7",
   "metadata": {},
   "outputs": [
    {
     "data": {
      "image/png": "[encoded data removed]",
      "text/plain": [
       "<Figure size 500x300 with 2 Axes>"
      ]
     },
     "metadata": {},
     "output_type": "display_data"
    }
   ],
   "source": [
    "# Get the confusion matrix\n",
    "conf_mat(y_train, final_model_preds)"
   ]
  },
  {
   "cell_type": "markdown",
   "id": "5b9cabc2-8d41-485b-99c4-e27e29dccb72",
   "metadata": {},
   "source": [
    "+ Because we are predicting diabetes, we need to prioritize recall over precision\n",
    "+ better to misclassify someone without diabetes to to misclassify someone with diabetes.\n",
    "+ We are talking about lives here\n",
    "+ If someone without diabetes was misclassified, further tests will reveal the truth"
   ]
  },
  {
   "cell_type": "code",
   "execution_count": 51,
   "id": "4919ae64-e5c7-4d0f-815e-4afed0a691d7",
   "metadata": {},
   "outputs": [
    {
     "data": {
      "text/plain": [
       "array([[0.28700261, 0.71299739],\n",
       "       [0.6629552 , 0.3370448 ],\n",
       "       [0.82207576, 0.17792424],\n",
       "       [0.94438592, 0.05561408],\n",
       "       [0.0763279 , 0.9236721 ]])"
      ]
     },
     "execution_count": 51,
     "metadata": {},
     "output_type": "execute_result"
    }
   ],
   "source": [
    "# Get the prediction probabilities\n",
    "final_pred_probas = cross_val_predict(final_model, X_train, y_train, cv=5, method=\"predict_proba\")\n",
    "final_pred_probas[:5]"
   ]
  },
  {
   "cell_type": "code",
   "execution_count": 52,
   "id": "1ff136e8-653d-4f90-931a-0e883089c352",
   "metadata": {},
   "outputs": [
    {
     "data": {
      "text/plain": [
       "array([0.71299739, 0.3370448 , 0.17792424, 0.05561408, 0.9236721 ])"
      ]
     },
     "execution_count": 52,
     "metadata": {},
     "output_type": "execute_result"
    }
   ],
   "source": [
    "# Get the pred probas for \"true\"\n",
    "final_pred_probas_1 = final_pred_probas[:, 1]\n",
    "final_pred_probas_1[:5]"
   ]
  },
  {
   "cell_type": "code",
   "execution_count": 53,
   "id": "8ca4391b-8094-4320-9768-2f18e6408203",
   "metadata": {},
   "outputs": [],
   "source": [
    "# Get the precision and recall at all possible thresholds\n",
    "precisions, recalls, thresholds = precision_recall_curve(y_true=y_train, probas_pred=final_pred_probas_1)"
   ]
  },
  {
   "cell_type": "code",
   "execution_count": 54,
   "id": "32fcba30-7d17-40b2-b191-8e77eced9151",
   "metadata": {},
   "outputs": [
    {
     "data": {
      "text/plain": [
       "array([0.54356846, 0.54583333, 0.54811715, 0.55042017, 0.55274262,\n",
       "       0.55508475, 0.55744681, 0.55982906, 0.56223176, 0.56465517,\n",
       "       0.56709957, 0.56956522, 0.5720524 , 0.5745614 , 0.57709251])"
      ]
     },
     "execution_count": 54,
     "metadata": {},
     "output_type": "execute_result"
    }
   ],
   "source": [
    "precisions[:15]  # Remember precision starts off low"
   ]
  },
  {
   "cell_type": "code",
   "execution_count": 55,
   "id": "6ef5a784-3652-415b-a604-1fb17f24fec0",
   "metadata": {},
   "outputs": [
    {
     "data": {
      "text/plain": [
       "array([1., 1., 1., 1., 1., 1., 1., 1., 1., 1., 1., 1., 1., 1., 1.])"
      ]
     },
     "execution_count": 55,
     "metadata": {},
     "output_type": "execute_result"
    }
   ],
   "source": [
    "recalls[:15]  # Recall start of high"
   ]
  },
  {
   "cell_type": "code",
   "execution_count": 56,
   "id": "e4a05d2d-99e2-4b1a-a9b9-1e376b700746",
   "metadata": {},
   "outputs": [
    {
     "data": {
      "text/plain": [
       "array([0.00763775, 0.01146995, 0.01514261, 0.02288012, 0.02316686,\n",
       "       0.02432469, 0.02744764, 0.02797292, 0.03330604, 0.0360111 ,\n",
       "       0.03822639, 0.03861739, 0.03904131, 0.04049793, 0.04133717])"
      ]
     },
     "execution_count": 56,
     "metadata": {},
     "output_type": "execute_result"
    }
   ],
   "source": [
    "thresholds[:15]  # the threshold has been arranged from the lowest to the highest value"
   ]
  },
  {
   "cell_type": "markdown",
   "id": "001d19cf-120e-42c5-91bc-1f60f11d388f",
   "metadata": {},
   "source": [
    "NOTE:  \n",
    "The dataset is relatively balanced. So will will use ROC curve for evaluation. Rather than PR curve"
   ]
  },
  {
   "cell_type": "markdown",
   "id": "3ba82448-6f4c-4bda-b368-d3655d1e43e7",
   "metadata": {},
   "source": [
    "Visualization"
   ]
  },
  {
   "cell_type": "code",
   "execution_count": 60,
   "id": "2d82838b-9831-415f-a388-bc7ce14f3ca3",
   "metadata": {},
   "outputs": [],
   "source": [
    "# train and get pred probabilities\n",
    "final_pred_probas = cross_val_predict(final_model, X_train, y_train, cv=5, method=\"predict_proba\")\n",
    "pred_probas = final_pred_probas[:, 1]"
   ]
  },
  {
   "cell_type": "code",
   "execution_count": 61,
   "id": "87bf8a01-e33e-4d58-a1e9-57b6f83e02d1",
   "metadata": {},
   "outputs": [
    {
     "data": {
      "application/vnd.jupyter.widget-view+json": {
       "model_id": "0a10e46ccccf4ee2a9c0317227ff5499",
       "version_major": 2,
       "version_minor": 0
      },
      "text/plain": [
       "interactive(children=(FloatSlider(value=0.5, description='threshold', max=1.0, step=0.05), Output()), _dom_cla…"
      ]
     },
     "metadata": {},
     "output_type": "display_data"
    }
   ],
   "source": [
    "# Create an interactive plot to visualize change in threshold values\n",
    "def make_cnf_matrix(threshold):\n",
    "    # Get predictions\n",
    "    y_pred = pred_probas > threshold\n",
    "    \n",
    "    fig, axes = plt.subplots(1, 2, figsize=(12, 3))\n",
    "\n",
    "    # Classification report\n",
    "    print(classification_report(y_train, y_pred))\n",
    "    print(f\"Roc Auc score: {roc_auc_score(y_train, y_pred)}\")\n",
    "    \n",
    "    # Plot confusion matrix\n",
    "    ax1 = axes[0]\n",
    "    conf_mat = confusion_matrix(y_train, y_pred)\n",
    "    sns.heatmap(conf_mat, annot=True, fmt='d', cmap='viridis', cbar=False, ax=ax1)\n",
    "    ax1.set_xlabel('Predicted labels')\n",
    "    ax1.set_ylabel('True labels')\n",
    "    ax1.set_title('Confusion Matrix')\n",
    "\n",
    "    # Plot ROC curve\n",
    "    ax2 = axes[1]\n",
    "    \n",
    "    fpr, tpr, thresholds = roc_curve(y_train, pred_probas)\n",
    "    ax2.plot(fpr, tpr)\n",
    "    \n",
    "    idx = (thresholds <= threshold).argmax()\n",
    "    ax2.plot([fpr[idx]], [tpr[idx]], \"ko\", label=f\"Point at {threshold} threshold\")\n",
    "    ax2.plot([fpr[idx], fpr[idx]], [0, tpr[idx]], \"k:\")\n",
    "    ax2.plot([0.0, fpr[idx]], [tpr[idx], tpr[idx]], \"k:\")\n",
    "\n",
    "    ax2.set_xticks(np.arange(0, 1.1, 0.1))\n",
    "    ax2.set_yticks(np.arange(0, 1.1, 0.1))\n",
    "    ax2.set_xlabel('False Positive Rate (Fall-Out)')\n",
    "    ax2.set_ylabel('True Positive Rate (Recall)')\n",
    "    ax2.legend(loc=\"lower right\")\n",
    "    ax2.set_title('ROC curve ---- FPR vs TPR')\n",
    "\n",
    "    plt.tight_layout()\n",
    "    plt.show()\n",
    "\n",
    "thresh_widget = widgets.FloatSlider(min=0, max=1, value=0.5, step=0.05)\n",
    "\n",
    "interact(make_cnf_matrix, threshold=thresh_widget);\n"
   ]
  },
  {
   "cell_type": "markdown",
   "id": "9b22a0d5-533b-4e0f-befe-2b24fc4aa019",
   "metadata": {},
   "source": [
    "Im settling for 0.4 threshold value"
   ]
  },
  {
   "cell_type": "markdown",
   "id": "fde3eb58-4023-48ab-b9d7-b978303ce373",
   "metadata": {},
   "source": []
  },
  {
   "cell_type": "code",
   "execution_count": 62,
   "id": "d364b34b-8120-4ff7-b543-f8a74fbd9a34",
   "metadata": {},
   "outputs": [
    {
     "data": {
      "text/html": [
       "<style>#sk-container-id-3 {color: black;}#sk-container-id-3 pre{padding: 0;}#sk-container-id-3 div.sk-toggleable {background-color: white;}#sk-container-id-3 label.sk-toggleable__label {cursor: pointer;display: block;width: 100%;margin-bottom: 0;padding: 0.3em;box-sizing: border-box;text-align: center;}#sk-container-id-3 label.sk-toggleable__label-arrow:before {content: \"▸\";float: left;margin-right: 0.25em;color: #696969;}#sk-container-id-3 label.sk-toggleable__label-arrow:hover:before {color: black;}#sk-container-id-3 div.sk-estimator:hover label.sk-toggleable__label-arrow:before {color: black;}#sk-container-id-3 div.sk-toggleable__content {max-height: 0;max-width: 0;overflow: hidden;text-align: left;background-color: #f0f8ff;}#sk-container-id-3 div.sk-toggleable__content pre {margin: 0.2em;color: black;border-radius: 0.25em;background-color: #f0f8ff;}#sk-container-id-3 input.sk-toggleable__control:checked~div.sk-toggleable__content {max-height: 200px;max-width: 100%;overflow: auto;}#sk-container-id-3 input.sk-toggleable__control:checked~label.sk-toggleable__label-arrow:before {content: \"▾\";}#sk-container-id-3 div.sk-estimator input.sk-toggleable__control:checked~label.sk-toggleable__label {background-color: #d4ebff;}#sk-container-id-3 div.sk-label input.sk-toggleable__control:checked~label.sk-toggleable__label {background-color: #d4ebff;}#sk-container-id-3 input.sk-hidden--visually {border: 0;clip: rect(1px 1px 1px 1px);clip: rect(1px, 1px, 1px, 1px);height: 1px;margin: -1px;overflow: hidden;padding: 0;position: absolute;width: 1px;}#sk-container-id-3 div.sk-estimator {font-family: monospace;background-color: #f0f8ff;border: 1px dotted black;border-radius: 0.25em;box-sizing: border-box;margin-bottom: 0.5em;}#sk-container-id-3 div.sk-estimator:hover {background-color: #d4ebff;}#sk-container-id-3 div.sk-parallel-item::after {content: \"\";width: 100%;border-bottom: 1px solid gray;flex-grow: 1;}#sk-container-id-3 div.sk-label:hover label.sk-toggleable__label {background-color: #d4ebff;}#sk-container-id-3 div.sk-serial::before {content: \"\";position: absolute;border-left: 1px solid gray;box-sizing: border-box;top: 0;bottom: 0;left: 50%;z-index: 0;}#sk-container-id-3 div.sk-serial {display: flex;flex-direction: column;align-items: center;background-color: white;padding-right: 0.2em;padding-left: 0.2em;position: relative;}#sk-container-id-3 div.sk-item {position: relative;z-index: 1;}#sk-container-id-3 div.sk-parallel {display: flex;align-items: stretch;justify-content: center;background-color: white;position: relative;}#sk-container-id-3 div.sk-item::before, #sk-container-id-3 div.sk-parallel-item::before {content: \"\";position: absolute;border-left: 1px solid gray;box-sizing: border-box;top: 0;bottom: 0;left: 50%;z-index: -1;}#sk-container-id-3 div.sk-parallel-item {display: flex;flex-direction: column;z-index: 1;position: relative;background-color: white;}#sk-container-id-3 div.sk-parallel-item:first-child::after {align-self: flex-end;width: 50%;}#sk-container-id-3 div.sk-parallel-item:last-child::after {align-self: flex-start;width: 50%;}#sk-container-id-3 div.sk-parallel-item:only-child::after {width: 0;}#sk-container-id-3 div.sk-dashed-wrapped {border: 1px dashed gray;margin: 0 0.4em 0.5em 0.4em;box-sizing: border-box;padding-bottom: 0.4em;background-color: white;}#sk-container-id-3 div.sk-label label {font-family: monospace;font-weight: bold;display: inline-block;line-height: 1.2em;}#sk-container-id-3 div.sk-label-container {text-align: center;}#sk-container-id-3 div.sk-container {/* jupyter's `normalize.less` sets `[hidden] { display: none; }` but bootstrap.min.css set `[hidden] { display: none !important; }` so we also need the `!important` here to be able to override the default hidden behavior on the sphinx rendered scikit-learn.org. See: https://github.com/scikit-learn/scikit-learn/issues/21755 */display: inline-block !important;position: relative;}#sk-container-id-3 div.sk-text-repr-fallback {display: none;}</style><div id=\"sk-container-id-3\" class=\"sk-top-container\"><div class=\"sk-text-repr-fallback\"><pre>Pipeline(steps=[(&#x27;prep&#x27;,\n",
       "                 ColumnTransformer(transformers=[(&#x27;num&#x27;,\n",
       "                                                  Pipeline(steps=[(&#x27;scaler&#x27;,\n",
       "                                                                   StandardScaler())]),\n",
       "                                                  [&#x27;age&#x27;, &#x27;cp&#x27;, &#x27;trestbps&#x27;,\n",
       "                                                   &#x27;chol&#x27;, &#x27;restecg&#x27;, &#x27;thalach&#x27;,\n",
       "                                                   &#x27;oldpeak&#x27;, &#x27;slope&#x27;, &#x27;ca&#x27;,\n",
       "                                                   &#x27;thal&#x27;]),\n",
       "                                                 (&#x27;cats&#x27;,\n",
       "                                                  Pipeline(steps=[(&#x27;onehot&#x27;,\n",
       "                                                                   OneHotEncoder(sparse_output=False))]),\n",
       "                                                  [&#x27;sex&#x27;, &#x27;fbs&#x27;, &#x27;exang&#x27;])])),\n",
       "                (&#x27;logreg&#x27;,\n",
       "                 LogisticRegression(C=0.2, l1_ratio=0.6, max_iter=500,\n",
       "                                    n_jobs=-1, penalty=&#x27;elasticnet&#x27;,\n",
       "                                    random_state=42, solver=&#x27;saga&#x27;))])</pre><b>In a Jupyter environment, please rerun this cell to show the HTML representation or trust the notebook. <br />On GitHub, the HTML representation is unable to render, please try loading this page with nbviewer.org.</b></div><div class=\"sk-container\" hidden><div class=\"sk-item sk-dashed-wrapped\"><div class=\"sk-label-container\"><div class=\"sk-label sk-toggleable\"><input class=\"sk-toggleable__control sk-hidden--visually\" id=\"sk-estimator-id-17\" type=\"checkbox\" ><label for=\"sk-estimator-id-17\" class=\"sk-toggleable__label sk-toggleable__label-arrow\">Pipeline</label><div class=\"sk-toggleable__content\"><pre>Pipeline(steps=[(&#x27;prep&#x27;,\n",
       "                 ColumnTransformer(transformers=[(&#x27;num&#x27;,\n",
       "                                                  Pipeline(steps=[(&#x27;scaler&#x27;,\n",
       "                                                                   StandardScaler())]),\n",
       "                                                  [&#x27;age&#x27;, &#x27;cp&#x27;, &#x27;trestbps&#x27;,\n",
       "                                                   &#x27;chol&#x27;, &#x27;restecg&#x27;, &#x27;thalach&#x27;,\n",
       "                                                   &#x27;oldpeak&#x27;, &#x27;slope&#x27;, &#x27;ca&#x27;,\n",
       "                                                   &#x27;thal&#x27;]),\n",
       "                                                 (&#x27;cats&#x27;,\n",
       "                                                  Pipeline(steps=[(&#x27;onehot&#x27;,\n",
       "                                                                   OneHotEncoder(sparse_output=False))]),\n",
       "                                                  [&#x27;sex&#x27;, &#x27;fbs&#x27;, &#x27;exang&#x27;])])),\n",
       "                (&#x27;logreg&#x27;,\n",
       "                 LogisticRegression(C=0.2, l1_ratio=0.6, max_iter=500,\n",
       "                                    n_jobs=-1, penalty=&#x27;elasticnet&#x27;,\n",
       "                                    random_state=42, solver=&#x27;saga&#x27;))])</pre></div></div></div><div class=\"sk-serial\"><div class=\"sk-item sk-dashed-wrapped\"><div class=\"sk-label-container\"><div class=\"sk-label sk-toggleable\"><input class=\"sk-toggleable__control sk-hidden--visually\" id=\"sk-estimator-id-18\" type=\"checkbox\" ><label for=\"sk-estimator-id-18\" class=\"sk-toggleable__label sk-toggleable__label-arrow\">prep: ColumnTransformer</label><div class=\"sk-toggleable__content\"><pre>ColumnTransformer(transformers=[(&#x27;num&#x27;,\n",
       "                                 Pipeline(steps=[(&#x27;scaler&#x27;, StandardScaler())]),\n",
       "                                 [&#x27;age&#x27;, &#x27;cp&#x27;, &#x27;trestbps&#x27;, &#x27;chol&#x27;, &#x27;restecg&#x27;,\n",
       "                                  &#x27;thalach&#x27;, &#x27;oldpeak&#x27;, &#x27;slope&#x27;, &#x27;ca&#x27;,\n",
       "                                  &#x27;thal&#x27;]),\n",
       "                                (&#x27;cats&#x27;,\n",
       "                                 Pipeline(steps=[(&#x27;onehot&#x27;,\n",
       "                                                  OneHotEncoder(sparse_output=False))]),\n",
       "                                 [&#x27;sex&#x27;, &#x27;fbs&#x27;, &#x27;exang&#x27;])])</pre></div></div></div><div class=\"sk-parallel\"><div class=\"sk-parallel-item\"><div class=\"sk-item\"><div class=\"sk-label-container\"><div class=\"sk-label sk-toggleable\"><input class=\"sk-toggleable__control sk-hidden--visually\" id=\"sk-estimator-id-19\" type=\"checkbox\" ><label for=\"sk-estimator-id-19\" class=\"sk-toggleable__label sk-toggleable__label-arrow\">num</label><div class=\"sk-toggleable__content\"><pre>[&#x27;age&#x27;, &#x27;cp&#x27;, &#x27;trestbps&#x27;, &#x27;chol&#x27;, &#x27;restecg&#x27;, &#x27;thalach&#x27;, &#x27;oldpeak&#x27;, &#x27;slope&#x27;, &#x27;ca&#x27;, &#x27;thal&#x27;]</pre></div></div></div><div class=\"sk-serial\"><div class=\"sk-item\"><div class=\"sk-serial\"><div class=\"sk-item\"><div class=\"sk-estimator sk-toggleable\"><input class=\"sk-toggleable__control sk-hidden--visually\" id=\"sk-estimator-id-20\" type=\"checkbox\" ><label for=\"sk-estimator-id-20\" class=\"sk-toggleable__label sk-toggleable__label-arrow\">StandardScaler</label><div class=\"sk-toggleable__content\"><pre>StandardScaler()</pre></div></div></div></div></div></div></div></div><div class=\"sk-parallel-item\"><div class=\"sk-item\"><div class=\"sk-label-container\"><div class=\"sk-label sk-toggleable\"><input class=\"sk-toggleable__control sk-hidden--visually\" id=\"sk-estimator-id-21\" type=\"checkbox\" ><label for=\"sk-estimator-id-21\" class=\"sk-toggleable__label sk-toggleable__label-arrow\">cats</label><div class=\"sk-toggleable__content\"><pre>[&#x27;sex&#x27;, &#x27;fbs&#x27;, &#x27;exang&#x27;]</pre></div></div></div><div class=\"sk-serial\"><div class=\"sk-item\"><div class=\"sk-serial\"><div class=\"sk-item\"><div class=\"sk-estimator sk-toggleable\"><input class=\"sk-toggleable__control sk-hidden--visually\" id=\"sk-estimator-id-22\" type=\"checkbox\" ><label for=\"sk-estimator-id-22\" class=\"sk-toggleable__label sk-toggleable__label-arrow\">OneHotEncoder</label><div class=\"sk-toggleable__content\"><pre>OneHotEncoder(sparse_output=False)</pre></div></div></div></div></div></div></div></div></div></div><div class=\"sk-item\"><div class=\"sk-estimator sk-toggleable\"><input class=\"sk-toggleable__control sk-hidden--visually\" id=\"sk-estimator-id-23\" type=\"checkbox\" ><label for=\"sk-estimator-id-23\" class=\"sk-toggleable__label sk-toggleable__label-arrow\">LogisticRegression</label><div class=\"sk-toggleable__content\"><pre>LogisticRegression(C=0.2, l1_ratio=0.6, max_iter=500, n_jobs=-1,\n",
       "                   penalty=&#x27;elasticnet&#x27;, random_state=42, solver=&#x27;saga&#x27;)</pre></div></div></div></div></div></div></div>"
      ],
      "text/plain": [
       "Pipeline(steps=[('prep',\n",
       "                 ColumnTransformer(transformers=[('num',\n",
       "                                                  Pipeline(steps=[('scaler',\n",
       "                                                                   StandardScaler())]),\n",
       "                                                  ['age', 'cp', 'trestbps',\n",
       "                                                   'chol', 'restecg', 'thalach',\n",
       "                                                   'oldpeak', 'slope', 'ca',\n",
       "                                                   'thal']),\n",
       "                                                 ('cats',\n",
       "                                                  Pipeline(steps=[('onehot',\n",
       "                                                                   OneHotEncoder(sparse_output=False))]),\n",
       "                                                  ['sex', 'fbs', 'exang'])])),\n",
       "                ('logreg',\n",
       "                 LogisticRegression(C=0.2, l1_ratio=0.6, max_iter=500,\n",
       "                                    n_jobs=-1, penalty='elasticnet',\n",
       "                                    random_state=42, solver='saga'))])"
      ]
     },
     "execution_count": 62,
     "metadata": {},
     "output_type": "execute_result"
    }
   ],
   "source": [
    "# Now fit tthe data\n",
    "final_model.fit(X_train, y_train)"
   ]
  },
  {
   "cell_type": "code",
   "execution_count": 64,
   "id": "51a6b7fc-0cf4-418a-b329-89e9ad7a8883",
   "metadata": {},
   "outputs": [
    {
     "data": {
      "text/plain": [
       "array([0.22066802, 0.26904663, 0.02977006, 0.64345544, 0.6772934 ])"
      ]
     },
     "execution_count": 64,
     "metadata": {},
     "output_type": "execute_result"
    }
   ],
   "source": [
    "### Get the prediction probabilities of the test set\n",
    "test_pred_probas = final_model.predict_proba(X_test)[:, 1]\n",
    "test_pred_probas[:5]"
   ]
  },
  {
   "cell_type": "code",
   "execution_count": 65,
   "id": "179f203c-dfce-4cd8-ac6c-95411edf7548",
   "metadata": {},
   "outputs": [
    {
     "data": {
      "text/plain": [
       "array([False, False, False,  True,  True])"
      ]
     },
     "execution_count": 65,
     "metadata": {},
     "output_type": "execute_result"
    }
   ],
   "source": [
    "# Test predictions considering the threshold value i.e 0.4\n",
    "test_preds = test_pred_probas > 0.4\n",
    "test_preds[:5]"
   ]
  },
  {
   "cell_type": "code",
   "execution_count": 66,
   "id": "b8f92486-edbe-41f2-9ff9-71fc03949637",
   "metadata": {},
   "outputs": [
    {
     "name": "stdout",
     "output_type": "stream",
     "text": [
      "              precision    recall  f1-score   support\n",
      "\n",
      "           0       0.95      0.64      0.77        28\n",
      "           1       0.76      0.97      0.85        33\n",
      "\n",
      "    accuracy                           0.82        61\n",
      "   macro avg       0.85      0.81      0.81        61\n",
      "weighted avg       0.85      0.82      0.81        61\n",
      "\n"
     ]
    },
    {
     "data": {
      "image/png": "[encoded data removed]",
      "text/plain": [
       "<Figure size 500x300 with 2 Axes>"
      ]
     },
     "metadata": {},
     "output_type": "display_data"
    }
   ],
   "source": [
    "# Classification report\n",
    "print(classification_report(y_test, test_preds))\n",
    "conf_mat(y_test, test_preds)"
   ]
  },
  {
   "cell_type": "markdown",
   "id": "a862cf92-85f8-44f0-8bd0-bd87b401dd53",
   "metadata": {},
   "source": [
    "97% recall, the model seems to be performing well. We only misclassified one patient that has diabetes as not having diabetes"
   ]
  },
  {
   "cell_type": "code",
   "execution_count": 49,
   "id": "6fa6d378-432e-4613-9638-36b5e9ede94c",
   "metadata": {},
   "outputs": [],
   "source": [
    "# # Pickle the final model\n",
    "\n",
    "# with open (\"final_log_reg_model.pkl\", \"wb\") as f:\n",
    "#     pickle.dump(final_model, f)"
   ]
  },
  {
   "cell_type": "markdown",
   "id": "64143689-a1e3-4c3f-a68e-0c5da8f1c002",
   "metadata": {},
   "source": [
    "### Communication"
   ]
  },
  {
   "cell_type": "code",
   "execution_count": 32,
   "id": "a3bfd434-4885-49a9-aa93-5a3f8d66892b",
   "metadata": {},
   "outputs": [
    {
     "data": {
      "text/plain": [
       "{'prep': ColumnTransformer(transformers=[('num',\n",
       "                                  Pipeline(steps=[('scaler', StandardScaler())]),\n",
       "                                  ['age', 'cp', 'trestbps', 'chol', 'restecg',\n",
       "                                   'thalach', 'oldpeak', 'slope', 'ca',\n",
       "                                   'thal']),\n",
       "                                 ('cats',\n",
       "                                  Pipeline(steps=[('onehot',\n",
       "                                                   OneHotEncoder(sparse_output=False))]),\n",
       "                                  ['sex', 'fbs', 'exang'])]),\n",
       " 'logreg': LogisticRegression(C=0.2, l1_ratio=0.6, max_iter=500, n_jobs=-1,\n",
       "                    penalty='elasticnet', random_state=42, solver='saga')}"
      ]
     },
     "execution_count": 32,
     "metadata": {},
     "output_type": "execute_result"
    }
   ],
   "source": [
    "final_model.named_steps"
   ]
  },
  {
   "cell_type": "code",
   "execution_count": 35,
   "id": "0bca5d60-7a5f-4ea5-b397-cfce6c158f32",
   "metadata": {},
   "outputs": [
    {
     "name": "stdout",
     "output_type": "stream",
     "text": [
      "[ 0.          0.75938403 -0.14022855 -0.21111221  0.15898583  0.40224432\n",
      " -0.57492549  0.18007085 -0.45075955 -0.47252521  0.35580621 -0.3523334\n",
      "  0.          0.          0.28568334 -0.28214094]\n"
     ]
    }
   ],
   "source": [
    "# Get the featuers and their importances\n",
    "features = final_model.named_steps[\"prep\"].get_feature_names_out()\n",
    "importances = final_model.named_steps['logreg'].coef_[0]\n",
    "print(importances)"
   ]
  },
  {
   "cell_type": "code",
   "execution_count": 41,
   "id": "d9f8b228-e809-4fd5-a8a6-4f9e09d42acc",
   "metadata": {},
   "outputs": [
    {
     "data": {
      "text/plain": [
       "(-0.574925488945282, 0.7593840262908779)"
      ]
     },
     "execution_count": 41,
     "metadata": {},
     "output_type": "execute_result"
    }
   ],
   "source": [
    "# Get the minimum and maximum and maximum importances\n",
    "importances.min(), importances.max()"
   ]
  },
  {
   "cell_type": "markdown",
   "id": "12ad49cf-b571-492e-88bf-da8be84f9141",
   "metadata": {},
   "source": [
    "The coefficients of a logistic regression model are not the coefficient as we see in a linear regression.\n",
    "Logistic regression is the linear equation wrapped around a sigmoid finction\n",
    "\n",
    "So we have to take the exponential and get the odds ratio"
   ]
  },
  {
   "cell_type": "code",
   "execution_count": 38,
   "id": "03865201-0e3b-4c5c-89cb-4a56f75cfc1e",
   "metadata": {},
   "outputs": [
    {
     "data": {
      "text/plain": [
       "num__oldpeak     0.562747\n",
       "num__thal        0.623426\n",
       "num__ca          0.637144\n",
       "cats__sex_1      0.703046\n",
       "cats__exang_1    0.754167\n",
       "dtype: float64"
      ]
     },
     "execution_count": 38,
     "metadata": {},
     "output_type": "execute_result"
    }
   ],
   "source": [
    "odds_ratios = pd.Series(np.exp(importances), index=features).sort_values()\n",
    "odds_ratios.head()"
   ]
  },
  {
   "cell_type": "code",
   "execution_count": 39,
   "id": "2839509a-dea1-494e-8e1a-506b22a1a0b3",
   "metadata": {},
   "outputs": [
    {
     "data": {
      "text/plain": [
       "(0.5627467981023041, 2.136959504135115)"
      ]
     },
     "execution_count": 39,
     "metadata": {},
     "output_type": "execute_result"
    }
   ],
   "source": [
    "odds_ratios.min(), odds_ratios.max()"
   ]
  },
  {
   "cell_type": "code",
   "execution_count": 49,
   "id": "bc0da060-42ea-46eb-9c34-7ce87f49a236",
   "metadata": {},
   "outputs": [
    {
     "data": {
      "image/png": "[encoded data removed]",
      "text/plain": [
       "<Figure size 640x480 with 1 Axes>"
      ]
     },
     "metadata": {},
     "output_type": "display_data"
    }
   ],
   "source": [
    "# Horizontal bar chart, five largest coefficients\n",
    "odds_ratios.tail(17).plot(\n",
    "    kind='barh', xlabel=(\"Odds ratio\")\n",
    ")\n",
    "plt.axvline(x=1, color='red', linestyle='--');"
   ]
  },
  {
   "cell_type": "markdown",
   "id": "349f218a-8a75-4cba-9c48-d23fbc849e7a",
   "metadata": {},
   "source": [
    "+ cp(chest pain type) is the most predictive of heart diseas\n",
    "+ The odds of having a heart disease is when you have chest pain is 2 times greater than when you have any other symptom "
   ]
  }
 ],
 "metadata": {
  "kernelspec": {
   "display_name": "jupynoteKernel",
   "language": "python",
   "name": "jupynotekernel"
  },
  "language_info": {
   "codemirror_mode": {
    "name": "ipython",
    "version": 3
   },
   "file_extension": ".py",
   "mimetype": "text/x-python",
   "name": "python",
   "nbconvert_exporter": "python",
   "pygments_lexer": "ipython3",
   "version": "3.10.12"
  },
  "widgets": {
   "application/vnd.jupyter.widget-state+json": {
    "state": {
     "005b562983f245e892ddd1eaebc41b39": {
      "model_module": "@jupyter-widgets/controls",
      "model_module_version": "2.0.0",
      "model_name": "FloatSliderModel",
      "state": {
       "behavior": "drag-tap",
       "description": "threshold",
       "layout": "IPY_MODEL_00b6a9d64914429bb2be826834a0cb07",
       "max": 1,
       "step": 0.05,
       "style": "IPY_MODEL_f7d1d5993e5b45c782c5c95766bf7c16",
       "value": 0.45
      }
     },
     "00b6a9d64914429bb2be826834a0cb07": {
      "model_module": "@jupyter-widgets/base",
      "model_module_version": "2.0.0",
      "model_name": "LayoutModel",
      "state": {}
     },
     "033059f3f62e4ac0ac4341b00e58e877": {
      "model_module": "@jupyter-widgets/output",
      "model_module_version": "1.0.0",
      "model_name": "OutputModel",
      "state": {
       "layout": "IPY_MODEL_205b2d6834de4835b28f30e3c4020448",
       "outputs": [
        {
         "name": "stdout",
         "output_type": "stream",
         "text": "              precision    recall  f1-score   support\n\n           0       0.87      0.75      0.81       110\n           1       0.82      0.91      0.86       131\n\n    accuracy                           0.84       241\n   macro avg       0.84      0.83      0.83       241\nweighted avg       0.84      0.84      0.84       241\n\nRoc Auc score: 0.8314712005551699\n"
        },
        {
         "data": {
          "image/png": "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",
          "text/plain": "<Figure size 1200x300 with 2 Axes>"
         },
         "metadata": {},
         "output_type": "display_data"
        }
       ]
      }
     },
     "06446546e509420bad37939f94333358": {
      "model_module": "@jupyter-widgets/base",
      "model_module_version": "2.0.0",
      "model_name": "LayoutModel",
      "state": {}
     },
     "0a10e46ccccf4ee2a9c0317227ff5499": {
      "model_module": "@jupyter-widgets/controls",
      "model_module_version": "2.0.0",
      "model_name": "VBoxModel",
      "state": {
       "_dom_classes": [
        "widget-interact"
       ],
       "children": [
        "IPY_MODEL_8f5f94db75014cb69b017ad447fcecf9",
        "IPY_MODEL_227a94db3f0b49f7ad623c73dd809a91"
       ],
       "layout": "IPY_MODEL_9fc544a834be42db874a18cc683c07bc"
      }
     },
     "135b9984d62c4139b2c6264d1d0bb110": {
      "model_module": "@jupyter-widgets/base",
      "model_module_version": "2.0.0",
      "model_name": "LayoutModel",
      "state": {}
     },
     "205b2d6834de4835b28f30e3c4020448": {
      "model_module": "@jupyter-widgets/base",
      "model_module_version": "2.0.0",
      "model_name": "LayoutModel",
      "state": {}
     },
     "227a94db3f0b49f7ad623c73dd809a91": {
      "model_module": "@jupyter-widgets/output",
      "model_module_version": "1.0.0",
      "model_name": "OutputModel",
      "state": {
       "layout": "IPY_MODEL_80832bf95cbc4a448b476e24288228cb",
       "outputs": [
        {
         "name": "stdout",
         "output_type": "stream",
         "text": "              precision    recall  f1-score   support\n\n           0       0.87      0.75      0.81       110\n           1       0.82      0.91      0.86       131\n\n    accuracy                           0.84       241\n   macro avg       0.84      0.83      0.83       241\nweighted avg       0.84      0.84      0.84       241\n\nRoc Auc score: 0.8314712005551699\n"
        },
        {
         "data": {
          "image/png": "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",
          "text/plain": "<Figure size 1200x300 with 2 Axes>"
         },
         "metadata": {},
         "output_type": "display_data"
        }
       ]
      }
     },
     "29b753f49c31455da8bd01f8cfa9d3f6": {
      "model_module": "@jupyter-widgets/output",
      "model_module_version": "1.0.0",
      "model_name": "OutputModel",
      "state": {
       "layout": "IPY_MODEL_b1d55ee8a379441191bb98908baf3b9d",
       "outputs": [
        {
         "name": "stdout",
         "output_type": "stream",
         "text": "              precision    recall  f1-score   support\n\n           0       0.88      0.76      0.82       110\n           1       0.82      0.91      0.86       131\n\n    accuracy                           0.84       241\n   macro avg       0.85      0.84      0.84       241\nweighted avg       0.85      0.84      0.84       241\n\nRoc Auc score: 0.8360166551006245\n"
        },
        {
         "data": {
          "image/png": "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",
          "text/plain": "<Figure size 1200x400 with 2 Axes>"
         },
         "metadata": {},
         "output_type": "display_data"
        }
       ]
      }
     },
     "2c4d961ee4674b8f891c9de5db87f3b2": {
      "model_module": "@jupyter-widgets/controls",
      "model_module_version": "2.0.0",
      "model_name": "SliderStyleModel",
      "state": {
       "description_width": ""
      }
     },
     "300cd5435c174679905fe8357e690e6b": {
      "model_module": "@jupyter-widgets/base",
      "model_module_version": "2.0.0",
      "model_name": "LayoutModel",
      "state": {}
     },
     "3b107cc7cb3b4e0aad15ea0b7729f1ed": {
      "model_module": "@jupyter-widgets/base",
      "model_module_version": "2.0.0",
      "model_name": "LayoutModel",
      "state": {}
     },
     "4a36598393d44baf94dc40fdd78c4702": {
      "model_module": "@jupyter-widgets/controls",
      "model_module_version": "2.0.0",
      "model_name": "VBoxModel",
      "state": {
       "_dom_classes": [
        "widget-interact"
       ],
       "children": [
        "IPY_MODEL_005b562983f245e892ddd1eaebc41b39",
        "IPY_MODEL_033059f3f62e4ac0ac4341b00e58e877"
       ],
       "layout": "IPY_MODEL_06446546e509420bad37939f94333358"
      }
     },
     "4fc83b9eb6d2449d8821b59138ef4c6d": {
      "model_module": "@jupyter-widgets/controls",
      "model_module_version": "2.0.0",
      "model_name": "FloatSliderModel",
      "state": {
       "behavior": "drag-tap",
       "description": "threshold",
       "layout": "IPY_MODEL_135b9984d62c4139b2c6264d1d0bb110",
       "max": 1,
       "step": 0.05,
       "style": "IPY_MODEL_b5c3bd32b9e745e1ab8afdb5dede0df7",
       "value": 0.5
      }
     },
     "62fb34138dc24fda90e19bb2187c72f5": {
      "model_module": "@jupyter-widgets/controls",
      "model_module_version": "2.0.0",
      "model_name": "VBoxModel",
      "state": {
       "_dom_classes": [
        "widget-interact"
       ],
       "children": [
        "IPY_MODEL_4fc83b9eb6d2449d8821b59138ef4c6d",
        "IPY_MODEL_29b753f49c31455da8bd01f8cfa9d3f6"
       ],
       "layout": "IPY_MODEL_3b107cc7cb3b4e0aad15ea0b7729f1ed"
      }
     },
     "74743557c5354000a728e7b7757cbf11": {
      "model_module": "@jupyter-widgets/controls",
      "model_module_version": "2.0.0",
      "model_name": "VBoxModel",
      "state": {
       "_dom_classes": [
        "widget-interact"
       ],
       "children": [
        "IPY_MODEL_946ad3e8a00c49889ea9cc7d93706a07",
        "IPY_MODEL_8db8ee47a8c04c2fbb283a007fe7680f"
       ],
       "layout": "IPY_MODEL_8c1dd34b38644e21aa8353ebf7bb941b"
      }
     },
     "80832bf95cbc4a448b476e24288228cb": {
      "model_module": "@jupyter-widgets/base",
      "model_module_version": "2.0.0",
      "model_name": "LayoutModel",
      "state": {}
     },
     "8c1dd34b38644e21aa8353ebf7bb941b": {
      "model_module": "@jupyter-widgets/base",
      "model_module_version": "2.0.0",
      "model_name": "LayoutModel",
      "state": {}
     },
     "8db8ee47a8c04c2fbb283a007fe7680f": {
      "model_module": "@jupyter-widgets/output",
      "model_module_version": "1.0.0",
      "model_name": "OutputModel",
      "state": {
       "layout": "IPY_MODEL_d75ea4f800dc40a2957c6fd62a1feaf0",
       "outputs": [
        {
         "name": "stdout",
         "output_type": "stream",
         "text": "              precision    recall  f1-score   support\n\n           0       0.88      0.76      0.82       110\n           1       0.82      0.91      0.86       131\n\n    accuracy                           0.84       241\n   macro avg       0.85      0.84      0.84       241\nweighted avg       0.85      0.84      0.84       241\n\nRoc Auc score: 0.8360166551006245\n"
        },
        {
         "data": {
          "image/png": "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",
          "text/plain": "<Figure size 1200x400 with 2 Axes>"
         },
         "metadata": {},
         "output_type": "display_data"
        }
       ]
      }
     },
     "8f5f94db75014cb69b017ad447fcecf9": {
      "model_module": "@jupyter-widgets/controls",
      "model_module_version": "2.0.0",
      "model_name": "FloatSliderModel",
      "state": {
       "behavior": "drag-tap",
       "description": "threshold",
       "layout": "IPY_MODEL_cd7ddda5f91f4d40869a4b606bd75976",
       "max": 1,
       "step": 0.05,
       "style": "IPY_MODEL_2c4d961ee4674b8f891c9de5db87f3b2",
       "value": 0.45
      }
     },
     "946ad3e8a00c49889ea9cc7d93706a07": {
      "model_module": "@jupyter-widgets/controls",
      "model_module_version": "2.0.0",
      "model_name": "FloatSliderModel",
      "state": {
       "behavior": "drag-tap",
       "description": "threshold",
       "layout": "IPY_MODEL_300cd5435c174679905fe8357e690e6b",
       "max": 1,
       "step": 0.05,
       "style": "IPY_MODEL_fbfe946126b149d99a6c555873c4fe13",
       "value": 0.5
      }
     },
     "9fc544a834be42db874a18cc683c07bc": {
      "model_module": "@jupyter-widgets/base",
      "model_module_version": "2.0.0",
      "model_name": "LayoutModel",
      "state": {}
     },
     "b1d55ee8a379441191bb98908baf3b9d": {
      "model_module": "@jupyter-widgets/base",
      "model_module_version": "2.0.0",
      "model_name": "LayoutModel",
      "state": {}
     },
     "b5c3bd32b9e745e1ab8afdb5dede0df7": {
      "model_module": "@jupyter-widgets/controls",
      "model_module_version": "2.0.0",
      "model_name": "SliderStyleModel",
      "state": {
       "description_width": ""
      }
     },
     "cd7ddda5f91f4d40869a4b606bd75976": {
      "model_module": "@jupyter-widgets/base",
      "model_module_version": "2.0.0",
      "model_name": "LayoutModel",
      "state": {}
     },
     "d75ea4f800dc40a2957c6fd62a1feaf0": {
      "model_module": "@jupyter-widgets/base",
      "model_module_version": "2.0.0",
      "model_name": "LayoutModel",
      "state": {}
     },
     "f7d1d5993e5b45c782c5c95766bf7c16": {
      "model_module": "@jupyter-widgets/controls",
      "model_module_version": "2.0.0",
      "model_name": "SliderStyleModel",
      "state": {
       "description_width": ""
      }
     },
     "fbfe946126b149d99a6c555873c4fe13": {
      "model_module": "@jupyter-widgets/controls",
      "model_module_version": "2.0.0",
      "model_name": "SliderStyleModel",
      "state": {
       "description_width": ""
      }
     }
    },
    "version_major": 2,
    "version_minor": 0
   }
  }
 },
 "nbformat": 4,
 "nbformat_minor": 5
}
